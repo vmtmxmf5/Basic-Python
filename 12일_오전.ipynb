{
  "nbformat": 4,
  "nbformat_minor": 0,
  "metadata": {
    "colab": {
      "name": "12일 오전.ipynb",
      "provenance": [],
      "collapsed_sections": [],
      "toc_visible": true,
      "authorship_tag": "ABX9TyOFIXLYdZbpml6jS0oxqMVI"
    },
    "kernelspec": {
      "name": "python3",
      "display_name": "Python 3"
    },
    "language_info": {
      "name": "python"
    }
  },
  "cells": [
    {
      "cell_type": "markdown",
      "metadata": {
        "id": "HEBvKmPMQ5z_"
      },
      "source": [
        "\\# 큰글씨\n",
        "\n",
        "\\## 두번째로 큰글씨\n",
        "\n",
        "\\### 세번째로 큰글씨\n",
        "\n",
        "\\#### 오오오\n",
        "\n",
        "\\##### 다섯번째 가즈아\n",
        "\n",
        "\\###### 마지막 가즈아\n",
        "\n",
        "#colab - google drive 연동\n"
      ]
    },
    {
      "cell_type": "code",
      "metadata": {
        "id": "K2_z3I4eOaRS"
      },
      "source": [
        "from google.colab import drive\n",
        "drive.mount('\\content\\drive')"
      ],
      "execution_count": null,
      "outputs": []
    },
    {
      "cell_type": "code",
      "metadata": {
        "id": "rk3S6XwyOtMQ"
      },
      "source": [
        "!ls\n",
        "!pwd\n",
        "%hist\n",
        "!nl /etc/issue.net\n",
        "!nl /proc/cpuinfo\n",
        "!nl /proc/meminfo\n",
        "!df -h"
      ],
      "execution_count": null,
      "outputs": []
    },
    {
      "cell_type": "markdown",
      "metadata": {
        "id": "T2PiveV3Rczg"
      },
      "source": [
        "pwd ==> print working directory 현재 위치 확인\n",
        "\n",
        "%hist ==> 히스토리 기록 열람\n",
        "\n",
        "nl ==> 우분투 확인\n",
        "\n",
        "df ==> disk free. /dev/sda1 하드의 약자"
      ]
    },
    {
      "cell_type": "code",
      "metadata": {
        "id": "7oPuC38bPnlK"
      },
      "source": [
        "import platform\n",
        "import time\n",
        "platform.platform()"
      ],
      "execution_count": 4,
      "outputs": []
    },
    {
      "cell_type": "code",
      "metadata": {
        "id": "6OUzUziKV-uY"
      },
      "source": [
        ""
      ],
      "execution_count": 22,
      "outputs": []
    },
    {
      "cell_type": "code",
      "metadata": {
        "id": "QMLePGhyWG02"
      },
      "source": [
        ""
      ],
      "execution_count": 23,
      "outputs": []
    }
  ]
}