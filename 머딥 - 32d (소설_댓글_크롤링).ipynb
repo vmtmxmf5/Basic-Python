{
  "nbformat": 4,
  "nbformat_minor": 0,
  "metadata": {
    "colab": {
      "name": "머딥 - 32d (소설 댓글 크롤링).ipynb",
      "provenance": [],
      "collapsed_sections": [],
      "authorship_tag": "ABX9TyP3Sy8X/BDDQxxc/ka/62I6"
    },
    "kernelspec": {
      "display_name": "Python 3",
      "name": "python3"
    },
    "language_info": {
      "name": "python"
    },
    "widgets": {
      "application/vnd.jupyter.widget-state+json": {
        "57ead2b3cf9a4130b82660eb8dee4864": {
          "model_module": "@jupyter-widgets/controls",
          "model_name": "HBoxModel",
          "state": {
            "_view_name": "HBoxView",
            "_dom_classes": [],
            "_model_name": "HBoxModel",
            "_view_module": "@jupyter-widgets/controls",
            "_model_module_version": "1.5.0",
            "_view_count": null,
            "_view_module_version": "1.5.0",
            "box_style": "",
            "layout": "IPY_MODEL_2feab9d7075c4e0fb5594a13b8adc4d9",
            "_model_module": "@jupyter-widgets/controls",
            "children": [
              "IPY_MODEL_316c0951ff0a40c9aba997c6f9f706c5",
              "IPY_MODEL_8757bc15df87415895568bfdae6febdb"
            ]
          }
        },
        "2feab9d7075c4e0fb5594a13b8adc4d9": {
          "model_module": "@jupyter-widgets/base",
          "model_name": "LayoutModel",
          "state": {
            "_view_name": "LayoutView",
            "grid_template_rows": null,
            "right": null,
            "justify_content": null,
            "_view_module": "@jupyter-widgets/base",
            "overflow": null,
            "_model_module_version": "1.2.0",
            "_view_count": null,
            "flex_flow": null,
            "width": null,
            "min_width": null,
            "border": null,
            "align_items": null,
            "bottom": null,
            "_model_module": "@jupyter-widgets/base",
            "top": null,
            "grid_column": null,
            "overflow_y": null,
            "overflow_x": null,
            "grid_auto_flow": null,
            "grid_area": null,
            "grid_template_columns": null,
            "flex": null,
            "_model_name": "LayoutModel",
            "justify_items": null,
            "grid_row": null,
            "max_height": null,
            "align_content": null,
            "visibility": null,
            "align_self": null,
            "height": null,
            "min_height": null,
            "padding": null,
            "grid_auto_rows": null,
            "grid_gap": null,
            "max_width": null,
            "order": null,
            "_view_module_version": "1.2.0",
            "grid_template_areas": null,
            "object_position": null,
            "object_fit": null,
            "grid_auto_columns": null,
            "margin": null,
            "display": null,
            "left": null
          }
        },
        "316c0951ff0a40c9aba997c6f9f706c5": {
          "model_module": "@jupyter-widgets/controls",
          "model_name": "FloatProgressModel",
          "state": {
            "_view_name": "ProgressView",
            "style": "IPY_MODEL_0aefe141632c40b1a2b7df5243a375e2",
            "_dom_classes": [],
            "description": "100%",
            "_model_name": "FloatProgressModel",
            "bar_style": "success",
            "max": 400,
            "_view_module": "@jupyter-widgets/controls",
            "_model_module_version": "1.5.0",
            "value": 400,
            "_view_count": null,
            "_view_module_version": "1.5.0",
            "orientation": "horizontal",
            "min": 0,
            "description_tooltip": null,
            "_model_module": "@jupyter-widgets/controls",
            "layout": "IPY_MODEL_a88b92a0af774aff95106dc973442e49"
          }
        },
        "8757bc15df87415895568bfdae6febdb": {
          "model_module": "@jupyter-widgets/controls",
          "model_name": "HTMLModel",
          "state": {
            "_view_name": "HTMLView",
            "style": "IPY_MODEL_de0b8ce2b65f4bdd9d95cb90f1e65e68",
            "_dom_classes": [],
            "description": "",
            "_model_name": "HTMLModel",
            "placeholder": "​",
            "_view_module": "@jupyter-widgets/controls",
            "_model_module_version": "1.5.0",
            "value": " 400/400 [05:47&lt;00:00,  1.15it/s]",
            "_view_count": null,
            "_view_module_version": "1.5.0",
            "description_tooltip": null,
            "_model_module": "@jupyter-widgets/controls",
            "layout": "IPY_MODEL_84a20fb15def4de2af75a9218bbb2de9"
          }
        },
        "0aefe141632c40b1a2b7df5243a375e2": {
          "model_module": "@jupyter-widgets/controls",
          "model_name": "ProgressStyleModel",
          "state": {
            "_view_name": "StyleView",
            "_model_name": "ProgressStyleModel",
            "description_width": "initial",
            "_view_module": "@jupyter-widgets/base",
            "_model_module_version": "1.5.0",
            "_view_count": null,
            "_view_module_version": "1.2.0",
            "bar_color": null,
            "_model_module": "@jupyter-widgets/controls"
          }
        },
        "a88b92a0af774aff95106dc973442e49": {
          "model_module": "@jupyter-widgets/base",
          "model_name": "LayoutModel",
          "state": {
            "_view_name": "LayoutView",
            "grid_template_rows": null,
            "right": null,
            "justify_content": null,
            "_view_module": "@jupyter-widgets/base",
            "overflow": null,
            "_model_module_version": "1.2.0",
            "_view_count": null,
            "flex_flow": null,
            "width": null,
            "min_width": null,
            "border": null,
            "align_items": null,
            "bottom": null,
            "_model_module": "@jupyter-widgets/base",
            "top": null,
            "grid_column": null,
            "overflow_y": null,
            "overflow_x": null,
            "grid_auto_flow": null,
            "grid_area": null,
            "grid_template_columns": null,
            "flex": null,
            "_model_name": "LayoutModel",
            "justify_items": null,
            "grid_row": null,
            "max_height": null,
            "align_content": null,
            "visibility": null,
            "align_self": null,
            "height": null,
            "min_height": null,
            "padding": null,
            "grid_auto_rows": null,
            "grid_gap": null,
            "max_width": null,
            "order": null,
            "_view_module_version": "1.2.0",
            "grid_template_areas": null,
            "object_position": null,
            "object_fit": null,
            "grid_auto_columns": null,
            "margin": null,
            "display": null,
            "left": null
          }
        },
        "de0b8ce2b65f4bdd9d95cb90f1e65e68": {
          "model_module": "@jupyter-widgets/controls",
          "model_name": "DescriptionStyleModel",
          "state": {
            "_view_name": "StyleView",
            "_model_name": "DescriptionStyleModel",
            "description_width": "",
            "_view_module": "@jupyter-widgets/base",
            "_model_module_version": "1.5.0",
            "_view_count": null,
            "_view_module_version": "1.2.0",
            "_model_module": "@jupyter-widgets/controls"
          }
        },
        "84a20fb15def4de2af75a9218bbb2de9": {
          "model_module": "@jupyter-widgets/base",
          "model_name": "LayoutModel",
          "state": {
            "_view_name": "LayoutView",
            "grid_template_rows": null,
            "right": null,
            "justify_content": null,
            "_view_module": "@jupyter-widgets/base",
            "overflow": null,
            "_model_module_version": "1.2.0",
            "_view_count": null,
            "flex_flow": null,
            "width": null,
            "min_width": null,
            "border": null,
            "align_items": null,
            "bottom": null,
            "_model_module": "@jupyter-widgets/base",
            "top": null,
            "grid_column": null,
            "overflow_y": null,
            "overflow_x": null,
            "grid_auto_flow": null,
            "grid_area": null,
            "grid_template_columns": null,
            "flex": null,
            "_model_name": "LayoutModel",
            "justify_items": null,
            "grid_row": null,
            "max_height": null,
            "align_content": null,
            "visibility": null,
            "align_self": null,
            "height": null,
            "min_height": null,
            "padding": null,
            "grid_auto_rows": null,
            "grid_gap": null,
            "max_width": null,
            "order": null,
            "_view_module_version": "1.2.0",
            "grid_template_areas": null,
            "object_position": null,
            "object_fit": null,
            "grid_auto_columns": null,
            "margin": null,
            "display": null,
            "left": null
          }
        }
      }
    }
  },
  "cells": [
    {
      "cell_type": "code",
      "metadata": {
        "colab": {
          "base_uri": "https://localhost:8080/",
          "height": 66,
          "referenced_widgets": [
            "57ead2b3cf9a4130b82660eb8dee4864",
            "2feab9d7075c4e0fb5594a13b8adc4d9",
            "316c0951ff0a40c9aba997c6f9f706c5",
            "8757bc15df87415895568bfdae6febdb",
            "0aefe141632c40b1a2b7df5243a375e2",
            "a88b92a0af774aff95106dc973442e49",
            "de0b8ce2b65f4bdd9d95cb90f1e65e68",
            "84a20fb15def4de2af75a9218bbb2de9"
          ]
        },
        "id": "7ngZlozWVuoO",
        "outputId": "036d55a4-a569-47ab-a42c-c06c5d8dee57"
      },
      "source": [
        "from bs4 import BeautifulSoup\n",
        "import requests\n",
        "import json\n",
        "# 모든 페이지 comment, like\n",
        "from tqdm.notebook import tqdm\n",
        "\n",
        "all_page_url = 'https://api2-page.kakao.com/api/v6/store/community/list/comment?orderby=0&page={}&seriesid=56094375&singleid=0&page_size=15'\n",
        "\n",
        "# 템빨 url                     : https://api2-page.kakao.com/api/v6/store/community/list/comment?orderby=0&page={}&seriesid=47050646&singleid=0&page_size=15\n",
        "# 소설 속 막내황자가 되었다 url : https://api2-page.kakao.com/api/v6/store/community/list/comment?orderby=0&page={}&seriesid=57232501&singleid=0&page_size=15\n",
        "# 검술명가 막내아들 url         : https://api2-page.kakao.com/api/v6/store/community/list/comment?orderby=0&page={}&seriesid=52347864&singleid=0&page_size=15\n",
        "\n",
        "# 아역부터 월드스타 url         : https://api2-page.kakao.com/api/v6/store/community/list/comment?orderby=0&page={}&seriesid=57109925&singleid=0&page_size=15\n",
        "# 데뷔 못 하면 죽는 병 걸림 url : https://api2-page.kakao.com/api/v6/store/community/list/comment?orderby=0&page={}&seriesid=56325530&singleid=0&page_size=15\n",
        "# 닥터 최태수 url              : https://api2-page.kakao.com/api/v6/store/community/list/comment?orderby=0&page={}&seriesid=47495746&singleid=0&page_size=15\n",
        "\n",
        "# 흑막 남주의 시한부 유모입니다 url : https://api2-page.kakao.com/api/v6/store/community/list/comment?orderby=0&page={}&seriesid=57423775&singleid=0&page_size=15\n",
        "# 이번 생은 가주가 되겠습니다 url : https://api2-page.kakao.com/api/v6/store/community/list/comment?orderby=0&page={}&seriesid=52903324&singleid=0&page_size=15\n",
        "# 최강자 남주의 라이벌을 그만뒀다 url : https://api2-page.kakao.com/api/v6/store/community/list/comment?orderby=0&page={}&seriesid=57243596&singleid=0&page_size=15\n",
        "\n",
        "# 의원, 다시 살다 url : https://api2-page.kakao.com/api/v6/store/community/list/comment?orderby=0&page={}&seriesid=55806263&singleid=0&page_size=15\n",
        "# 제암진천경 url : https://api2-page.kakao.com/api/v6/store/community/list/comment?orderby=0&page={}&seriesid=56094375&singleid=0&page_size=15\n",
        "\n",
        "import math\n",
        "end_page = math.ceil(514223 / 15)\n",
        "\n",
        "data = []\n",
        "for page_num in tqdm(range(1, 401)):\n",
        "    response = requests.get(all_page_url.format(page_num)).content\n",
        "    json_data = json.loads(response)\n",
        "    \n",
        "    for idx in range(15):\n",
        "        all_data = json_data['comment_list'][idx]\n",
        "        review = all_data['comment']\n",
        "        like = all_data['like_count']\n",
        "        \n",
        "        tmp_data = {'reviews': review,\n",
        "                    'likes': like}\n",
        "        \n",
        "        data.append(tmp_data)"
      ],
      "execution_count": null,
      "outputs": [
        {
          "output_type": "display_data",
          "data": {
            "application/vnd.jupyter.widget-view+json": {
              "model_id": "57ead2b3cf9a4130b82660eb8dee4864",
              "version_minor": 0,
              "version_major": 2
            },
            "text/plain": [
              "HBox(children=(FloatProgress(value=0.0, max=400.0), HTML(value='')))"
            ]
          },
          "metadata": {
            "tags": []
          }
        },
        {
          "output_type": "stream",
          "text": [
            "\n"
          ],
          "name": "stdout"
        }
      ]
    },
    {
      "cell_type": "code",
      "metadata": {
        "id": "rwn4g9ikVzmS",
        "colab": {
          "base_uri": "https://localhost:8080/",
          "height": 665
        },
        "outputId": "5b54a621-a971-48a6-9e83-efd547ea5395"
      },
      "source": [
        "import pandas as pd\n",
        "pd.DataFrame(data).head(20)"
      ],
      "execution_count": null,
      "outputs": [
        {
          "output_type": "execute_result",
          "data": {
            "text/html": [
              "<div>\n",
              "<style scoped>\n",
              "    .dataframe tbody tr th:only-of-type {\n",
              "        vertical-align: middle;\n",
              "    }\n",
              "\n",
              "    .dataframe tbody tr th {\n",
              "        vertical-align: top;\n",
              "    }\n",
              "\n",
              "    .dataframe thead th {\n",
              "        text-align: right;\n",
              "    }\n",
              "</style>\n",
              "<table border=\"1\" class=\"dataframe\">\n",
              "  <thead>\n",
              "    <tr style=\"text-align: right;\">\n",
              "      <th></th>\n",
              "      <th>reviews</th>\n",
              "      <th>likes</th>\n",
              "    </tr>\n",
              "  </thead>\n",
              "  <tbody>\n",
              "    <tr>\n",
              "      <th>0</th>\n",
              "      <td>기대작</td>\n",
              "      <td>0</td>\n",
              "    </tr>\n",
              "    <tr>\n",
              "      <th>1</th>\n",
              "      <td>[리뷰이벤트]응원합니다</td>\n",
              "      <td>0</td>\n",
              "    </tr>\n",
              "    <tr>\n",
              "      <th>2</th>\n",
              "      <td>(이모티콘)[리뷰이벤트]독창적이고 재미납니다ㅎ추천합니다^</td>\n",
              "      <td>1</td>\n",
              "    </tr>\n",
              "    <tr>\n",
              "      <th>3</th>\n",
              "      <td>(이모티콘)[리뷰이벤트]재밌어요♥볼만합니다.</td>\n",
              "      <td>0</td>\n",
              "    </tr>\n",
              "    <tr>\n",
              "      <th>4</th>\n",
              "      <td>(이모티콘)[리뷰이벤트]재밌어요♥볼만합니다.</td>\n",
              "      <td>0</td>\n",
              "    </tr>\n",
              "    <tr>\n",
              "      <th>5</th>\n",
              "      <td>(이모티콘)[리뷰이벤트]재밌어요♥볼만합니다.</td>\n",
              "      <td>0</td>\n",
              "    </tr>\n",
              "    <tr>\n",
              "      <th>6</th>\n",
              "      <td>싸우는 장면도 없는데 재미가 있어.. 미틴</td>\n",
              "      <td>0</td>\n",
              "    </tr>\n",
              "    <tr>\n",
              "      <th>7</th>\n",
              "      <td>리뷰이벤트\\n재밌으니까, 당연히 강추하고, 기대하고, 응원합니다~^^</td>\n",
              "      <td>0</td>\n",
              "    </tr>\n",
              "    <tr>\n",
              "      <th>8</th>\n",
              "      <td>'리뷰이벤트' 잼있네요</td>\n",
              "      <td>0</td>\n",
              "    </tr>\n",
              "    <tr>\n",
              "      <th>9</th>\n",
              "      <td>[리뷰이벤트] 작가님 믿고 추천합니다</td>\n",
              "      <td>0</td>\n",
              "    </tr>\n",
              "    <tr>\n",
              "      <th>10</th>\n",
              "      <td>[리뷰이벤트] 이런 글은 추천으로 혼내줘야함. 추천합니다</td>\n",
              "      <td>1</td>\n",
              "    </tr>\n",
              "    <tr>\n",
              "      <th>11</th>\n",
              "      <td>리뷰이벤트.뭔가,ᆢ이거 흔해빠진 소설이 아녀.다음회가 자꾸 궁금해.</td>\n",
              "      <td>1</td>\n",
              "    </tr>\n",
              "    <tr>\n",
              "      <th>12</th>\n",
              "      <td>[리뷰이벤트] 휴 쉼없이 달려왔네요..용돈 탕진</td>\n",
              "      <td>2</td>\n",
              "    </tr>\n",
              "    <tr>\n",
              "      <th>13</th>\n",
              "      <td>'리뷰이벤트' 잼있네요</td>\n",
              "      <td>0</td>\n",
              "    </tr>\n",
              "    <tr>\n",
              "      <th>14</th>\n",
              "      <td>[리뷰이벤트] 재미있어요 추천합니다</td>\n",
              "      <td>0</td>\n",
              "    </tr>\n",
              "    <tr>\n",
              "      <th>15</th>\n",
              "      <td>'리뷰이벤트' 응원합니다. 추천</td>\n",
              "      <td>0</td>\n",
              "    </tr>\n",
              "    <tr>\n",
              "      <th>16</th>\n",
              "      <td>응원합니다</td>\n",
              "      <td>0</td>\n",
              "    </tr>\n",
              "    <tr>\n",
              "      <th>17</th>\n",
              "      <td>보통 주인공은 귀인을 맞나 대성하는데 이 소설은 주인공이 귀인이네 ㅋㅋㅋㅋ</td>\n",
              "      <td>1</td>\n",
              "    </tr>\n",
              "    <tr>\n",
              "      <th>18</th>\n",
              "      <td>'리뷰이벤트' 재미있어요~추천해요~♡♡</td>\n",
              "      <td>0</td>\n",
              "    </tr>\n",
              "    <tr>\n",
              "      <th>19</th>\n",
              "      <td>응원합니다</td>\n",
              "      <td>0</td>\n",
              "    </tr>\n",
              "  </tbody>\n",
              "</table>\n",
              "</div>"
            ],
            "text/plain": [
              "                                      reviews  likes\n",
              "0                                         기대작      0\n",
              "1                                [리뷰이벤트]응원합니다      0\n",
              "2             (이모티콘)[리뷰이벤트]독창적이고 재미납니다ㅎ추천합니다^      1\n",
              "3                    (이모티콘)[리뷰이벤트]재밌어요♥볼만합니다.      0\n",
              "4                    (이모티콘)[리뷰이벤트]재밌어요♥볼만합니다.      0\n",
              "5                    (이모티콘)[리뷰이벤트]재밌어요♥볼만합니다.      0\n",
              "6                     싸우는 장면도 없는데 재미가 있어.. 미틴      0\n",
              "7      리뷰이벤트\\n재밌으니까, 당연히 강추하고, 기대하고, 응원합니다~^^      0\n",
              "8                               '리뷰이벤트' 잼있네요       0\n",
              "9                        [리뷰이벤트] 작가님 믿고 추천합니다      0\n",
              "10            [리뷰이벤트] 이런 글은 추천으로 혼내줘야함. 추천합니다      1\n",
              "11      리뷰이벤트.뭔가,ᆢ이거 흔해빠진 소설이 아녀.다음회가 자꾸 궁금해.      1\n",
              "12                 [리뷰이벤트] 휴 쉼없이 달려왔네요..용돈 탕진      2\n",
              "13                              '리뷰이벤트' 잼있네요       0\n",
              "14                        [리뷰이벤트] 재미있어요 추천합니다      0\n",
              "15                          '리뷰이벤트' 응원합니다. 추천      0\n",
              "16                                      응원합니다      0\n",
              "17  보통 주인공은 귀인을 맞나 대성하는데 이 소설은 주인공이 귀인이네 ㅋㅋㅋㅋ      1\n",
              "18                      '리뷰이벤트' 재미있어요~추천해요~♡♡      0\n",
              "19                                      응원합니다      0"
            ]
          },
          "metadata": {
            "tags": []
          },
          "execution_count": 50
        }
      ]
    },
    {
      "cell_type": "code",
      "metadata": {
        "id": "MmEAREVOCDeT"
      },
      "source": [
        "rival_stop_df.to_csv('oridoctor_df_6000', encoding='utf-8')"
      ],
      "execution_count": null,
      "outputs": []
    },
    {
      "cell_type": "code",
      "metadata": {
        "colab": {
          "base_uri": "https://localhost:8080/",
          "height": 203
        },
        "id": "Fxz35JG8CKH7",
        "outputId": "0e48a128-2d56-4d6d-e98e-4228400827ba"
      },
      "source": [
        "rival_stop_df.head()"
      ],
      "execution_count": null,
      "outputs": [
        {
          "output_type": "execute_result",
          "data": {
            "text/html": [
              "<div>\n",
              "<style scoped>\n",
              "    .dataframe tbody tr th:only-of-type {\n",
              "        vertical-align: middle;\n",
              "    }\n",
              "\n",
              "    .dataframe tbody tr th {\n",
              "        vertical-align: top;\n",
              "    }\n",
              "\n",
              "    .dataframe thead th {\n",
              "        text-align: right;\n",
              "    }\n",
              "</style>\n",
              "<table border=\"1\" class=\"dataframe\">\n",
              "  <thead>\n",
              "    <tr style=\"text-align: right;\">\n",
              "      <th></th>\n",
              "      <th>reviews</th>\n",
              "      <th>likes</th>\n",
              "    </tr>\n",
              "  </thead>\n",
              "  <tbody>\n",
              "    <tr>\n",
              "      <th>0</th>\n",
              "      <td>천희 아끼는 백린📌</td>\n",
              "      <td>0</td>\n",
              "    </tr>\n",
              "    <tr>\n",
              "      <th>1</th>\n",
              "      <td>ㅋㅋㅋㅋㅋㅋㅋㅋㅋㅋㅋㅋㅋㅋ진짜 스승님 스스로 못하겠으면 치맛폭에 감싸주겠다는 거 넘웃겨</td>\n",
              "      <td>0</td>\n",
              "    </tr>\n",
              "    <tr>\n",
              "      <th>2</th>\n",
              "      <td>술이 한잔 생각나는 밤\\n같이 있는것 같아요\\n그 좋았던 시절들\\n이젠 모두 한숨만...</td>\n",
              "      <td>0</td>\n",
              "    </tr>\n",
              "    <tr>\n",
              "      <th>3</th>\n",
              "      <td>스승님 진짜 제자 소식 들을 때마다 청심환 하나씩 드셔야할듯 ㅠㅋㅋㅋㅋ</td>\n",
              "      <td>0</td>\n",
              "    </tr>\n",
              "    <tr>\n",
              "      <th>4</th>\n",
              "      <td>천희 나무 수복📌</td>\n",
              "      <td>0</td>\n",
              "    </tr>\n",
              "  </tbody>\n",
              "</table>\n",
              "</div>"
            ],
            "text/plain": [
              "                                             reviews  likes\n",
              "0                                         천희 아끼는 백린📌      0\n",
              "1   ㅋㅋㅋㅋㅋㅋㅋㅋㅋㅋㅋㅋㅋㅋ진짜 스승님 스스로 못하겠으면 치맛폭에 감싸주겠다는 거 넘웃겨      0\n",
              "2  술이 한잔 생각나는 밤\\n같이 있는것 같아요\\n그 좋았던 시절들\\n이젠 모두 한숨만...      0\n",
              "3            스승님 진짜 제자 소식 들을 때마다 청심환 하나씩 드셔야할듯 ㅠㅋㅋㅋㅋ      0\n",
              "4                                          천희 나무 수복📌      0"
            ]
          },
          "metadata": {
            "tags": []
          },
          "execution_count": 52
        }
      ]
    },
    {
      "cell_type": "code",
      "metadata": {
        "id": "ivuY0P22tcRO"
      },
      "source": [
        "import pandas as pd\n",
        "jaeam_df = pd.DataFrame(data)\n",
        "idx = jaeam_df.loc[jaeam_df['reviews'] == '(이모티콘)'].index\n",
        "jaeam_df.drop(idx, axis=0, inplace=True)\n",
        "jaeam_df.to_csv('jaeam_df_6000', encoding='utf-8')"
      ],
      "execution_count": null,
      "outputs": []
    },
    {
      "cell_type": "code",
      "metadata": {
        "id": "lBEks6v5rWNY"
      },
      "source": [
        "import pandas as pd\n",
        "baby_ws_df = pd.DataFrame(data)\n",
        "idx = baby_ws_df.loc[baby_ws_df['reviews'] == '(이모티콘)'].index\n",
        "baby_ws_df.drop(idx, axis=0, inplace=True)\n",
        "baby_ws_df.to_csv('babyws_df_6000', encoding='utf-8')"
      ],
      "execution_count": null,
      "outputs": []
    },
    {
      "cell_type": "code",
      "metadata": {
        "id": "mWOfzzeTqeKK"
      },
      "source": [
        "import pandas as pd\n",
        "sword_son_df = pd.DataFrame(data)\n",
        "idx = sword_son_df.loc[sword_son_df['reviews'] == '(이모티콘)'].index\n",
        "sword_son_df.drop(idx, axis=0, inplace=True)\n",
        "sword_son_df.to_csv('swordson_df_6000', encoding='utf-8')"
      ],
      "execution_count": null,
      "outputs": []
    },
    {
      "cell_type": "code",
      "metadata": {
        "colab": {
          "base_uri": "https://localhost:8080/",
          "height": 417
        },
        "id": "uC3qWynDrCAW",
        "outputId": "aa674901-d35e-434c-802f-8019ffaf6ce1"
      },
      "source": [
        "sword_son_df"
      ],
      "execution_count": null,
      "outputs": [
        {
          "output_type": "execute_result",
          "data": {
            "text/html": [
              "<div>\n",
              "<style scoped>\n",
              "    .dataframe tbody tr th:only-of-type {\n",
              "        vertical-align: middle;\n",
              "    }\n",
              "\n",
              "    .dataframe tbody tr th {\n",
              "        vertical-align: top;\n",
              "    }\n",
              "\n",
              "    .dataframe thead th {\n",
              "        text-align: right;\n",
              "    }\n",
              "</style>\n",
              "<table border=\"1\" class=\"dataframe\">\n",
              "  <thead>\n",
              "    <tr style=\"text-align: right;\">\n",
              "      <th></th>\n",
              "      <th>reviews</th>\n",
              "      <th>likes</th>\n",
              "    </tr>\n",
              "  </thead>\n",
              "  <tbody>\n",
              "    <tr>\n",
              "      <th>0</th>\n",
              "      <td>(리뷰이벤트)\\n재미있게 보았습니다\\n응원합니다</td>\n",
              "      <td>0</td>\n",
              "    </tr>\n",
              "    <tr>\n",
              "      <th>1</th>\n",
              "      <td>이쿠!</td>\n",
              "      <td>0</td>\n",
              "    </tr>\n",
              "    <tr>\n",
              "      <th>2</th>\n",
              "      <td>하이에나들이 도처에서 침을 훌리고 있는데 룬칸델은 이렇게 제살깎아먹는중라니 ㅠㅠ</td>\n",
              "      <td>0</td>\n",
              "    </tr>\n",
              "    <tr>\n",
              "      <th>3</th>\n",
              "      <td>[리뷰이벤트]별점테러 방지 위원회 : 별점은 두둑히 넣어드릴게 연참만 가즈아</td>\n",
              "      <td>0</td>\n",
              "    </tr>\n",
              "    <tr>\n",
              "      <th>4</th>\n",
              "      <td>혼자만의 우울한 데이트래 ㅋㅋㅋㅋ뼈 망치로때리눜ㅋㅋㅋㅋㅋㅋㅋㅋㅋㅋㅋㅋㅋㅋ</td>\n",
              "      <td>1</td>\n",
              "    </tr>\n",
              "    <tr>\n",
              "      <th>...</th>\n",
              "      <td>...</td>\n",
              "      <td>...</td>\n",
              "    </tr>\n",
              "    <tr>\n",
              "      <th>5995</th>\n",
              "      <td>일단 죽음은 확정이네</td>\n",
              "      <td>0</td>\n",
              "    </tr>\n",
              "    <tr>\n",
              "      <th>5996</th>\n",
              "      <td>이거 진의 활약으로 글리엑을 물리치고 시론은 가까스로 가문으로 돌아와 진의 보고를 ...</td>\n",
              "      <td>0</td>\n",
              "    </tr>\n",
              "    <tr>\n",
              "      <th>5997</th>\n",
              "      <td>목소리를 이용했다는 대목에서 뭔가 의아하네 글리엑이 솔더렛의 목소리를 착각하는 것일...</td>\n",
              "      <td>0</td>\n",
              "    </tr>\n",
              "    <tr>\n",
              "      <th>5998</th>\n",
              "      <td>최강 길드들의 월드보스레이드</td>\n",
              "      <td>0</td>\n",
              "    </tr>\n",
              "    <tr>\n",
              "      <th>5999</th>\n",
              "      <td>위기 극복!</td>\n",
              "      <td>0</td>\n",
              "    </tr>\n",
              "  </tbody>\n",
              "</table>\n",
              "<p>5609 rows × 2 columns</p>\n",
              "</div>"
            ],
            "text/plain": [
              "                                                reviews  likes\n",
              "0                            (리뷰이벤트)\\n재미있게 보았습니다\\n응원합니다      0\n",
              "1                                                   이쿠!      0\n",
              "2          하이에나들이 도처에서 침을 훌리고 있는데 룬칸델은 이렇게 제살깎아먹는중라니 ㅠㅠ      0\n",
              "3            [리뷰이벤트]별점테러 방지 위원회 : 별점은 두둑히 넣어드릴게 연참만 가즈아      0\n",
              "4              혼자만의 우울한 데이트래 ㅋㅋㅋㅋ뼈 망치로때리눜ㅋㅋㅋㅋㅋㅋㅋㅋㅋㅋㅋㅋㅋㅋ      1\n",
              "...                                                 ...    ...\n",
              "5995                                        일단 죽음은 확정이네      0\n",
              "5996  이거 진의 활약으로 글리엑을 물리치고 시론은 가까스로 가문으로 돌아와 진의 보고를 ...      0\n",
              "5997  목소리를 이용했다는 대목에서 뭔가 의아하네 글리엑이 솔더렛의 목소리를 착각하는 것일...      0\n",
              "5998                                    최강 길드들의 월드보스레이드      0\n",
              "5999                                             위기 극복!      0\n",
              "\n",
              "[5609 rows x 2 columns]"
            ]
          },
          "metadata": {
            "tags": []
          },
          "execution_count": 17
        }
      ]
    },
    {
      "cell_type": "code",
      "metadata": {
        "id": "M1LhEXCFkMbC"
      },
      "source": [
        "import pandas as pd\n",
        "novel_prince_df = pd.DataFrame(data)"
      ],
      "execution_count": null,
      "outputs": []
    },
    {
      "cell_type": "code",
      "metadata": {
        "id": "Tb5NfhPPkdyj"
      },
      "source": [
        "idx = novel_prince_df.loc[novel_prince_df['reviews'] == '(이모티콘)'].index\n",
        "novel_prince_df.drop(idx, axis=0, inplace=True)"
      ],
      "execution_count": null,
      "outputs": []
    },
    {
      "cell_type": "code",
      "metadata": {
        "id": "wR2OAP9Uk9mF"
      },
      "source": [
        "novel_prince_df.to_csv('nopr_df_6000', encoding='utf-8')"
      ],
      "execution_count": null,
      "outputs": []
    },
    {
      "cell_type": "code",
      "metadata": {
        "id": "g0Q2GH7MlY8-"
      },
      "source": [
        "tembbal_df = pd.read_csv('./tembbal_df_6000')\n",
        "idx = tembbal_df.loc[tembbal_df['reviews'] == '(이모티콘)'].index\n",
        "tembbal_df.drop(idx, axis=0, inplace=True)\n",
        "tem"
      ],
      "execution_count": null,
      "outputs": []
    }
  ]
}