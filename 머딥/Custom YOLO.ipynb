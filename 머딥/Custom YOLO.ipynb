{
 "cells": [
  {
   "cell_type": "markdown",
   "id": "d20999f8",
   "metadata": {},
   "source": [
    "## YOLO format\n",
    "\n",
    ": 어디에 어떤 클래스가 있는지, ROI를 지정하는 게 레이블링이다.  \n",
    ": class id, center x, center y, width, height 형식\n",
    "\n",
    "- B-Box == Boundary box  "
   ]
  },
  {
   "cell_type": "markdown",
   "id": "6fc8a5f2",
   "metadata": {},
   "source": [
    "### cfg 수정할 부분\n",
    ": max_batches == class_num * 2000  (**epochs 횟수** 정하는 **대신 max_batches 횟수**만큼 돌게함)  \n",
    ": steps == max_batches * 0.8, max_batche * 0.9  \n",
    ":  [Yolo]위에 있는 [Convolusion] 에서 filters 개수만 바꾸면 됨  \n",
    "  \n",
    "**(클래스 개수 + 좌표 개수 + 1) * 채널 == (2+4+1)*3**"
   ]
  },
  {
   "cell_type": "markdown",
   "id": "dcc1ebe2",
   "metadata": {
    "heading_collapsed": true
   },
   "source": [
    "### cfg 설명"
   ]
  },
  {
   "cell_type": "raw",
   "id": "93d05f4c",
   "metadata": {
    "hidden": true
   },
   "source": [
    "[net]\n",
    "# Testing\n",
    "# batch=1              ## loss 업데이트 \n",
    "# subdivisions=1       ## 배치를 한번 더 쪼갠 것. 최소파일 단위\n",
    "# Training\n",
    "batch=64\n",
    "subdivisions=16        ## gpu 32~64 사용 가능\n",
    "width=416\n",
    "height=416\n",
    "channels=3\n",
    "momentum=0.9\n",
    "decay=0.0005\n",
    "angle=0\n",
    "saturation = 1.5\n",
    "exposure = 1.5\n",
    "hue=.1\n",
    "\n",
    "learning_rate=0.001\n",
    "burn_in=1000\n",
    "max_batches = 500200    ## 사용할 이미지 학습량(증강) : 한 클래스 당 최소 2000장 이상씩은 학습해야 한다\n",
    "policy=steps\n",
    "steps=400000,450000     ## 한 번에 훈련하는 양(연산) : max_batches * 0.8, max_batches * 0.9\n",
    "scales=.1,.1\n",
    "\n",
    "[convolutional]\n",
    "batch_normalize=1\n",
    "filters=32\n",
    "size=3\n",
    "stride=1\n",
    "pad=1\n",
    "activation=leaky\n",
    "\n",
    "[...]\n",
    "\n",
    "[convolutional]         ## output\n",
    "size=1\n",
    "stride=1\n",
    "pad=1\n",
    "filters=255              ## (클래스 개수 + 좌표 개수 + 1) * 채널 == (2+4+1)*3\n",
    "activation=linear\n",
    "\n",
    "\n",
    "[yolo]\n",
    "mask = 6,7,8\n",
    "anchors = 10,13,  16,30,  33,23,  30,61,  62,45,  59,119,  116,90,  156,198,  373,326\n",
    "classes=80\n",
    "num=9\n",
    "jitter=.3\n",
    "ignore_thresh = .7\n",
    "truth_thresh = 1\n",
    "random=1\n",
    "\n",
    "\n",
    "[route]\n",
    "layers = -4\n",
    "\n",
    "[...]\n",
    "\n",
    "[convolutional]\n",
    "size=1\n",
    "stride=1\n",
    "pad=1\n",
    "filters=255        ## output layer마다 아까 공식으로 계산해줘야 한다\n",
    "activation=linear\n",
    "\n",
    "\n",
    "[yolo]\n",
    "mask = 0,1,2\n",
    "anchors = 10,13,  16,30,  33,23,  30,61,  62,45,  59,119,  116,90,  156,198,  373,326\n",
    "classes=80\n",
    "num=9\n",
    "jitter=.3\n",
    "ignore_thresh = .7\n",
    "truth_thresh = 1\n",
    "random=1\n"
   ]
  },
  {
   "cell_type": "markdown",
   "id": "38841c51",
   "metadata": {},
   "source": [
    "## YOLO 데이터 파일 만들기\n",
    "\n",
    "1. classes.names 만들기  \n",
    ": DNN에서 사용되는 클래스 이름을 넣어야 한다  \n",
    "\n",
    "```\n",
    "classes.names\n",
    "\n",
    "apple\n",
    "tangerine\n",
    "```\n",
    "\n",
    "2. my_yolo.data  \n",
    ": yolo 실행시 참조하는 메타데이터 파일\n",
    "\n",
    "```\n",
    "classes : 클래스 개수\n",
    "train : 훈련 데이터 리스트 위치\n",
    "valid : 검증 데이터 리스트 위치\n",
    "names : classes.names 파일 위치\n",
    "backup : 훈련 가중치 백업 위치\n",
    "```"
   ]
  },
  {
   "cell_type": "code",
   "execution_count": 20,
   "id": "934b64fa",
   "metadata": {
    "scrolled": true
   },
   "outputs": [
    {
     "name": "stdout",
     "output_type": "stream",
     "text": [
      "ls: './darknet'에 접근할 수 없습니다: 그런 파일이나 디렉터리가 없습니다\r\n"
     ]
    }
   ],
   "source": [
    "# 경로 설정\n",
    "!ls -al ./darknet\n",
    "\n",
    "darknet_path = '/home/jaehoon/jupyter_file/cv_lecture/darknet'\n",
    "data_path = darknet_path + '/my_yolo/data'\n",
    "\n",
    "yolo_image_path = data_path\n",
    "yolo_format_path = data_path"
   ]
  },
  {
   "cell_type": "code",
   "execution_count": 21,
   "id": "00003009",
   "metadata": {},
   "outputs": [],
   "source": [
    "# cfg 설정\n",
    "class_count = 0  # 클래스 개수 (추후에 업데이트 할 것)\n",
    "test_ratio = 0.2 # 테스트셋 비율\n",
    "paths = []       # 파일 경로"
   ]
  },
  {
   "cell_type": "markdown",
   "id": "f8c0e289",
   "metadata": {},
   "source": [
    "#### classes.names 생성"
   ]
  },
  {
   "cell_type": "code",
   "execution_count": 22,
   "id": "b85fdc28",
   "metadata": {},
   "outputs": [
    {
     "name": "stdout",
     "output_type": "stream",
     "text": [
      "[classes.names] is created\n"
     ]
    }
   ],
   "source": [
    "# classes.names 생성 & class_count 업데이트\n",
    "with open(yolo_format_path + '/classes.names', 'w') as names, open(yolo_format_path + '/classes.txt') as txt:\n",
    "    for line in txt:\n",
    "        names.write(line)\n",
    "        class_count += 1\n",
    "        \n",
    "    print('[classes.names] is created')"
   ]
  },
  {
   "cell_type": "markdown",
   "id": "8cc50f9a",
   "metadata": {},
   "source": [
    "#### meta data 생성"
   ]
  },
  {
   "cell_type": "code",
   "execution_count": 23,
   "id": "85c19f13",
   "metadata": {},
   "outputs": [
    {
     "name": "stdout",
     "output_type": "stream",
     "text": [
      "[custom_data.data] is created\n"
     ]
    }
   ],
   "source": [
    "with open(yolo_format_path + '/custom_data.data', 'w') as data:\n",
    "    data.write('classes = ' + str(class_count) + '\\n')\n",
    "    data.write('train = ' + yolo_format_path + '/train.txt' + '\\n') # 훈련 데이터 위치 (나중에 추가할 것)\n",
    "    data.write('valid = ' + yolo_format_path + '/test.txt' + '\\n')\n",
    "    data.write('names = ' + yolo_format_path + '/classes.names' + '\\n')\n",
    "    data.write('backup = backup') # 다크넷 실행 파일 위치에 backup폴더가 있어야 한다\n",
    "    \n",
    "    print('[custom_data.data] is created')"
   ]
  },
  {
   "cell_type": "markdown",
   "id": "421f6942",
   "metadata": {},
   "source": [
    "#### train / test 데이터 지정하기"
   ]
  },
  {
   "cell_type": "code",
   "execution_count": 24,
   "id": "b8d8688a",
   "metadata": {},
   "outputs": [
    {
     "name": "stdout",
     "output_type": "stream",
     "text": [
      "/home/jaehoon/jupyter_file/cv_lecture/darknet/my_yolo/data/fruit07.jpg\n",
      "/home/jaehoon/jupyter_file/cv_lecture/darknet/my_yolo/data/fruit04.jpg\n",
      "/home/jaehoon/jupyter_file/cv_lecture/darknet/my_yolo/data/fruit03.jpg\n",
      "/home/jaehoon/jupyter_file/cv_lecture/darknet/my_yolo/data/fruit01.jpg\n",
      "/home/jaehoon/jupyter_file/cv_lecture/darknet/my_yolo/data/fruit10.jpg\n",
      "/home/jaehoon/jupyter_file/cv_lecture/darknet/my_yolo/data/fruit02.jpg\n",
      "/home/jaehoon/jupyter_file/cv_lecture/darknet/my_yolo/data/fruit08.jpg\n",
      "/home/jaehoon/jupyter_file/cv_lecture/darknet/my_yolo/data/fruit09.jpg\n",
      "/home/jaehoon/jupyter_file/cv_lecture/darknet/my_yolo/data/fruit06.jpg\n",
      "/home/jaehoon/jupyter_file/cv_lecture/darknet/my_yolo/data/fruit05.jpg\n"
     ]
    }
   ],
   "source": [
    "# paths 저장\n",
    "\n",
    "import os\n",
    "for current_dir, dirs, files in os.walk(yolo_image_path):\n",
    "    # print(current_dir, dirs, files)\n",
    "    for file in files:\n",
    "        if file.endswith('.jpg'):\n",
    "            image_path = yolo_image_path + '/' + file\n",
    "            print(image_path)\n",
    "            \n",
    "            paths.append(image_path + '\\n')"
   ]
  },
  {
   "cell_type": "code",
   "execution_count": 25,
   "id": "9d2009ee",
   "metadata": {
    "scrolled": true
   },
   "outputs": [
    {
     "name": "stdout",
     "output_type": "stream",
     "text": [
      "[train.txt] is created\n",
      "[test.txt] is created\n"
     ]
    }
   ],
   "source": [
    "# train, test 분리\n",
    "num_test = int(len(paths) * test_ratio)\n",
    "paths_test = paths[:num_test]\n",
    "paths_train = paths[num_test:]\n",
    "\n",
    "# train.txt\n",
    "with open(yolo_format_path + '/train.txt', 'w') as train_txt:\n",
    "    for path in paths_train:\n",
    "        train_txt.write(path)\n",
    "    print('[train.txt] is created')\n",
    "    \n",
    "# test.txt\n",
    "with open(yolo_format_path + '/test.txt', 'w') as test_txt:\n",
    "    for path in paths_test:\n",
    "        test_txt.write(path)\n",
    "    print('[test.txt] is created')"
   ]
  },
  {
   "cell_type": "markdown",
   "id": "be1f4cdf",
   "metadata": {},
   "source": [
    "## Default Darknet YOLO "
   ]
  },
  {
   "cell_type": "code",
   "execution_count": 26,
   "id": "4f1c85f4",
   "metadata": {
    "scrolled": false
   },
   "outputs": [],
   "source": [
    "# !wget https://pjreddie.com/media/files/yolov3.weights"
   ]
  },
  {
   "cell_type": "code",
   "execution_count": 27,
   "id": "3cdb3f64",
   "metadata": {},
   "outputs": [
    {
     "name": "stdout",
     "output_type": "stream",
     "text": [
      "합계 728\n",
      "drwxrwxrwx  3 jaehoon jaehoon   4096  7월 23 09:02 .\n",
      "drwxrwxrwx 12 jaehoon jaehoon   4096  7월 22 17:58 ..\n",
      "drwxrwxr-x  2 jaehoon jaehoon   4096  7월 23 09:02 backup\n",
      "-rwxrwxrwx  1 jaehoon jaehoon 732648  7월 22 17:01 darknet\n",
      "/home/jaehoon/jupyter_file/cv_lecture/darknet\n"
     ]
    }
   ],
   "source": [
    "# 다크넷 실행파일 확인\n",
    "!ls -al '/home/jaehoon/jupyter_file/cv_lecture/darknet/bin'\n",
    "\n",
    "# 실행 위치 변경\n",
    "os.chdir('/home/jaehoon/jupyter_file/cv_lecture/darknet')\n",
    "\n",
    "# 현재 디렉토리\n",
    "print(os.path.abspath(os.curdir))\n",
    "\n",
    "# 다크넷 파일 실행 권한 변경\n",
    "!chmod +x ./bin/darknet"
   ]
  },
  {
   "cell_type": "code",
   "execution_count": 28,
   "id": "e625ec6c",
   "metadata": {
    "scrolled": true
   },
   "outputs": [
    {
     "name": "stdout",
     "output_type": "stream",
     "text": [
      "layer     filters    size              input                output\n",
      "    0 conv     32  3 x 3 / 1   416 x 416 x   3   ->   416 x 416 x  32  0.299 BFLOPs\n",
      "    1 conv     64  3 x 3 / 2   416 x 416 x  32   ->   208 x 208 x  64  1.595 BFLOPs\n",
      "    2 conv     32  1 x 1 / 1   208 x 208 x  64   ->   208 x 208 x  32  0.177 BFLOPs\n",
      "    3 conv     64  3 x 3 / 1   208 x 208 x  32   ->   208 x 208 x  64  1.595 BFLOPs\n",
      "    4 res    1                 208 x 208 x  64   ->   208 x 208 x  64\n",
      "    5 conv    128  3 x 3 / 2   208 x 208 x  64   ->   104 x 104 x 128  1.595 BFLOPs\n",
      "    6 conv     64  1 x 1 / 1   104 x 104 x 128   ->   104 x 104 x  64  0.177 BFLOPs\n",
      "    7 conv    128  3 x 3 / 1   104 x 104 x  64   ->   104 x 104 x 128  1.595 BFLOPs\n",
      "    8 res    5                 104 x 104 x 128   ->   104 x 104 x 128\n",
      "    9 conv     64  1 x 1 / 1   104 x 104 x 128   ->   104 x 104 x  64  0.177 BFLOPs\n",
      "   10 conv    128  3 x 3 / 1   104 x 104 x  64   ->   104 x 104 x 128  1.595 BFLOPs\n",
      "   11 res    8                 104 x 104 x 128   ->   104 x 104 x 128\n",
      "   12 conv    256  3 x 3 / 2   104 x 104 x 128   ->    52 x  52 x 256  1.595 BFLOPs\n",
      "   13 conv    128  1 x 1 / 1    52 x  52 x 256   ->    52 x  52 x 128  0.177 BFLOPs\n",
      "   14 conv    256  3 x 3 / 1    52 x  52 x 128   ->    52 x  52 x 256  1.595 BFLOPs\n",
      "   15 res   12                  52 x  52 x 256   ->    52 x  52 x 256\n",
      "   16 conv    128  1 x 1 / 1    52 x  52 x 256   ->    52 x  52 x 128  0.177 BFLOPs\n",
      "   17 conv    256  3 x 3 / 1    52 x  52 x 128   ->    52 x  52 x 256  1.595 BFLOPs\n",
      "   18 res   15                  52 x  52 x 256   ->    52 x  52 x 256\n",
      "   19 conv    128  1 x 1 / 1    52 x  52 x 256   ->    52 x  52 x 128  0.177 BFLOPs\n",
      "   20 conv    256  3 x 3 / 1    52 x  52 x 128   ->    52 x  52 x 256  1.595 BFLOPs\n",
      "   21 res   18                  52 x  52 x 256   ->    52 x  52 x 256\n",
      "   22 conv    128  1 x 1 / 1    52 x  52 x 256   ->    52 x  52 x 128  0.177 BFLOPs\n",
      "   23 conv    256  3 x 3 / 1    52 x  52 x 128   ->    52 x  52 x 256  1.595 BFLOPs\n",
      "   24 res   21                  52 x  52 x 256   ->    52 x  52 x 256\n",
      "   25 conv    128  1 x 1 / 1    52 x  52 x 256   ->    52 x  52 x 128  0.177 BFLOPs\n",
      "   26 conv    256  3 x 3 / 1    52 x  52 x 128   ->    52 x  52 x 256  1.595 BFLOPs\n",
      "   27 res   24                  52 x  52 x 256   ->    52 x  52 x 256\n",
      "   28 conv    128  1 x 1 / 1    52 x  52 x 256   ->    52 x  52 x 128  0.177 BFLOPs\n",
      "   29 conv    256  3 x 3 / 1    52 x  52 x 128   ->    52 x  52 x 256  1.595 BFLOPs\n",
      "   30 res   27                  52 x  52 x 256   ->    52 x  52 x 256\n",
      "   31 conv    128  1 x 1 / 1    52 x  52 x 256   ->    52 x  52 x 128  0.177 BFLOPs\n",
      "   32 conv    256  3 x 3 / 1    52 x  52 x 128   ->    52 x  52 x 256  1.595 BFLOPs\n",
      "   33 res   30                  52 x  52 x 256   ->    52 x  52 x 256\n",
      "   34 conv    128  1 x 1 / 1    52 x  52 x 256   ->    52 x  52 x 128  0.177 BFLOPs\n",
      "   35 conv    256  3 x 3 / 1    52 x  52 x 128   ->    52 x  52 x 256  1.595 BFLOPs\n",
      "   36 res   33                  52 x  52 x 256   ->    52 x  52 x 256\n",
      "   37 conv    512  3 x 3 / 2    52 x  52 x 256   ->    26 x  26 x 512  1.595 BFLOPs\n",
      "   38 conv    256  1 x 1 / 1    26 x  26 x 512   ->    26 x  26 x 256  0.177 BFLOPs\n",
      "   39 conv    512  3 x 3 / 1    26 x  26 x 256   ->    26 x  26 x 512  1.595 BFLOPs\n",
      "   40 res   37                  26 x  26 x 512   ->    26 x  26 x 512\n",
      "   41 conv    256  1 x 1 / 1    26 x  26 x 512   ->    26 x  26 x 256  0.177 BFLOPs\n",
      "   42 conv    512  3 x 3 / 1    26 x  26 x 256   ->    26 x  26 x 512  1.595 BFLOPs\n",
      "   43 res   40                  26 x  26 x 512   ->    26 x  26 x 512\n",
      "   44 conv    256  1 x 1 / 1    26 x  26 x 512   ->    26 x  26 x 256  0.177 BFLOPs\n",
      "   45 conv    512  3 x 3 / 1    26 x  26 x 256   ->    26 x  26 x 512  1.595 BFLOPs\n",
      "   46 res   43                  26 x  26 x 512   ->    26 x  26 x 512\n",
      "   47 conv    256  1 x 1 / 1    26 x  26 x 512   ->    26 x  26 x 256  0.177 BFLOPs\n",
      "   48 conv    512  3 x 3 / 1    26 x  26 x 256   ->    26 x  26 x 512  1.595 BFLOPs\n",
      "   49 res   46                  26 x  26 x 512   ->    26 x  26 x 512\n",
      "   50 conv    256  1 x 1 / 1    26 x  26 x 512   ->    26 x  26 x 256  0.177 BFLOPs\n",
      "   51 conv    512  3 x 3 / 1    26 x  26 x 256   ->    26 x  26 x 512  1.595 BFLOPs\n",
      "   52 res   49                  26 x  26 x 512   ->    26 x  26 x 512\n",
      "   53 conv    256  1 x 1 / 1    26 x  26 x 512   ->    26 x  26 x 256  0.177 BFLOPs\n",
      "   54 conv    512  3 x 3 / 1    26 x  26 x 256   ->    26 x  26 x 512  1.595 BFLOPs\n",
      "   55 res   52                  26 x  26 x 512   ->    26 x  26 x 512\n",
      "   56 conv    256  1 x 1 / 1    26 x  26 x 512   ->    26 x  26 x 256  0.177 BFLOPs\n",
      "   57 conv    512  3 x 3 / 1    26 x  26 x 256   ->    26 x  26 x 512  1.595 BFLOPs\n",
      "   58 res   55                  26 x  26 x 512   ->    26 x  26 x 512\n",
      "   59 conv    256  1 x 1 / 1    26 x  26 x 512   ->    26 x  26 x 256  0.177 BFLOPs\n",
      "   60 conv    512  3 x 3 / 1    26 x  26 x 256   ->    26 x  26 x 512  1.595 BFLOPs\n",
      "   61 res   58                  26 x  26 x 512   ->    26 x  26 x 512\n",
      "   62 conv   1024  3 x 3 / 2    26 x  26 x 512   ->    13 x  13 x1024  1.595 BFLOPs\n",
      "   63 conv    512  1 x 1 / 1    13 x  13 x1024   ->    13 x  13 x 512  0.177 BFLOPs\n",
      "   64 conv   1024  3 x 3 / 1    13 x  13 x 512   ->    13 x  13 x1024  1.595 BFLOPs\n",
      "   65 res   62                  13 x  13 x1024   ->    13 x  13 x1024\n",
      "   66 conv    512  1 x 1 / 1    13 x  13 x1024   ->    13 x  13 x 512  0.177 BFLOPs\n",
      "   67 conv   1024  3 x 3 / 1    13 x  13 x 512   ->    13 x  13 x1024  1.595 BFLOPs\n",
      "   68 res   65                  13 x  13 x1024   ->    13 x  13 x1024\n",
      "   69 conv    512  1 x 1 / 1    13 x  13 x1024   ->    13 x  13 x 512  0.177 BFLOPs\n",
      "   70 conv   1024  3 x 3 / 1    13 x  13 x 512   ->    13 x  13 x1024  1.595 BFLOPs\n",
      "   71 res   68                  13 x  13 x1024   ->    13 x  13 x1024\n",
      "   72 conv    512  1 x 1 / 1    13 x  13 x1024   ->    13 x  13 x 512  0.177 BFLOPs\n",
      "   73 conv   1024  3 x 3 / 1    13 x  13 x 512   ->    13 x  13 x1024  1.595 BFLOPs\n",
      "   74 res   71                  13 x  13 x1024   ->    13 x  13 x1024\n",
      "   75 conv    512  1 x 1 / 1    13 x  13 x1024   ->    13 x  13 x 512  0.177 BFLOPs\n",
      "   76 conv   1024  3 x 3 / 1    13 x  13 x 512   ->    13 x  13 x1024  1.595 BFLOPs\n",
      "   77 conv    512  1 x 1 / 1    13 x  13 x1024   ->    13 x  13 x 512  0.177 BFLOPs\n",
      "   78 conv   1024  3 x 3 / 1    13 x  13 x 512   ->    13 x  13 x1024  1.595 BFLOPs\n",
      "   79 conv    512  1 x 1 / 1    13 x  13 x1024   ->    13 x  13 x 512  0.177 BFLOPs\n",
      "   80 conv   1024  3 x 3 / 1    13 x  13 x 512   ->    13 x  13 x1024  1.595 BFLOPs\n",
      "   81 conv    255  1 x 1 / 1    13 x  13 x1024   ->    13 x  13 x 255  0.088 BFLOPs\n",
      "   82 yolo\n",
      "   83 route  79\n",
      "   84 conv    256  1 x 1 / 1    13 x  13 x 512   ->    13 x  13 x 256  0.044 BFLOPs\n",
      "   85 upsample            2x    13 x  13 x 256   ->    26 x  26 x 256\n",
      "   86 route  85 61\n",
      "   87 conv    256  1 x 1 / 1    26 x  26 x 768   ->    26 x  26 x 256  0.266 BFLOPs\n",
      "   88 conv    512  3 x 3 / 1    26 x  26 x 256   ->    26 x  26 x 512  1.595 BFLOPs\n",
      "   89 conv    256  1 x 1 / 1    26 x  26 x 512   ->    26 x  26 x 256  0.177 BFLOPs\n",
      "   90 conv    512  3 x 3 / 1    26 x  26 x 256   ->    26 x  26 x 512  1.595 BFLOPs\n",
      "   91 conv    256  1 x 1 / 1    26 x  26 x 512   ->    26 x  26 x 256  0.177 BFLOPs\n",
      "   92 conv    512  3 x 3 / 1    26 x  26 x 256   ->    26 x  26 x 512  1.595 BFLOPs\n",
      "   93 conv    255  1 x 1 / 1    26 x  26 x 512   ->    26 x  26 x 255  0.177 BFLOPs\n",
      "   94 yolo\n",
      "   95 route  91\n",
      "   96 conv    128  1 x 1 / 1    26 x  26 x 256   ->    26 x  26 x 128  0.044 BFLOPs\n",
      "   97 upsample            2x    26 x  26 x 128   ->    52 x  52 x 128\n",
      "   98 route  97 36\n",
      "   99 conv    128  1 x 1 / 1    52 x  52 x 384   ->    52 x  52 x 128  0.266 BFLOPs\n",
      "  100 conv    256  3 x 3 / 1    52 x  52 x 128   ->    52 x  52 x 256  1.595 BFLOPs\n",
      "  101 conv    128  1 x 1 / 1    52 x  52 x 256   ->    52 x  52 x 128  0.177 BFLOPs\n",
      "  102 conv    256  3 x 3 / 1    52 x  52 x 128   ->    52 x  52 x 256  1.595 BFLOPs\n",
      "  103 conv    128  1 x 1 / 1    52 x  52 x 256   ->    52 x  52 x 128  0.177 BFLOPs\n",
      "  104 conv    256  3 x 3 / 1    52 x  52 x 128   ->    52 x  52 x 256  1.595 BFLOPs\n",
      "  105 conv    255  1 x 1 / 1    52 x  52 x 256   ->    52 x  52 x 255  0.353 BFLOPs\n",
      "  106 yolo\n"
     ]
    },
    {
     "name": "stdout",
     "output_type": "stream",
     "text": [
      "Loading weights from weights/yolov3.weights...Done!\n",
      "my_yolo/data/fruit10.jpg: Predicted in 4.497950 seconds.\n",
      "orange: 100%\n",
      "orange: 99%\n",
      "orange: 98%\n"
     ]
    }
   ],
   "source": [
    "!./bin/darknet detect cfg/yolov3.cfg weights/yolov3.weights my_yolo/data/fruit10.jpg"
   ]
  },
  {
   "cell_type": "code",
   "execution_count": 29,
   "id": "41cc1759",
   "metadata": {},
   "outputs": [],
   "source": [
    "# 띠용! 훈련 안 했더니 인식을 못하네\n",
    "import cv2\n",
    "\n",
    "img = cv2.imread('predictions.jpg')\n",
    "img = cv2.resize(img, (600, 416))\n",
    "cv2.imshow('pred', img)\n",
    "cv2.waitKey(0)\n",
    "cv2.destroyAllWindows()"
   ]
  },
  {
   "cell_type": "code",
   "execution_count": 31,
   "id": "bac2c587",
   "metadata": {},
   "outputs": [],
   "source": [
    "# 백업 폴더 만들기\n",
    "!rm -rf /home/jaehoon/jupyter_file/cv_lecture/darknet/bin/backup\n",
    "!mkdir ./bin/backup # 훈련용 backup폴더는 bin 안에 따로 만들어야 한다"
   ]
  },
  {
   "cell_type": "code",
   "execution_count": 32,
   "id": "b4c01956",
   "metadata": {
    "collapsed": true
   },
   "outputs": [
    {
     "name": "stdout",
     "output_type": "stream",
     "text": [
      "custom-train-yolo\n",
      "layer     filters    size              input                output\n",
      "    0 conv     32  3 x 3 / 1   416 x 416 x   3   ->   416 x 416 x  32  0.299 BFLOPs\n",
      "    1 conv     64  3 x 3 / 2   416 x 416 x  32   ->   208 x 208 x  64  1.595 BFLOPs\n",
      "    2 conv     32  1 x 1 / 1   208 x 208 x  64   ->   208 x 208 x  32  0.177 BFLOPs\n",
      "    3 conv     64  3 x 3 / 1   208 x 208 x  32   ->   208 x 208 x  64  1.595 BFLOPs\n",
      "    4 res    1                 208 x 208 x  64   ->   208 x 208 x  64\n",
      "    5 conv    128  3 x 3 / 2   208 x 208 x  64   ->   104 x 104 x 128  1.595 BFLOPs\n",
      "    6 conv     64  1 x 1 / 1   104 x 104 x 128   ->   104 x 104 x  64  0.177 BFLOPs\n",
      "    7 conv    128  3 x 3 / 1   104 x 104 x  64   ->   104 x 104 x 128  1.595 BFLOPs\n",
      "    8 res    5                 104 x 104 x 128   ->   104 x 104 x 128\n",
      "    9 conv     64  1 x 1 / 1   104 x 104 x 128   ->   104 x 104 x  64  0.177 BFLOPs\n",
      "   10 conv    128  3 x 3 / 1   104 x 104 x  64   ->   104 x 104 x 128  1.595 BFLOPs\n",
      "   11 res    8                 104 x 104 x 128   ->   104 x 104 x 128\n",
      "   12 conv    256  3 x 3 / 2   104 x 104 x 128   ->    52 x  52 x 256  1.595 BFLOPs\n",
      "   13 conv    128  1 x 1 / 1    52 x  52 x 256   ->    52 x  52 x 128  0.177 BFLOPs\n",
      "   14 conv    256  3 x 3 / 1    52 x  52 x 128   ->    52 x  52 x 256  1.595 BFLOPs\n",
      "   15 res   12                  52 x  52 x 256   ->    52 x  52 x 256\n",
      "   16 conv    128  1 x 1 / 1    52 x  52 x 256   ->    52 x  52 x 128  0.177 BFLOPs\n",
      "   17 conv    256  3 x 3 / 1    52 x  52 x 128   ->    52 x  52 x 256  1.595 BFLOPs\n",
      "   18 res   15                  52 x  52 x 256   ->    52 x  52 x 256\n",
      "   19 conv    128  1 x 1 / 1    52 x  52 x 256   ->    52 x  52 x 128  0.177 BFLOPs\n",
      "   20 conv    256  3 x 3 / 1    52 x  52 x 128   ->    52 x  52 x 256  1.595 BFLOPs\n",
      "   21 res   18                  52 x  52 x 256   ->    52 x  52 x 256\n",
      "   22 conv    128  1 x 1 / 1    52 x  52 x 256   ->    52 x  52 x 128  0.177 BFLOPs\n",
      "   23 conv    256  3 x 3 / 1    52 x  52 x 128   ->    52 x  52 x 256  1.595 BFLOPs\n",
      "   24 res   21                  52 x  52 x 256   ->    52 x  52 x 256\n",
      "   25 conv    128  1 x 1 / 1    52 x  52 x 256   ->    52 x  52 x 128  0.177 BFLOPs\n",
      "   26 conv    256  3 x 3 / 1    52 x  52 x 128   ->    52 x  52 x 256  1.595 BFLOPs\n",
      "   27 res   24                  52 x  52 x 256   ->    52 x  52 x 256\n",
      "   28 conv    128  1 x 1 / 1    52 x  52 x 256   ->    52 x  52 x 128  0.177 BFLOPs\n",
      "   29 conv    256  3 x 3 / 1    52 x  52 x 128   ->    52 x  52 x 256  1.595 BFLOPs\n",
      "   30 res   27                  52 x  52 x 256   ->    52 x  52 x 256\n",
      "   31 conv    128  1 x 1 / 1    52 x  52 x 256   ->    52 x  52 x 128  0.177 BFLOPs\n",
      "   32 conv    256  3 x 3 / 1    52 x  52 x 128   ->    52 x  52 x 256  1.595 BFLOPs\n",
      "   33 res   30                  52 x  52 x 256   ->    52 x  52 x 256\n",
      "   34 conv    128  1 x 1 / 1    52 x  52 x 256   ->    52 x  52 x 128  0.177 BFLOPs\n",
      "   35 conv    256  3 x 3 / 1    52 x  52 x 128   ->    52 x  52 x 256  1.595 BFLOPs\n",
      "   36 res   33                  52 x  52 x 256   ->    52 x  52 x 256\n",
      "   37 conv    512  3 x 3 / 2    52 x  52 x 256   ->    26 x  26 x 512  1.595 BFLOPs\n",
      "   38 conv    256  1 x 1 / 1    26 x  26 x 512   ->    26 x  26 x 256  0.177 BFLOPs\n",
      "   39 conv    512  3 x 3 / 1    26 x  26 x 256   ->    26 x  26 x 512  1.595 BFLOPs\n",
      "   40 res   37                  26 x  26 x 512   ->    26 x  26 x 512\n",
      "   41 conv    256  1 x 1 / 1    26 x  26 x 512   ->    26 x  26 x 256  0.177 BFLOPs\n",
      "   42 conv    512  3 x 3 / 1    26 x  26 x 256   ->    26 x  26 x 512  1.595 BFLOPs\n",
      "   43 res   40                  26 x  26 x 512   ->    26 x  26 x 512\n",
      "   44 conv    256  1 x 1 / 1    26 x  26 x 512   ->    26 x  26 x 256  0.177 BFLOPs\n",
      "   45 conv    512  3 x 3 / 1    26 x  26 x 256   ->    26 x  26 x 512  1.595 BFLOPs\n",
      "   46 res   43                  26 x  26 x 512   ->    26 x  26 x 512\n",
      "   47 conv    256  1 x 1 / 1    26 x  26 x 512   ->    26 x  26 x 256  0.177 BFLOPs\n",
      "   48 conv    512  3 x 3 / 1    26 x  26 x 256   ->    26 x  26 x 512  1.595 BFLOPs\n",
      "   49 res   46                  26 x  26 x 512   ->    26 x  26 x 512\n",
      "   50 conv    256  1 x 1 / 1    26 x  26 x 512   ->    26 x  26 x 256  0.177 BFLOPs\n",
      "   51 conv    512  3 x 3 / 1    26 x  26 x 256   ->    26 x  26 x 512  1.595 BFLOPs\n",
      "   52 res   49                  26 x  26 x 512   ->    26 x  26 x 512\n",
      "   53 conv    256  1 x 1 / 1    26 x  26 x 512   ->    26 x  26 x 256  0.177 BFLOPs\n",
      "   54 conv    512  3 x 3 / 1    26 x  26 x 256   ->    26 x  26 x 512  1.595 BFLOPs\n",
      "   55 res   52                  26 x  26 x 512   ->    26 x  26 x 512\n",
      "   56 conv    256  1 x 1 / 1    26 x  26 x 512   ->    26 x  26 x 256  0.177 BFLOPs\n",
      "   57 conv    512  3 x 3 / 1    26 x  26 x 256   ->    26 x  26 x 512  1.595 BFLOPs\n",
      "   58 res   55                  26 x  26 x 512   ->    26 x  26 x 512\n",
      "   59 conv    256  1 x 1 / 1    26 x  26 x 512   ->    26 x  26 x 256  0.177 BFLOPs\n",
      "   60 conv    512  3 x 3 / 1    26 x  26 x 256   ->    26 x  26 x 512  1.595 BFLOPs\n",
      "   61 res   58                  26 x  26 x 512   ->    26 x  26 x 512\n",
      "   62 conv   1024  3 x 3 / 2    26 x  26 x 512   ->    13 x  13 x1024  1.595 BFLOPs\n",
      "   63 conv    512  1 x 1 / 1    13 x  13 x1024   ->    13 x  13 x 512  0.177 BFLOPs\n",
      "   64 conv   1024  3 x 3 / 1    13 x  13 x 512   ->    13 x  13 x1024  1.595 BFLOPs\n",
      "   65 res   62                  13 x  13 x1024   ->    13 x  13 x1024\n",
      "   66 conv    512  1 x 1 / 1    13 x  13 x1024   ->    13 x  13 x 512  0.177 BFLOPs\n",
      "   67 conv   1024  3 x 3 / 1    13 x  13 x 512   ->    13 x  13 x1024  1.595 BFLOPs\n",
      "   68 res   65                  13 x  13 x1024   ->    13 x  13 x1024\n",
      "   69 conv    512  1 x 1 / 1    13 x  13 x1024   ->    13 x  13 x 512  0.177 BFLOPs\n",
      "   70 conv   1024  3 x 3 / 1    13 x  13 x 512   ->    13 x  13 x1024  1.595 BFLOPs\n",
      "   71 res   68                  13 x  13 x1024   ->    13 x  13 x1024\n",
      "   72 conv    512  1 x 1 / 1    13 x  13 x1024   ->    13 x  13 x 512  0.177 BFLOPs\n",
      "   73 conv   1024  3 x 3 / 1    13 x  13 x 512   ->    13 x  13 x1024  1.595 BFLOPs\n",
      "   74 res   71                  13 x  13 x1024   ->    13 x  13 x1024\n",
      "   75 conv    512  1 x 1 / 1    13 x  13 x1024   ->    13 x  13 x 512  0.177 BFLOPs\n",
      "   76 conv   1024  3 x 3 / 1    13 x  13 x 512   ->    13 x  13 x1024  1.595 BFLOPs\n",
      "   77 conv    512  1 x 1 / 1    13 x  13 x1024   ->    13 x  13 x 512  0.177 BFLOPs\n",
      "   78 conv   1024  3 x 3 / 1    13 x  13 x 512   ->    13 x  13 x1024  1.595 BFLOPs\n",
      "   79 conv    512  1 x 1 / 1    13 x  13 x1024   ->    13 x  13 x 512  0.177 BFLOPs\n",
      "   80 conv   1024  3 x 3 / 1    13 x  13 x 512   ->    13 x  13 x1024  1.595 BFLOPs\n",
      "   81 conv     21  1 x 1 / 1    13 x  13 x1024   ->    13 x  13 x  21  0.007 BFLOPs\n",
      "   82 yolo\n",
      "   83 route  79\n",
      "   84 conv    256  1 x 1 / 1    13 x  13 x 512   ->    13 x  13 x 256  0.044 BFLOPs\n",
      "   85 upsample            2x    13 x  13 x 256   ->    26 x  26 x 256\n",
      "   86 route  85 61\n",
      "   87 conv    256  1 x 1 / 1    26 x  26 x 768   ->    26 x  26 x 256  0.266 BFLOPs\n",
      "   88 conv    512  3 x 3 / 1    26 x  26 x 256   ->    26 x  26 x 512  1.595 BFLOPs\n",
      "   89 conv    256  1 x 1 / 1    26 x  26 x 512   ->    26 x  26 x 256  0.177 BFLOPs\n",
      "   90 conv    512  3 x 3 / 1    26 x  26 x 256   ->    26 x  26 x 512  1.595 BFLOPs\n",
      "   91 conv    256  1 x 1 / 1    26 x  26 x 512   ->    26 x  26 x 256  0.177 BFLOPs\n",
      "   92 conv    512  3 x 3 / 1    26 x  26 x 256   ->    26 x  26 x 512  1.595 BFLOPs\n",
      "   93 conv     21  1 x 1 / 1    26 x  26 x 512   ->    26 x  26 x  21  0.015 BFLOPs\n",
      "   94 yolo\n",
      "   95 route  91\n",
      "   96 conv    128  1 x 1 / 1    26 x  26 x 256   ->    26 x  26 x 128  0.044 BFLOPs\n",
      "   97 upsample            2x    26 x  26 x 128   ->    52 x  52 x 128\n",
      "   98 route  97 36\n",
      "   99 conv    128  1 x 1 / 1    52 x  52 x 384   ->    52 x  52 x 128  0.266 BFLOPs\n",
      "  100 conv    256  3 x 3 / 1    52 x  52 x 128   ->    52 x  52 x 256  1.595 BFLOPs\n",
      "  101 conv    128  1 x 1 / 1    52 x  52 x 256   ->    52 x  52 x 128  0.177 BFLOPs\n",
      "  102 conv    256  3 x 3 / 1    52 x  52 x 128   ->    52 x  52 x 256  1.595 BFLOPs\n",
      "  103 conv    128  1 x 1 / 1    52 x  52 x 256   ->    52 x  52 x 128  0.177 BFLOPs\n",
      "  104 conv    256  3 x 3 / 1    52 x  52 x 128   ->    52 x  52 x 256  1.595 BFLOPs\n",
      "  105 conv     21  1 x 1 / 1    52 x  52 x 256   ->    52 x  52 x  21  0.029 BFLOPs\n",
      "  106 yolo\n"
     ]
    },
    {
     "name": "stdout",
     "output_type": "stream",
     "text": [
      "Loading weights from weights/darknet53.conv.74...Done!\n",
      "Learning Rate: 0.001, Momentum: 0.9, Decay: 0.0005\n",
      "Resizing\n",
      "384\n",
      "Killed\n"
     ]
    }
   ],
   "source": [
    "# 훈련 : 백업이 자동으로 생김\n",
    "# detector 와 train은 darknet.exe 안에 들어있는 arguments\n",
    "!./bin/darknet detector train my_yolo/data/custom_data.data my_yolo/cfg/custom-train-yolo.cfg weights/darknet53.conv.74 -dont_show"
   ]
  },
  {
   "cell_type": "code",
   "execution_count": 37,
   "id": "d70a6044",
   "metadata": {},
   "outputs": [],
   "source": [
    "# mean average precision 계산 : .data & cfg & backup weights\n",
    "!./bin/darknet detector map my_yolo/data/custom_data.data my_yolo/cfg/custom-train-yolo.cfg backup/custom-train-yolo_final.weights -dont_show"
   ]
  },
  {
   "cell_type": "code",
   "execution_count": 34,
   "id": "c46e8fa7",
   "metadata": {
    "collapsed": true
   },
   "outputs": [
    {
     "name": "stdout",
     "output_type": "stream",
     "text": [
      "layer     filters    size              input                output\n",
      "    0 conv     32  3 x 3 / 1   416 x 416 x   3   ->   416 x 416 x  32  0.299 BFLOPs\n",
      "    1 conv     64  3 x 3 / 2   416 x 416 x  32   ->   208 x 208 x  64  1.595 BFLOPs\n",
      "    2 conv     32  1 x 1 / 1   208 x 208 x  64   ->   208 x 208 x  32  0.177 BFLOPs\n",
      "    3 conv     64  3 x 3 / 1   208 x 208 x  32   ->   208 x 208 x  64  1.595 BFLOPs\n",
      "    4 res    1                 208 x 208 x  64   ->   208 x 208 x  64\n",
      "    5 conv    128  3 x 3 / 2   208 x 208 x  64   ->   104 x 104 x 128  1.595 BFLOPs\n",
      "    6 conv     64  1 x 1 / 1   104 x 104 x 128   ->   104 x 104 x  64  0.177 BFLOPs\n",
      "    7 conv    128  3 x 3 / 1   104 x 104 x  64   ->   104 x 104 x 128  1.595 BFLOPs\n",
      "    8 res    5                 104 x 104 x 128   ->   104 x 104 x 128\n",
      "    9 conv     64  1 x 1 / 1   104 x 104 x 128   ->   104 x 104 x  64  0.177 BFLOPs\n",
      "   10 conv    128  3 x 3 / 1   104 x 104 x  64   ->   104 x 104 x 128  1.595 BFLOPs\n",
      "   11 res    8                 104 x 104 x 128   ->   104 x 104 x 128\n",
      "   12 conv    256  3 x 3 / 2   104 x 104 x 128   ->    52 x  52 x 256  1.595 BFLOPs\n",
      "   13 conv    128  1 x 1 / 1    52 x  52 x 256   ->    52 x  52 x 128  0.177 BFLOPs\n",
      "   14 conv    256  3 x 3 / 1    52 x  52 x 128   ->    52 x  52 x 256  1.595 BFLOPs\n",
      "   15 res   12                  52 x  52 x 256   ->    52 x  52 x 256\n",
      "   16 conv    128  1 x 1 / 1    52 x  52 x 256   ->    52 x  52 x 128  0.177 BFLOPs\n",
      "   17 conv    256  3 x 3 / 1    52 x  52 x 128   ->    52 x  52 x 256  1.595 BFLOPs\n",
      "   18 res   15                  52 x  52 x 256   ->    52 x  52 x 256\n",
      "   19 conv    128  1 x 1 / 1    52 x  52 x 256   ->    52 x  52 x 128  0.177 BFLOPs\n",
      "   20 conv    256  3 x 3 / 1    52 x  52 x 128   ->    52 x  52 x 256  1.595 BFLOPs\n",
      "   21 res   18                  52 x  52 x 256   ->    52 x  52 x 256\n",
      "   22 conv    128  1 x 1 / 1    52 x  52 x 256   ->    52 x  52 x 128  0.177 BFLOPs\n",
      "   23 conv    256  3 x 3 / 1    52 x  52 x 128   ->    52 x  52 x 256  1.595 BFLOPs\n",
      "   24 res   21                  52 x  52 x 256   ->    52 x  52 x 256\n",
      "   25 conv    128  1 x 1 / 1    52 x  52 x 256   ->    52 x  52 x 128  0.177 BFLOPs\n",
      "   26 conv    256  3 x 3 / 1    52 x  52 x 128   ->    52 x  52 x 256  1.595 BFLOPs\n",
      "   27 res   24                  52 x  52 x 256   ->    52 x  52 x 256\n",
      "   28 conv    128  1 x 1 / 1    52 x  52 x 256   ->    52 x  52 x 128  0.177 BFLOPs\n",
      "   29 conv    256  3 x 3 / 1    52 x  52 x 128   ->    52 x  52 x 256  1.595 BFLOPs\n",
      "   30 res   27                  52 x  52 x 256   ->    52 x  52 x 256\n",
      "   31 conv    128  1 x 1 / 1    52 x  52 x 256   ->    52 x  52 x 128  0.177 BFLOPs\n",
      "   32 conv    256  3 x 3 / 1    52 x  52 x 128   ->    52 x  52 x 256  1.595 BFLOPs\n",
      "   33 res   30                  52 x  52 x 256   ->    52 x  52 x 256\n",
      "   34 conv    128  1 x 1 / 1    52 x  52 x 256   ->    52 x  52 x 128  0.177 BFLOPs\n",
      "   35 conv    256  3 x 3 / 1    52 x  52 x 128   ->    52 x  52 x 256  1.595 BFLOPs\n",
      "   36 res   33                  52 x  52 x 256   ->    52 x  52 x 256\n",
      "   37 conv    512  3 x 3 / 2    52 x  52 x 256   ->    26 x  26 x 512  1.595 BFLOPs\n",
      "   38 conv    256  1 x 1 / 1    26 x  26 x 512   ->    26 x  26 x 256  0.177 BFLOPs\n",
      "   39 conv    512  3 x 3 / 1    26 x  26 x 256   ->    26 x  26 x 512  1.595 BFLOPs\n",
      "   40 res   37                  26 x  26 x 512   ->    26 x  26 x 512\n",
      "   41 conv    256  1 x 1 / 1    26 x  26 x 512   ->    26 x  26 x 256  0.177 BFLOPs\n",
      "   42 conv    512  3 x 3 / 1    26 x  26 x 256   ->    26 x  26 x 512  1.595 BFLOPs\n",
      "   43 res   40                  26 x  26 x 512   ->    26 x  26 x 512\n",
      "   44 conv    256  1 x 1 / 1    26 x  26 x 512   ->    26 x  26 x 256  0.177 BFLOPs\n",
      "   45 conv    512  3 x 3 / 1    26 x  26 x 256   ->    26 x  26 x 512  1.595 BFLOPs\n",
      "   46 res   43                  26 x  26 x 512   ->    26 x  26 x 512\n",
      "   47 conv    256  1 x 1 / 1    26 x  26 x 512   ->    26 x  26 x 256  0.177 BFLOPs\n",
      "   48 conv    512  3 x 3 / 1    26 x  26 x 256   ->    26 x  26 x 512  1.595 BFLOPs\n",
      "   49 res   46                  26 x  26 x 512   ->    26 x  26 x 512\n",
      "   50 conv    256  1 x 1 / 1    26 x  26 x 512   ->    26 x  26 x 256  0.177 BFLOPs\n",
      "   51 conv    512  3 x 3 / 1    26 x  26 x 256   ->    26 x  26 x 512  1.595 BFLOPs\n",
      "   52 res   49                  26 x  26 x 512   ->    26 x  26 x 512\n",
      "   53 conv    256  1 x 1 / 1    26 x  26 x 512   ->    26 x  26 x 256  0.177 BFLOPs\n",
      "   54 conv    512  3 x 3 / 1    26 x  26 x 256   ->    26 x  26 x 512  1.595 BFLOPs\n",
      "   55 res   52                  26 x  26 x 512   ->    26 x  26 x 512\n",
      "   56 conv    256  1 x 1 / 1    26 x  26 x 512   ->    26 x  26 x 256  0.177 BFLOPs\n",
      "   57 conv    512  3 x 3 / 1    26 x  26 x 256   ->    26 x  26 x 512  1.595 BFLOPs\n",
      "   58 res   55                  26 x  26 x 512   ->    26 x  26 x 512\n",
      "   59 conv    256  1 x 1 / 1    26 x  26 x 512   ->    26 x  26 x 256  0.177 BFLOPs\n",
      "   60 conv    512  3 x 3 / 1    26 x  26 x 256   ->    26 x  26 x 512  1.595 BFLOPs\n",
      "   61 res   58                  26 x  26 x 512   ->    26 x  26 x 512\n",
      "   62 conv   1024  3 x 3 / 2    26 x  26 x 512   ->    13 x  13 x1024  1.595 BFLOPs\n",
      "   63 conv    512  1 x 1 / 1    13 x  13 x1024   ->    13 x  13 x 512  0.177 BFLOPs\n",
      "   64 conv   1024  3 x 3 / 1    13 x  13 x 512   ->    13 x  13 x1024  1.595 BFLOPs\n",
      "   65 res   62                  13 x  13 x1024   ->    13 x  13 x1024\n",
      "   66 conv    512  1 x 1 / 1    13 x  13 x1024   ->    13 x  13 x 512  0.177 BFLOPs\n",
      "   67 conv   1024  3 x 3 / 1    13 x  13 x 512   ->    13 x  13 x1024  1.595 BFLOPs\n",
      "   68 res   65                  13 x  13 x1024   ->    13 x  13 x1024\n",
      "   69 conv    512  1 x 1 / 1    13 x  13 x1024   ->    13 x  13 x 512  0.177 BFLOPs\n",
      "   70 conv   1024  3 x 3 / 1    13 x  13 x 512   ->    13 x  13 x1024  1.595 BFLOPs\n",
      "   71 res   68                  13 x  13 x1024   ->    13 x  13 x1024\n",
      "   72 conv    512  1 x 1 / 1    13 x  13 x1024   ->    13 x  13 x 512  0.177 BFLOPs\n",
      "   73 conv   1024  3 x 3 / 1    13 x  13 x 512   ->    13 x  13 x1024  1.595 BFLOPs\n",
      "   74 res   71                  13 x  13 x1024   ->    13 x  13 x1024\n",
      "   75 conv    512  1 x 1 / 1    13 x  13 x1024   ->    13 x  13 x 512  0.177 BFLOPs\n",
      "   76 conv   1024  3 x 3 / 1    13 x  13 x 512   ->    13 x  13 x1024  1.595 BFLOPs\n",
      "   77 conv    512  1 x 1 / 1    13 x  13 x1024   ->    13 x  13 x 512  0.177 BFLOPs\n",
      "   78 conv   1024  3 x 3 / 1    13 x  13 x 512   ->    13 x  13 x1024  1.595 BFLOPs\n",
      "   79 conv    512  1 x 1 / 1    13 x  13 x1024   ->    13 x  13 x 512  0.177 BFLOPs\n",
      "   80 conv   1024  3 x 3 / 1    13 x  13 x 512   ->    13 x  13 x1024  1.595 BFLOPs\n",
      "   81 conv     21  1 x 1 / 1    13 x  13 x1024   ->    13 x  13 x  21  0.007 BFLOPs\n",
      "   82 yolo\n",
      "   83 route  79\n",
      "   84 conv    256  1 x 1 / 1    13 x  13 x 512   ->    13 x  13 x 256  0.044 BFLOPs\n",
      "   85 upsample            2x    13 x  13 x 256   ->    26 x  26 x 256\n",
      "   86 route  85 61\n",
      "   87 conv    256  1 x 1 / 1    26 x  26 x 768   ->    26 x  26 x 256  0.266 BFLOPs\n",
      "   88 conv    512  3 x 3 / 1    26 x  26 x 256   ->    26 x  26 x 512  1.595 BFLOPs\n",
      "   89 conv    256  1 x 1 / 1    26 x  26 x 512   ->    26 x  26 x 256  0.177 BFLOPs\n",
      "   90 conv    512  3 x 3 / 1    26 x  26 x 256   ->    26 x  26 x 512  1.595 BFLOPs\n",
      "   91 conv    256  1 x 1 / 1    26 x  26 x 512   ->    26 x  26 x 256  0.177 BFLOPs\n",
      "   92 conv    512  3 x 3 / 1    26 x  26 x 256   ->    26 x  26 x 512  1.595 BFLOPs\n",
      "   93 conv     21  1 x 1 / 1    26 x  26 x 512   ->    26 x  26 x  21  0.015 BFLOPs\n",
      "   94 yolo\n",
      "   95 route  91\n",
      "   96 conv    128  1 x 1 / 1    26 x  26 x 256   ->    26 x  26 x 128  0.044 BFLOPs\n",
      "   97 upsample            2x    26 x  26 x 128   ->    52 x  52 x 128\n",
      "   98 route  97 36\n",
      "   99 conv    128  1 x 1 / 1    52 x  52 x 384   ->    52 x  52 x 128  0.266 BFLOPs\n",
      "  100 conv    256  3 x 3 / 1    52 x  52 x 128   ->    52 x  52 x 256  1.595 BFLOPs\n",
      "  101 conv    128  1 x 1 / 1    52 x  52 x 256   ->    52 x  52 x 128  0.177 BFLOPs\n",
      "  102 conv    256  3 x 3 / 1    52 x  52 x 128   ->    52 x  52 x 256  1.595 BFLOPs\n",
      "  103 conv    128  1 x 1 / 1    52 x  52 x 256   ->    52 x  52 x 128  0.177 BFLOPs\n",
      "  104 conv    256  3 x 3 / 1    52 x  52 x 128   ->    52 x  52 x 256  1.595 BFLOPs\n",
      "  105 conv     21  1 x 1 / 1    52 x  52 x 256   ->    52 x  52 x  21  0.029 BFLOPs\n",
      "  106 yolo\n"
     ]
    },
    {
     "name": "stdout",
     "output_type": "stream",
     "text": [
      "Loading weights from backup/custom-train-yolo_final.weights...Done!\n",
      "my_yolo/data/fruit10.jpg: Predicted in 4.689630 seconds.\n",
      "tangerine: 100%\n",
      "tangerine: 100%\n",
      "apple: 100%\n"
     ]
    }
   ],
   "source": [
    "!./bin/darknet detector test my_yolo/data/custom_data.data my_yolo/cfg/custom-train-yolo.cfg backup/custom-train-yolo_final.weights my_yolo/data/fruit10.jpg -dont_show"
   ]
  },
  {
   "cell_type": "code",
   "execution_count": 35,
   "id": "bb744c42",
   "metadata": {},
   "outputs": [],
   "source": [
    "# 결과\n",
    "img = cv2.imread('predictions.jpg')\n",
    "img = cv2.resize(img, (600, 416))\n",
    "cv2.imshow('pred', img)\n",
    "cv2.waitKey(0)\n",
    "cv2.destroyAllWindows()"
   ]
  }
 ],
 "metadata": {
  "kernelspec": {
   "display_name": "Python 3",
   "language": "python",
   "name": "python3"
  },
  "language_info": {
   "codemirror_mode": {
    "name": "ipython",
    "version": 3
   },
   "file_extension": ".py",
   "mimetype": "text/x-python",
   "name": "python",
   "nbconvert_exporter": "python",
   "pygments_lexer": "ipython3",
   "version": "3.7.10"
  },
  "toc": {
   "base_numbering": 1,
   "nav_menu": {},
   "number_sections": true,
   "sideBar": true,
   "skip_h1_title": false,
   "title_cell": "Table of Contents",
   "title_sidebar": "Contents",
   "toc_cell": false,
   "toc_position": {},
   "toc_section_display": true,
   "toc_window_display": false
  },
  "varInspector": {
   "cols": {
    "lenName": 16,
    "lenType": 16,
    "lenVar": 40
   },
   "kernels_config": {
    "python": {
     "delete_cmd_postfix": "",
     "delete_cmd_prefix": "del ",
     "library": "var_list.py",
     "varRefreshCmd": "print(var_dic_list())"
    },
    "r": {
     "delete_cmd_postfix": ") ",
     "delete_cmd_prefix": "rm(",
     "library": "var_list.r",
     "varRefreshCmd": "cat(var_dic_list()) "
    }
   },
   "position": {
    "height": "144.83px",
    "left": "678.429px",
    "right": "20px",
    "top": "20px",
    "width": "350px"
   },
   "types_to_exclude": [
    "module",
    "function",
    "builtin_function_or_method",
    "instance",
    "_Feature"
   ],
   "window_display": true
  }
 },
 "nbformat": 4,
 "nbformat_minor": 5
}
