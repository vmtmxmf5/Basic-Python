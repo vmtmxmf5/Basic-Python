{
 "cells": [
  {
   "cell_type": "markdown",
   "id": "86ecd186",
   "metadata": {},
   "source": [
    "## Car 실습 - YOLO + Cascade"
   ]
  },
  {
   "cell_type": "code",
   "execution_count": 8,
   "id": "f506b214",
   "metadata": {},
   "outputs": [],
   "source": [
    "import numpy as np\n",
    "import cv2\n",
    "\n",
    "file_names = 'russia-cars.jpg'\n",
    "img = cv2.imread(file_names)\n",
    "\n",
    "car_num_name = './haar_files/haarcascade_russian_plate_number.xml'\n",
    "cascade = cv2.CascadeClassifier()\n",
    "cascade.load(cv2.samples.findFile(car_num_name))\n",
    "\n",
    "\n",
    "min_confidence = 0.5\n",
    "yolo_weight_file = './darknet/weights/yolov3.weights'\n",
    "yolo_cfg_file = './darknet/cfg/yolov3.cfg'\n",
    "yolo_name_file = './darknet/data/coco.names'\n",
    "\n",
    "net = cv2.dnn.readNet(yolo_weight_file, yolo_cfg_file)\n",
    "\n",
    "classes = []\n",
    "with open(yolo_name_file, 'r') as f:\n",
    "    classes = [line.strip() for line in f.readlines()]\n",
    "\n",
    "layer_names = net.getLayerNames()\n",
    "output_names = net.getUnconnectedOutLayersNames()\n",
    "\n",
    "colors = np.random.uniform(0, 255, size=(len(classes) * 3, 3))"
   ]
  },
  {
   "cell_type": "code",
   "execution_count": 9,
   "id": "df09f28f",
   "metadata": {},
   "outputs": [],
   "source": [
    "gray = cv2.cvtColor(img, cv2.COLOR_BGR2GRAY)\n",
    "gray = cv2.equalizeHist(gray)"
   ]
  },
  {
   "cell_type": "code",
   "execution_count": 10,
   "id": "0f2c7938",
   "metadata": {},
   "outputs": [],
   "source": [
    "height, width, channels = img.shape\n",
    "blob = cv2.dnn.blobFromImage(img,\n",
    "                            scalefactor=1/255.,\n",
    "                            size=(416, 416),\n",
    "                            mean=(0,0,0),\n",
    "                            swapRB=True,\n",
    "                            crop=False)\n",
    "\n",
    "net.setInput(blob)\n",
    "outs = net.forward(output_names)\n",
    "\n",
    "classes_ids = []\n",
    "confidences = []\n",
    "boxes = []\n",
    "for out in outs:\n",
    "    for detection in out:\n",
    "        scores = detection[5:]\n",
    "        class_id = np.argmax(scores)\n",
    "        confidence = scores[class_id]\n",
    "\n",
    "        if confidence > min_confidence:\n",
    "            center_x = int(detection[0] * width)\n",
    "            center_y = int(detection[1] * height)\n",
    "            w = int(detection[2] * width)\n",
    "            h = int(detection[3] * height)\n",
    "            x = int(center_x - w//2) # start x\n",
    "            y = int(center_y - h//2) # start y\n",
    "            \n",
    "            if class_id == 2:\n",
    "                boxes.append([x, y, w, h])\n",
    "                confidences.append(confidence.astype('float'))\n",
    "                classes_ids.append(class_id)\n",
    "\n",
    "# 감지된 모든 바운딩 박스\n",
    "indexes = cv2.dnn.NMSBoxes(boxes, \n",
    "                          confidences,\n",
    "                          min_confidence,\n",
    "                          0.4) # IoU\n",
    "\n",
    "for i in indexes:\n",
    "    idx = i[0]\n",
    "    x, y, w, h = boxes[idx]\n",
    "    label = '{} : {:.3f}'.format(str(classes[classes_ids[idx]]), confidences[idx])\n",
    "\n",
    "    color = colors[idx]\n",
    "\n",
    "    car_img = cv2.rectangle(img, (x, y), (x+w, y+h), color, 3)\n",
    "    cv2.putText(img, label, (x, y - 10), cv2.FONT_HERSHEY_COMPLEX, 0.5, color, 1)\n",
    "    \n",
    "    carROI = gray[y:y+h, x:x+w]\n",
    "    car_nums = cascade.detectMultiScale(carROI)\n",
    "    for (x2, y2, w2, h2) in car_nums:\n",
    "        car_img = cv2.rectangle(car_img, (x + x2, y + y2), (x + x2 + w2, y + y2+ h2), (0, 255, 255), 3)\n",
    "\n",
    "    cv2.imshow('car', car_img)\n",
    "    cv2.waitKey(0)\n",
    "    cv2.destroyAllWindows()   "
   ]
  },
  {
   "cell_type": "code",
   "execution_count": 11,
   "id": "a59bc145",
   "metadata": {
    "scrolled": true
   },
   "outputs": [
    {
     "data": {
      "text/plain": [
       "True"
      ]
     },
     "execution_count": 11,
     "metadata": {},
     "output_type": "execute_result"
    }
   ],
   "source": [
    "cv2.imwrite('car-fin.jpg', car_img)"
   ]
  },
  {
   "cell_type": "markdown",
   "id": "cf567a09",
   "metadata": {},
   "source": [
    "## Car 실습 - Simpson"
   ]
  },
  {
   "cell_type": "code",
   "execution_count": 26,
   "id": "547e32ab",
   "metadata": {},
   "outputs": [],
   "source": [
    "import numpy as np\n",
    "import cv2\n",
    "\n",
    "# 불러오기\n",
    "file_name = './simpson.jpg'\n",
    "img = cv2.imread(file_name)\n",
    "\n",
    "yolo_weights = './darknet/weights/yolov3.weights'\n",
    "yolo_names = './darknet/data/coco.names'\n",
    "yolo_cfg = './darknet/cfg/yolov3.cfg'\n",
    "\n",
    "# 모델 불러오기\n",
    "net = cv2.dnn.readNet(yolo_weights, yolo_cfg)\n",
    "output_layers = net.getUnconnectedOutLayersNames()\n",
    "\n",
    "# 모델 세팅\n",
    "classes = []\n",
    "with open(yolo_names, 'r') as f:\n",
    "    classes = [line.strip() for line in f.readlines()]\n",
    "    \n",
    "colors = np.random.uniform(0, 255, size=(len(classes), 3))\n",
    "min_confidence = 0.5\n",
    "height, width, channels = img.shape\n",
    "\n",
    "blob = cv2.dnn.blobFromImage(img,\n",
    "                             scalefactor=1/255.,\n",
    "                             size=(416, 416),\n",
    "                             mean=(0, 0, 0),\n",
    "                             swapRB=True,\n",
    "                             crop=False)"
   ]
  },
  {
   "cell_type": "code",
   "execution_count": 27,
   "id": "8d9acc6d",
   "metadata": {},
   "outputs": [],
   "source": [
    "net.setInput(blob)\n",
    "outs = net.forward(output_layers)"
   ]
  },
  {
   "cell_type": "code",
   "execution_count": 28,
   "id": "0d80c577",
   "metadata": {},
   "outputs": [],
   "source": [
    "class_ids = []\n",
    "boxes = []\n",
    "confidences = []\n",
    "for out in outs:\n",
    "    for detection in out:\n",
    "        scores = detection[5:]\n",
    "        class_id = np.argmax(scores)\n",
    "        confidence = scores[class_id]\n",
    "        \n",
    "        if min_confidence < confidence:\n",
    "            center_x = int(detection[0] * width)\n",
    "            center_y = int(detection[1] * height)\n",
    "            w = int(detection[2] * width)\n",
    "            h = int(detection[3] * height)\n",
    "            x = int(center_x + w//2)\n",
    "            y = int(center_y + h//2)\n",
    "            \n",
    "            boxes.append([x, y, w, h])\n",
    "            confidences.append(float(confidence))\n",
    "            class_ids.append(class_id)"
   ]
  },
  {
   "cell_type": "code",
   "execution_count": 29,
   "id": "e67d2b54",
   "metadata": {},
   "outputs": [],
   "source": [
    "idxes = cv2.dnn.NMSBoxes(boxes,\n",
    "                        confidences,\n",
    "                        min_confidence,\n",
    "                        0.4)\n",
    "\n",
    "for i in idxes:\n",
    "    idx = i[0]\n",
    "    x, y, w, h = boxes[idx]\n",
    "    \n",
    "    color = colors[idx]\n",
    "    label = f'{str(classes[class_ids[idx]])}, {confidences[idx]:.3f}'\n",
    "    \n",
    "    cv2.rectangle(img, (x, y), (x+w, y+h), color, 3)\n",
    "    cv2.putText(img, label, (x, y-10), cv2.FONT_HERSHEY_COMPLEX, 0.5, color, 1)\n",
    "    \n",
    "    cv2.imshow('img', img)\n",
    "    cv2.waitKey(0)\n",
    "    cv2.destroyAllWindows()"
   ]
  },
  {
   "cell_type": "code",
   "execution_count": 30,
   "id": "ba148336",
   "metadata": {
    "scrolled": true
   },
   "outputs": [
    {
     "data": {
      "text/plain": [
       "True"
      ]
     },
     "execution_count": 30,
     "metadata": {},
     "output_type": "execute_result"
    }
   ],
   "source": [
    "cv2.imwrite('car-simpson-traffic-congestion.jpg', img)"
   ]
  }
 ],
 "metadata": {
  "kernelspec": {
   "display_name": "Python 3",
   "language": "python",
   "name": "python3"
  },
  "toc": {
   "base_numbering": 1,
   "nav_menu": {},
   "number_sections": true,
   "sideBar": true,
   "skip_h1_title": false,
   "title_cell": "Table of Contents",
   "title_sidebar": "Contents",
   "toc_cell": false,
   "toc_position": {},
   "toc_section_display": true,
   "toc_window_display": false
  },
  "varInspector": {
   "cols": {
    "lenName": 16,
    "lenType": 16,
    "lenVar": 40
   },
   "kernels_config": {
    "python": {
     "delete_cmd_postfix": "",
     "delete_cmd_prefix": "del ",
     "library": "var_list.py",
     "varRefreshCmd": "print(var_dic_list())"
    },
    "r": {
     "delete_cmd_postfix": ") ",
     "delete_cmd_prefix": "rm(",
     "library": "var_list.r",
     "varRefreshCmd": "cat(var_dic_list()) "
    }
   },
   "position": {
    "height": "144.857px",
    "left": "663.429px",
    "right": "20px",
    "top": "9px",
    "width": "350px"
   },
   "types_to_exclude": [
    "module",
    "function",
    "builtin_function_or_method",
    "instance",
    "_Feature"
   ],
   "window_display": true
  }
 },
 "nbformat": 4,
 "nbformat_minor": 5
}
