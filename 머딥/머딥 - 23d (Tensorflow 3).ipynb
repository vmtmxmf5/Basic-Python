{
 "cells": [
  {
   "cell_type": "markdown",
   "metadata": {},
   "source": [
    "## Augmentation"
   ]
  },
  {
   "cell_type": "code",
   "execution_count": 2,
   "metadata": {},
   "outputs": [],
   "source": [
    "import tensorflow as tf\n",
    "import matplotlib.pyplot as plt\n",
    "import numpy as np\n",
    "from tensorflow.keras.datasets import mnist"
   ]
  },
  {
   "cell_type": "code",
   "execution_count": 3,
   "metadata": {},
   "outputs": [],
   "source": [
    "mnist = tf.keras.datasets.mnist\n",
    "(X_train, y_train), (X_test, y_test) = mnist.load_data()"
   ]
  },
  {
   "cell_type": "code",
   "execution_count": 4,
   "metadata": {},
   "outputs": [],
   "source": [
    "X_train, X_test = X_train[..., tf.newaxis]/255., X_test[..., tf.newaxis]/255."
   ]
  },
  {
   "cell_type": "code",
   "execution_count": 5,
   "metadata": {},
   "outputs": [
    {
     "data": {
      "text/plain": [
       "(28, 28, 1)"
      ]
     },
     "execution_count": 5,
     "metadata": {},
     "output_type": "execute_result"
    }
   ],
   "source": [
    "image = X_train[0]\n",
    "image.shape"
   ]
  },
  {
   "cell_type": "code",
   "execution_count": 11,
   "metadata": {},
   "outputs": [
    {
     "data": {
      "image/png": "[encoded data removed]",
      "text/plain": [
       "<Figure size 432x288 with 1 Axes>"
      ]
     },
     "metadata": {},
     "output_type": "display_data"
    }
   ],
   "source": [
    "plt.imshow(image[..., 0], cmap='gray')\n",
    "plt.xticks([])\n",
    "plt.yticks([])\n",
    "plt.grid(False)\n",
    "plt.show()"
   ]
  },
  {
   "cell_type": "markdown",
   "metadata": {},
   "source": [
    "### Image Data Generator"
   ]
  },
  {
   "cell_type": "markdown",
   "metadata": {},
   "source": [
    "클래스 객체(함수와 비슷)를 만들어 놓고, 거기에 image(X)를 flow해주는 방식"
   ]
  },
  {
   "cell_type": "code",
   "execution_count": 6,
   "metadata": {},
   "outputs": [],
   "source": [
    "from tensorflow.keras.preprocessing.image import ImageDataGenerator"
   ]
  },
  {
   "cell_type": "code",
   "execution_count": 7,
   "metadata": {},
   "outputs": [],
   "source": [
    "datagen = ImageDataGenerator(\n",
    "    rotation_range = 20,\n",
    "    width_shift_range = 0.2,\n",
    "    height_shift_range = 0.2,\n",
    "    horizontal_flip = True, #좌우 반전\n",
    ")"
   ]
  },
  {
   "cell_type": "markdown",
   "metadata": {},
   "source": [
    "(N, H, W, C) 형태를 맞춰줘야 한다 (이미지 장 수 정보 추가)"
   ]
  },
  {
   "cell_type": "code",
   "execution_count": 19,
   "metadata": {},
   "outputs": [],
   "source": [
    "inputs = X_train[0]\n",
    "inputs = inputs[tf.newaxis, ...]"
   ]
  },
  {
   "cell_type": "code",
   "execution_count": 20,
   "metadata": {},
   "outputs": [
    {
     "data": {
      "text/plain": [
       "<tensorflow.python.keras.preprocessing.image.NumpyArrayIterator at 0x1915cabf940>"
      ]
     },
     "execution_count": 20,
     "metadata": {},
     "output_type": "execute_result"
    }
   ],
   "source": [
    "datagen.flow(inputs)"
   ]
  },
  {
   "cell_type": "markdown",
   "metadata": {},
   "source": [
    "flow를 통해, for문 객체를 얻었다고 보면 됨"
   ]
  },
  {
   "cell_type": "markdown",
   "metadata": {},
   "source": [
    "#### Iterator?\n",
    "\n",
    "for문 처럼 움직이는 애들\n",
    "\n",
    "iter() : (tf 객체에서 파이썬 객체로 바꿔서) 함수 실행  \n",
    "next() : 옆으로 한 칸 움직이겠다\n",
    "flow() : 객체 생성"
   ]
  },
  {
   "cell_type": "code",
   "execution_count": 22,
   "metadata": {},
   "outputs": [
    {
     "data": {
      "image/png": "[encoded data removed]",
      "text/plain": [
       "<Figure size 432x288 with 2 Axes>"
      ]
     },
     "metadata": {
      "needs_background": "light"
     },
     "output_type": "display_data"
    }
   ],
   "source": [
    "img_iterator = datagen.flow(inputs)\n",
    "image = next(iter(img_iterator))\n",
    "\n",
    "plt.subplot(121)\n",
    "plt.imshow(np.squeeze(inputs), 'gray')\n",
    "plt.title('Original image')\n",
    "\n",
    "plt.subplot(122)\n",
    "plt.imshow(np.squeeze(image), 'gray')\n",
    "plt.title('Augmented image')\n",
    "plt.show()"
   ]
  },
  {
   "cell_type": "markdown",
   "metadata": {},
   "source": [
    "np.squeeze() : 개수가 1인 차원 없애기"
   ]
  },
  {
   "cell_type": "markdown",
   "metadata": {},
   "source": [
    "### Image Data Generator 옵션\n",
    "\n",
    "* width_shift_range : 좌우 이동 범위 설정\n",
    "* height_shift_range : 상하 이동 범위 설정\n",
    "* brightness_range : 밝기 조절 설정\n",
    "* zoom_range : 확대 / 축소 범위 설정\n",
    "* horizontal_flip : 좌우반전 여부( bool )\n",
    "* vertical_flip : 상하반전 여부( bool )\n",
    "* **rescale : 픽셀 전처리 단위 설정**\n",
    "* preprocessing_function : opencv 등 외부 라이브러리를 이용한 전처리 할 때 사용"
   ]
  },
  {
   "cell_type": "markdown",
   "metadata": {},
   "source": [
    "주의! train data에 rescale했으면, 반드시 test data에도 rescale해줘라"
   ]
  },
  {
   "cell_type": "code",
   "execution_count": 25,
   "metadata": {},
   "outputs": [],
   "source": [
    "train_datagen = ImageDataGenerator(\n",
    "    zoom_range=0.7,\n",
    "    rescale=1./255., # 픽셀 단위 조정\n",
    ")\n",
    "\n",
    "test_datagen = ImageDataGenerator(\n",
    "    rescale=1./255.,\n",
    ")"
   ]
  },
  {
   "cell_type": "markdown",
   "metadata": {},
   "source": [
    "## Callback\n",
    "\n",
    "1 epoch 학습이 끝날 때 마다 수행할 기능"
   ]
  },
  {
   "cell_type": "code",
   "execution_count": 26,
   "metadata": {},
   "outputs": [],
   "source": [
    "from tensorflow.keras import layers\n",
    "import tensorflow as tf\n",
    "\n",
    "input_shape = (28, 28, 1)\n",
    "num_classes = 10\n",
    "\n",
    "inputs = layers.Input(shape=input_shape)\n",
    "\n",
    "# Feature Extraction\n",
    "net = layers.Conv2D(32, 3, padding='SAME')(inputs)\n",
    "net = layers.Activation('relu')(net)\n",
    "net = layers.Conv2D(32, 3, padding='SAME')(net)\n",
    "net = layers.Activation('relu')(net)\n",
    "net = layers.MaxPool2D((2, 2))(net)\n",
    "net = layers.Dropout(0.25)(net)\n",
    "\n",
    "net = layers.Conv2D(64, 3, padding='SAME')(net)\n",
    "net = layers.Activation('relu')(net)\n",
    "net = layers.Conv2D(64, 3, padding='SAME')(net)\n",
    "net = layers.Activation('relu')(net)\n",
    "net = layers.MaxPool2D((2, 2))(net)\n",
    "net = layers.Dropout(0.25)(net)\n",
    "\n",
    "# Fully Connected\n",
    "net = layers.Flatten()(net)\n",
    "net = layers.Dense(512)(net)\n",
    "net = layers.Activation('relu')(net)\n",
    "net = layers.Dropout(0.25)(net)\n",
    "net = layers.Dense(num_classes)(net)\n",
    "net = layers.Activation('softmax')(net)\n",
    "\n",
    "model = tf.keras.Model(inputs=inputs, outputs=net, name='Basic_CNN')"
   ]
  },
  {
   "cell_type": "code",
   "execution_count": 29,
   "metadata": {},
   "outputs": [],
   "source": [
    "loss_func = tf.keras.losses.sparse_categorical_crossentropy\n",
    "metrics = ['acc']\n",
    "optm = tf.keras.optimizers.RMSprop()\n",
    "\n",
    "model.compile(\n",
    "    loss = loss_func,\n",
    "    optimizer = optm,\n",
    "    metrics = metrics\n",
    ")"
   ]
  },
  {
   "cell_type": "markdown",
   "metadata": {},
   "source": [
    "### Tensor board Setting\n",
    "\n",
    "계산 그래프에 흘러가는 tensor를 보여주는 callback 도구"
   ]
  },
  {
   "cell_type": "code",
   "execution_count": 31,
   "metadata": {},
   "outputs": [],
   "source": [
    "from datetime import datetime\n",
    "import os\n",
    "\n",
    "#os join 기능을 활용해 directory위치와 파일명을 동시에 지정한다\n",
    "logdir = os.path.join(\"logs\", datetime.now().strftime('%Y%m%d-%H%M%S')) "
   ]
  },
  {
   "cell_type": "code",
   "execution_count": 33,
   "metadata": {},
   "outputs": [],
   "source": [
    "from tensorflow.keras.callbacks import TensorBoard\n",
    "\n",
    "tensorboard = TensorBoard(\n",
    "    log_dir = logdir, #로깅할 디렉토리 설정\n",
    "    write_graph = True,\n",
    "    write_images = True,\n",
    "    histogram_freq = 1 # 1 epoch 당 기록\n",
    ")"
   ]
  },
  {
   "cell_type": "markdown",
   "metadata": {},
   "source": [
    "### TB in Notebook (Magic Command)\n",
    "\n",
    "%load_ext tensorboard : 노트북 안에서 TB 보여줘\n",
    "%tensorboard --logdir --port 8080 : 우리가 만든 logdir에 있는 logs 실행해줘"
   ]
  },
  {
   "cell_type": "markdown",
   "metadata": {},
   "source": [
    "#### histogram에서 epoch이 진행될수록 분포가 정규분포를 따르지 않고 평평해지는데?????\n",
    "\n",
    "그 이유?!\n",
    "overfitting일어나서 로스 올라가자너 ㅎㅎ 그니까 그렇지"
   ]
  },
  {
   "cell_type": "code",
   "execution_count": 36,
   "metadata": {
    "collapsed": true
   },
   "outputs": [
    {
     "name": "stdout",
     "output_type": "stream",
     "text": [
      "The tensorboard extension is already loaded. To reload it, use:\n",
      "  %reload_ext tensorboard\n"
     ]
    }
   ],
   "source": [
    "%load_ext tensorboard"
   ]
  },
  {
   "cell_type": "code",
   "execution_count": 38,
   "metadata": {},
   "outputs": [
    {
     "data": {
      "text/html": [
       "\n",
       "      <iframe id=\"tensorboard-frame-193ce94dee59c2e3\" width=\"100%\" height=\"800\" frameborder=\"0\">\n",
       "      </iframe>\n",
       "      <script>\n",
       "        (function() {\n",
       "          const frame = document.getElementById(\"tensorboard-frame-193ce94dee59c2e3\");\n",
       "          const url = new URL(\"/\", window.location);\n",
       "          const port = 8008;\n",
       "          if (port) {\n",
       "            url.port = port;\n",
       "          }\n",
       "          frame.src = url;\n",
       "        })();\n",
       "      </script>\n",
       "    "
      ],
      "text/plain": [
       "<IPython.core.display.HTML object>"
      ]
     },
     "metadata": {},
     "output_type": "display_data"
    }
   ],
   "source": [
    "%tensorboard --logdir logs --port 8008"
   ]
  },
  {
   "cell_type": "code",
   "execution_count": 39,
   "metadata": {
    "collapsed": true
   },
   "outputs": [
    {
     "name": "stdout",
     "output_type": "stream",
     "text": [
      "Epoch 1/30\n",
      "1500/1500 [==============================] - 24s 11ms/step - loss: 0.1443 - acc: 0.9556 - val_loss: 0.0448 - val_acc: 0.9866\n",
      "Epoch 2/30\n",
      "1500/1500 [==============================] - 18s 12ms/step - loss: 0.0620 - acc: 0.9820 - val_loss: 0.0646 - val_acc: 0.9837\n",
      "Epoch 3/30\n",
      "1500/1500 [==============================] - 19s 12ms/step - loss: 0.0514 - acc: 0.9848 - val_loss: 0.0402 - val_acc: 0.9898\n",
      "Epoch 4/30\n",
      "1500/1500 [==============================] - 19s 12ms/step - loss: 0.0483 - acc: 0.9868 - val_loss: 0.0338 - val_acc: 0.9909\n",
      "Epoch 5/30\n",
      "1500/1500 [==============================] - 18s 12ms/step - loss: 0.0462 - acc: 0.9872 - val_loss: 0.0297 - val_acc: 0.9920\n",
      "Epoch 6/30\n",
      "1500/1500 [==============================] - 18s 12ms/step - loss: 0.0461 - acc: 0.9869 - val_loss: 0.0382 - val_acc: 0.9891\n",
      "Epoch 7/30\n",
      "1500/1500 [==============================] - 18s 12ms/step - loss: 0.0450 - acc: 0.9879 - val_loss: 0.0472 - val_acc: 0.9879\n",
      "Epoch 8/30\n",
      "1500/1500 [==============================] - 19s 13ms/step - loss: 0.0464 - acc: 0.9876 - val_loss: 0.0405 - val_acc: 0.9884\n",
      "Epoch 9/30\n",
      "1500/1500 [==============================] - 19s 13ms/step - loss: 0.0474 - acc: 0.9876 - val_loss: 0.0551 - val_acc: 0.9837\n",
      "Epoch 10/30\n",
      "1500/1500 [==============================] - 19s 13ms/step - loss: 0.0476 - acc: 0.9878 - val_loss: 0.0459 - val_acc: 0.9902\n",
      "Epoch 11/30\n",
      "1500/1500 [==============================] - 19s 13ms/step - loss: 0.0504 - acc: 0.9876 - val_loss: 0.0358 - val_acc: 0.9896\n",
      "Epoch 12/30\n",
      "1500/1500 [==============================] - 20s 13ms/step - loss: 0.0533 - acc: 0.9874 - val_loss: 0.0397 - val_acc: 0.9910\n",
      "Epoch 13/30\n",
      "1500/1500 [==============================] - 19s 13ms/step - loss: 0.0550 - acc: 0.9870 - val_loss: 0.0369 - val_acc: 0.9912\n",
      "Epoch 14/30\n",
      "1500/1500 [==============================] - 19s 13ms/step - loss: 0.0563 - acc: 0.9866 - val_loss: 0.0717 - val_acc: 0.9851\n",
      "Epoch 15/30\n",
      "1500/1500 [==============================] - 19s 13ms/step - loss: 0.0586 - acc: 0.9858 - val_loss: 0.0481 - val_acc: 0.9910\n",
      "Epoch 16/30\n",
      "1500/1500 [==============================] - 19s 13ms/step - loss: 0.0602 - acc: 0.9860 - val_loss: 0.0596 - val_acc: 0.9879\n",
      "Epoch 17/30\n",
      "1500/1500 [==============================] - 18s 12ms/step - loss: 0.0654 - acc: 0.9853 - val_loss: 0.0508 - val_acc: 0.9882\n",
      "Epoch 18/30\n",
      "1500/1500 [==============================] - 18s 12ms/step - loss: 0.0649 - acc: 0.9853 - val_loss: 0.0681 - val_acc: 0.9887\n",
      "Epoch 19/30\n",
      "1500/1500 [==============================] - 18s 12ms/step - loss: 0.0647 - acc: 0.9851 - val_loss: 0.0352 - val_acc: 0.9912\n",
      "Epoch 20/30\n",
      "1500/1500 [==============================] - 18s 12ms/step - loss: 0.0670 - acc: 0.9841 - val_loss: 0.0746 - val_acc: 0.9865\n",
      "Epoch 21/30\n",
      "1500/1500 [==============================] - 17s 11ms/step - loss: 0.0708 - acc: 0.9840 - val_loss: 0.0554 - val_acc: 0.9863\n",
      "Epoch 22/30\n",
      "1500/1500 [==============================] - 20s 13ms/step - loss: 0.0730 - acc: 0.9838 - val_loss: 0.0450 - val_acc: 0.9889\n",
      "Epoch 23/30\n",
      "1500/1500 [==============================] - 20s 13ms/step - loss: 0.0738 - acc: 0.9831 - val_loss: 0.0487 - val_acc: 0.9895\n",
      "Epoch 24/30\n",
      "1500/1500 [==============================] - 20s 13ms/step - loss: 0.0794 - acc: 0.9819 - val_loss: 0.0725 - val_acc: 0.9887\n",
      "Epoch 25/30\n",
      "1500/1500 [==============================] - 18s 12ms/step - loss: 0.0810 - acc: 0.9821 - val_loss: 0.0536 - val_acc: 0.9888\n",
      "Epoch 26/30\n",
      "1500/1500 [==============================] - 18s 12ms/step - loss: 0.0852 - acc: 0.9816 - val_loss: 0.0457 - val_acc: 0.9880\n",
      "Epoch 27/30\n",
      "1500/1500 [==============================] - 19s 12ms/step - loss: 0.0832 - acc: 0.9816 - val_loss: 0.0506 - val_acc: 0.9888\n",
      "Epoch 28/30\n",
      "1500/1500 [==============================] - 18s 12ms/step - loss: 0.0883 - acc: 0.9804 - val_loss: 0.0603 - val_acc: 0.9852\n",
      "Epoch 29/30\n",
      "1500/1500 [==============================] - 18s 12ms/step - loss: 0.0948 - acc: 0.9807 - val_loss: 0.0850 - val_acc: 0.9871\n",
      "Epoch 30/30\n",
      "1500/1500 [==============================] - 18s 12ms/step - loss: 0.1022 - acc: 0.9786 - val_loss: 0.0490 - val_acc: 0.9891\n"
     ]
    },
    {
     "data": {
      "text/plain": [
       "<tensorflow.python.keras.callbacks.History at 0x1914ba7b2b0>"
      ]
     },
     "execution_count": 39,
     "metadata": {},
     "output_type": "execute_result"
    }
   ],
   "source": [
    "model.fit(X_train,\n",
    "         y_train,\n",
    "         validation_split=0.2,\n",
    "         batch_size=32,\n",
    "         epochs=30,\n",
    "         callbacks=[tensorboard])"
   ]
  },
  {
   "cell_type": "markdown",
   "metadata": {},
   "source": [
    "### Early Stopping\n",
    "\n",
    "지정 횟수동안 성능 개선 없으면 학습 중지"
   ]
  },
  {
   "cell_type": "markdown",
   "metadata": {},
   "source": [
    "### Model Checkpoint\n",
    "\n",
    "best model을 '.h5'로 저장 (덮어쓰기)"
   ]
  },
  {
   "cell_type": "code",
   "execution_count": 45,
   "metadata": {},
   "outputs": [],
   "source": [
    "from tensorflow.keras.callbacks import EarlyStopping, ModelCheckpoint"
   ]
  },
  {
   "cell_type": "code",
   "execution_count": 46,
   "metadata": {},
   "outputs": [],
   "source": [
    "es = EarlyStopping(\n",
    "    monitor='val_loss', #val_loss를 감시\n",
    "    mode='min',\n",
    "    verbose=1, #로그 레벨\n",
    "    patience=4 #epoch 몇 번 까지 지켜볼까?\n",
    ")\n",
    "\n",
    "mc = ModelCheckpoint(\n",
    "    'best_model.h5',\n",
    "    monitor='val_acc',\n",
    "    mode='max',\n",
    "    verbose=1,\n",
    "    save_best_only=True\n",
    ")"
   ]
  },
  {
   "cell_type": "code",
   "execution_count": 48,
   "metadata": {},
   "outputs": [
    {
     "name": "stdout",
     "output_type": "stream",
     "text": [
      "Epoch 1/100\n",
      "1500/1500 [==============================] - 18s 12ms/step - loss: 0.0910 - acc: 0.9798 - val_loss: 0.0446 - val_acc: 0.9904\n",
      "\n",
      "Epoch 00001: val_acc improved from -inf to 0.99042, saving model to best_model.h5\n",
      "Epoch 2/100\n",
      "1500/1500 [==============================] - 19s 12ms/step - loss: 0.0887 - acc: 0.9802 - val_loss: 0.0502 - val_acc: 0.9889\n",
      "\n",
      "Epoch 00002: val_acc did not improve from 0.99042\n",
      "Epoch 3/100\n",
      "1500/1500 [==============================] - 18s 12ms/step - loss: 0.0975 - acc: 0.9792 - val_loss: 0.0615 - val_acc: 0.9836\n",
      "\n",
      "Epoch 00003: val_acc did not improve from 0.99042\n",
      "Epoch 4/100\n",
      "1500/1500 [==============================] - 17s 12ms/step - loss: 0.0929 - acc: 0.9804 - val_loss: 0.0617 - val_acc: 0.9893\n",
      "\n",
      "Epoch 00004: val_acc did not improve from 0.99042\n",
      "Epoch 5/100\n",
      "1500/1500 [==============================] - 18s 12ms/step - loss: 0.0955 - acc: 0.9801 - val_loss: 0.0560 - val_acc: 0.9866\n",
      "\n",
      "Epoch 00005: val_acc did not improve from 0.99042\n",
      "Epoch 00005: early stopping\n"
     ]
    },
    {
     "data": {
      "text/plain": [
       "<tensorflow.python.keras.callbacks.History at 0x1915e3bd610>"
      ]
     },
     "execution_count": 48,
     "metadata": {},
     "output_type": "execute_result"
    }
   ],
   "source": [
    "model.fit(X_train,\n",
    "         y_train,\n",
    "         validation_split=0.2,\n",
    "         epochs=100,\n",
    "         batch_size=32,\n",
    "         callbacks=[es, mc]\n",
    ")"
   ]
  },
  {
   "cell_type": "markdown",
   "metadata": {},
   "source": []
  }
 ],
 "metadata": {
  "kernelspec": {
   "display_name": "Python 3",
   "language": "python",
   "name": "python3"
  },
  "language_info": {
   "codemirror_mode": {
    "name": "ipython",
    "version": 3
   },
   "file_extension": ".py",
   "mimetype": "text/x-python",
   "name": "python",
   "nbconvert_exporter": "python",
   "pygments_lexer": "ipython3",
   "version": "3.8.5"
  },
  "toc": {
   "base_numbering": 1,
   "nav_menu": {},
   "number_sections": true,
   "sideBar": true,
   "skip_h1_title": false,
   "title_cell": "Table of Contents",
   "title_sidebar": "Contents",
   "toc_cell": false,
   "toc_position": {},
   "toc_section_display": true,
   "toc_window_display": false
  },
  "varInspector": {
   "cols": {
    "lenName": 16,
    "lenType": 16,
    "lenVar": 40
   },
   "kernels_config": {
    "python": {
     "delete_cmd_postfix": "",
     "delete_cmd_prefix": "del ",
     "library": "var_list.py",
     "varRefreshCmd": "print(var_dic_list())"
    },
    "r": {
     "delete_cmd_postfix": ") ",
     "delete_cmd_prefix": "rm(",
     "library": "var_list.r",
     "varRefreshCmd": "cat(var_dic_list()) "
    }
   },
   "position": {
    "height": "162.5px",
    "left": "704.188px",
    "right": "20px",
    "top": "99px",
    "width": "350px"
   },
   "types_to_exclude": [
    "module",
    "function",
    "builtin_function_or_method",
    "instance",
    "_Feature"
   ],
   "window_display": true
  }
 },
 "nbformat": 4,
 "nbformat_minor": 4
}
