{
 "cells": [
  {
   "cell_type": "markdown",
   "id": "2dc31649",
   "metadata": {},
   "source": [
    "## 강원관광"
   ]
  },
  {
   "cell_type": "code",
   "execution_count": 2,
   "id": "1fc286ab",
   "metadata": {},
   "outputs": [],
   "source": [
    "import requests\n",
    "from bs4 import BeautifulSoup"
   ]
  },
  {
   "cell_type": "code",
   "execution_count": 4,
   "id": "48e8a8fc",
   "metadata": {
    "scrolled": true
   },
   "outputs": [],
   "source": [
    "url = 'https://www.gangwon.to/gwtour/gangwondo_trip/tourist_spot/nature'\n",
    "gang_data = requests.get(url).content\n",
    "soup = BeautifulSoup(gang_data, 'html.parser')"
   ]
  },
  {
   "cell_type": "code",
   "execution_count": 66,
   "id": "bb42ef16",
   "metadata": {
    "scrolled": true
   },
   "outputs": [
    {
     "data": {
      "text/plain": [
       "['해변',\n",
       " '낙산해변',\n",
       " '강원 양양군 양양읍 전진리와 조산리에 걸쳐있는 해수욕장이다. 동해안 지역의 많은 해수욕장 중에서 경포대 해수욕장과 함께 명소로 꼽힌다. 이곳은 울창한 소나무숲을 배경으로 4km의 백사장이 펼쳐져 있고, 설악산에서 흘러내리는 남대천이 하구에 큰 호수를 이루고 있어 담수도 풍부하다.']"
      ]
     },
     "execution_count": 66,
     "metadata": {},
     "output_type": "execute_result"
    }
   ],
   "source": [
    "import re\n",
    "idx = 0\n",
    "gang_tmp = soup.select('#contents > div.contsArea.skinContainer > ul.nlist01.clearfix > li')[idx].text\n",
    "gang_tmp = re.sub('[\\n ]{2,}', '', gang_tmp)\n",
    "gang_tmp = gang_tmp.split('\\n')\n",
    "gang_tmp"
   ]
  },
  {
   "cell_type": "code",
   "execution_count": 72,
   "id": "a8c8a893",
   "metadata": {},
   "outputs": [
    {
     "data": {
      "text/plain": [
       "102"
      ]
     },
     "execution_count": 72,
     "metadata": {},
     "output_type": "execute_result"
    }
   ],
   "source": [
    "(609 // 6) + 1"
   ]
  },
  {
   "cell_type": "code",
   "execution_count": 73,
   "id": "14d1bd43",
   "metadata": {},
   "outputs": [
    {
     "name": "stderr",
     "output_type": "stream",
     "text": [
      "/home/jaehoon/anaconda3/lib/python3.7/site-packages/ipykernel_launcher.py:9: TqdmDeprecationWarning: This function will be removed in tqdm==5.0.0\n",
      "Please use `tqdm.notebook.tqdm` instead of `tqdm.tqdm_notebook`\n",
      "  if __name__ == '__main__':\n"
     ]
    },
    {
     "data": {
      "application/vnd.jupyter.widget-view+json": {
       "model_id": "f18521f81a6a4fe6b5f6d0f40a36600d",
       "version_major": 2,
       "version_minor": 0
      },
      "text/plain": [
       "  0%|          | 0/102 [00:00<?, ?it/s]"
      ]
     },
     "metadata": {},
     "output_type": "display_data"
    },
    {
     "name": "stderr",
     "output_type": "stream",
     "text": [
      "IOPub data rate exceeded.\n",
      "The notebook server will temporarily stop sending output\n",
      "to the client in order to avoid crashing it.\n",
      "To change this limit, set the config variable\n",
      "`--NotebookApp.iopub_data_rate_limit`.\n",
      "\n",
      "Current values:\n",
      "NotebookApp.iopub_data_rate_limit=1000000.0 (bytes/sec)\n",
      "NotebookApp.rate_limit_window=3.0 (secs)\n",
      "\n"
     ]
    }
   ],
   "source": [
    "from tqdm import tqdm_notebook\n",
    "tot_page_num = (609 // 6) + 1 # 페이지 개수 공식 \n",
    "\n",
    "loc_url = 'https://www.gangwon.to/gwtour/gangwondo_trip/tourist_spot/nature?pageIndex={}' # 넷웍에서 확인한 파라미터\n",
    "dat = [] # 최종\n",
    "data_list = [] # 페이지별 데이터\n",
    "\n",
    "# 페이지별로 돌아가면서 정보 쓸어오기\n",
    "for page in tqdm_notebook(range(1, tot_page_num+1)):\n",
    "    page_url = loc_url.format(page)\n",
    "    search_page_html = requests.get(page_url).content\n",
    "    search_page_soup = BeautifulSoup(search_page_html, 'html.parser')\n",
    "    \n",
    "    if page < 102:\n",
    "    # 각 페이지에 있는 데이터를 전처리 후 리스트에 담음\n",
    "        for idx in range(6):\n",
    "            gang_tmp = search_page_soup.select('#contents > div.contsArea.skinContainer > ul.nlist01.clearfix > li')[idx].text\n",
    "            gang_tmp = re.sub('[\\n ]{2,}', '', gang_tmp)\n",
    "            gang_tmp = gang_tmp.split('\\n')\n",
    "\n",
    "            data_list.append(gang_tmp)\n",
    "    \n",
    "    else:\n",
    "        for idx in range(3):\n",
    "            gang_tmp = search_page_soup.select('#contents > div.contsArea.skinContainer > ul.nlist01.clearfix > li')[idx].text\n",
    "            gang_tmp = re.sub('[\\n ]{2,}', '', gang_tmp)\n",
    "            gang_tmp = gang_tmp.split('\\n')\n",
    "\n",
    "            data_list.append(gang_tmp)\n",
    "    \n",
    "    # 페이지별 정보를 다시 종합    \n",
    "    dat.append(data_list)\n",
    "\n",
    "print(dat)\n"
   ]
  },
  {
   "cell_type": "code",
   "execution_count": 84,
   "id": "3295ebab",
   "metadata": {
    "scrolled": true
   },
   "outputs": [
    {
     "data": {
      "text/html": [
       "<div>\n",
       "<style scoped>\n",
       "    .dataframe tbody tr th:only-of-type {\n",
       "        vertical-align: middle;\n",
       "    }\n",
       "\n",
       "    .dataframe tbody tr th {\n",
       "        vertical-align: top;\n",
       "    }\n",
       "\n",
       "    .dataframe thead th {\n",
       "        text-align: right;\n",
       "    }\n",
       "</style>\n",
       "<table border=\"1\" class=\"dataframe\">\n",
       "  <thead>\n",
       "    <tr style=\"text-align: right;\">\n",
       "      <th></th>\n",
       "      <th>0</th>\n",
       "      <th>1</th>\n",
       "      <th>2</th>\n",
       "    </tr>\n",
       "  </thead>\n",
       "  <tbody>\n",
       "    <tr>\n",
       "      <th>0</th>\n",
       "      <td>해변</td>\n",
       "      <td>낙산해변</td>\n",
       "      <td>강원 양양군 양양읍 전진리와 조산리에 걸쳐있는 해수욕장이다. 동해안 지역의 많은 해...</td>\n",
       "    </tr>\n",
       "    <tr>\n",
       "      <th>1</th>\n",
       "      <td>섬</td>\n",
       "      <td>남이섬</td>\n",
       "      <td>동화나라 노래의 섬 남이섬은 원래는 구릉지로 만들어진 작은 봉우리였다고 한다. 지금...</td>\n",
       "    </tr>\n",
       "    <tr>\n",
       "      <th>2</th>\n",
       "      <td>공원</td>\n",
       "      <td>추암근린공원</td>\n",
       "      <td>강원도 동해시 추암동에 위치하고 있으며, 전국 최고의 해돋이 명소인 ‘추암촛대바위’...</td>\n",
       "    </tr>\n",
       "    <tr>\n",
       "      <th>3</th>\n",
       "      <td>해변</td>\n",
       "      <td>추암해변</td>\n",
       "      <td>동해안의 삼해금강이라고도 불리우는 맑은 물과 잘게 부서진 백사장이 아름다운 추암해변...</td>\n",
       "    </tr>\n",
       "    <tr>\n",
       "      <th>4</th>\n",
       "      <td>해변</td>\n",
       "      <td>속초해변/속초해수욕장</td>\n",
       "      <td>속초시민과 관광객들의 발길이 항상 끊이질 않는 곳으로 공원과 꽃길, 송림 산책로가...</td>\n",
       "    </tr>\n",
       "    <tr>\n",
       "      <th>...</th>\n",
       "      <td>...</td>\n",
       "      <td>...</td>\n",
       "      <td>...</td>\n",
       "    </tr>\n",
       "    <tr>\n",
       "      <th>62113</th>\n",
       "      <td>해안비경</td>\n",
       "      <td>초곡용굴촛대바위길</td>\n",
       "      <td>깨끗한 바다와 기암괴석, 해안절벽에 데크길과 충렁다리등이 조성되어 바다향과 파도, ...</td>\n",
       "    </tr>\n",
       "    <tr>\n",
       "      <th>62114</th>\n",
       "      <td>공원</td>\n",
       "      <td>파로호꽃섬</td>\n",
       "      <td>파로호 습지의 갈대숲을 2018년도 꽃섬으로 조성한 곳이다. 사계절 다양한 꽃을 볼...</td>\n",
       "    </tr>\n",
       "    <tr>\n",
       "      <th>62115</th>\n",
       "      <td>자연생태</td>\n",
       "      <td>DMZ펀치볼둘레길</td>\n",
       "      <td>DMZ펀치볼둘레길은 국토정중앙 최북단이라는 상징성과 전쟁과 평화에 관련된 테마를 중...</td>\n",
       "    </tr>\n",
       "    <tr>\n",
       "      <th>62116</th>\n",
       "      <td>자연휴양림</td>\n",
       "      <td>망경대산자연휴양림</td>\n",
       "      <td>이끼와 돌을 활용한 암석이끼원 돌집건축 등을 배치해 휴식과 체험이 이뤄지는 휴양공간...</td>\n",
       "    </tr>\n",
       "    <tr>\n",
       "      <th>62117</th>\n",
       "      <td>자연생태</td>\n",
       "      <td>삼척두루미마을</td>\n",
       "      <td>두루미를 비롯한 다양한 동물들을 사육하고 있으며, 유아.청소년들을 위한 체험프로그램...</td>\n",
       "    </tr>\n",
       "  </tbody>\n",
       "</table>\n",
       "<p>62118 rows × 3 columns</p>\n",
       "</div>"
      ],
      "text/plain": [
       "           0            1                                                  2\n",
       "0         해변         낙산해변  강원 양양군 양양읍 전진리와 조산리에 걸쳐있는 해수욕장이다. 동해안 지역의 많은 해...\n",
       "1          섬          남이섬  동화나라 노래의 섬 남이섬은 원래는 구릉지로 만들어진 작은 봉우리였다고 한다. 지금...\n",
       "2         공원       추암근린공원  강원도 동해시 추암동에 위치하고 있으며, 전국 최고의 해돋이 명소인 ‘추암촛대바위’...\n",
       "3         해변         추암해변  동해안의 삼해금강이라고도 불리우는 맑은 물과 잘게 부서진 백사장이 아름다운 추암해변...\n",
       "4         해변  속초해변/속초해수욕장   속초시민과 관광객들의 발길이 항상 끊이질 않는 곳으로 공원과 꽃길, 송림 산책로가...\n",
       "...      ...          ...                                                ...\n",
       "62113   해안비경    초곡용굴촛대바위길  깨끗한 바다와 기암괴석, 해안절벽에 데크길과 충렁다리등이 조성되어 바다향과 파도, ...\n",
       "62114     공원        파로호꽃섬  파로호 습지의 갈대숲을 2018년도 꽃섬으로 조성한 곳이다. 사계절 다양한 꽃을 볼...\n",
       "62115   자연생태    DMZ펀치볼둘레길  DMZ펀치볼둘레길은 국토정중앙 최북단이라는 상징성과 전쟁과 평화에 관련된 테마를 중...\n",
       "62116  자연휴양림    망경대산자연휴양림  이끼와 돌을 활용한 암석이끼원 돌집건축 등을 배치해 휴식과 체험이 이뤄지는 휴양공간...\n",
       "62117   자연생태      삼척두루미마을  두루미를 비롯한 다양한 동물들을 사육하고 있으며, 유아.청소년들을 위한 체험프로그램...\n",
       "\n",
       "[62118 rows x 3 columns]"
      ]
     },
     "execution_count": 84,
     "metadata": {},
     "output_type": "execute_result"
    }
   ],
   "source": [
    "pd.DataFrame(sum(dat,[])).iloc[:, 0:3]"
   ]
  },
  {
   "cell_type": "code",
   "execution_count": 210,
   "id": "8d438fed",
   "metadata": {},
   "outputs": [
    {
     "data": {
      "text/html": [
       "<div>\n",
       "<style scoped>\n",
       "    .dataframe tbody tr th:only-of-type {\n",
       "        vertical-align: middle;\n",
       "    }\n",
       "\n",
       "    .dataframe tbody tr th {\n",
       "        vertical-align: top;\n",
       "    }\n",
       "\n",
       "    .dataframe thead th {\n",
       "        text-align: right;\n",
       "    }\n",
       "</style>\n",
       "<table border=\"1\" class=\"dataframe\">\n",
       "  <thead>\n",
       "    <tr style=\"text-align: right;\">\n",
       "      <th></th>\n",
       "      <th>0</th>\n",
       "      <th>1</th>\n",
       "      <th>설명</th>\n",
       "    </tr>\n",
       "  </thead>\n",
       "  <tbody>\n",
       "    <tr>\n",
       "      <th>0</th>\n",
       "      <td>해변</td>\n",
       "      <td>낙산해변</td>\n",
       "      <td>강원 양양군 양양읍 전진리와 조산리에 걸쳐있는 해수욕장이다. 동해안 지역의 많은 해...</td>\n",
       "    </tr>\n",
       "    <tr>\n",
       "      <th>1</th>\n",
       "      <td>섬</td>\n",
       "      <td>남이섬</td>\n",
       "      <td>동화나라 노래의 섬 남이섬은 원래는 구릉지로 만들어진 작은 봉우리였다고 한다. 지금...</td>\n",
       "    </tr>\n",
       "    <tr>\n",
       "      <th>2</th>\n",
       "      <td>공원</td>\n",
       "      <td>추암근린공원</td>\n",
       "      <td>강원도 동해시 추암동에 위치하고 있으며, 전국 최고의 해돋이 명소인 ‘추암촛대바위’...</td>\n",
       "    </tr>\n",
       "    <tr>\n",
       "      <th>3</th>\n",
       "      <td>해변</td>\n",
       "      <td>추암해변</td>\n",
       "      <td>동해안의 삼해금강이라고도 불리우는 맑은 물과 잘게 부서진 백사장이 아름다운 추암해변...</td>\n",
       "    </tr>\n",
       "    <tr>\n",
       "      <th>4</th>\n",
       "      <td>해변</td>\n",
       "      <td>속초해변/속초해수욕장</td>\n",
       "      <td>속초시민과 관광객들의 발길이 항상 끊이질 않는 곳으로 공원과 꽃길, 송림 산책로가...</td>\n",
       "    </tr>\n",
       "    <tr>\n",
       "      <th>...</th>\n",
       "      <td>...</td>\n",
       "      <td>...</td>\n",
       "      <td>...</td>\n",
       "    </tr>\n",
       "    <tr>\n",
       "      <th>62113</th>\n",
       "      <td>해안비경</td>\n",
       "      <td>초곡용굴촛대바위길</td>\n",
       "      <td>깨끗한 바다와 기암괴석, 해안절벽에 데크길과 충렁다리등이 조성되어 바다향과 파도, ...</td>\n",
       "    </tr>\n",
       "    <tr>\n",
       "      <th>62114</th>\n",
       "      <td>공원</td>\n",
       "      <td>파로호꽃섬</td>\n",
       "      <td>파로호 습지의 갈대숲을 2018년도 꽃섬으로 조성한 곳이다. 사계절 다양한 꽃을 볼...</td>\n",
       "    </tr>\n",
       "    <tr>\n",
       "      <th>62115</th>\n",
       "      <td>자연생태</td>\n",
       "      <td>DMZ펀치볼둘레길</td>\n",
       "      <td>DMZ펀치볼둘레길은 국토정중앙 최북단이라는 상징성과 전쟁과 평화에 관련된 테마를 중...</td>\n",
       "    </tr>\n",
       "    <tr>\n",
       "      <th>62116</th>\n",
       "      <td>자연휴양림</td>\n",
       "      <td>망경대산자연휴양림</td>\n",
       "      <td>이끼와 돌을 활용한 암석이끼원 돌집건축 등을 배치해 휴식과 체험이 이뤄지는 휴양공간...</td>\n",
       "    </tr>\n",
       "    <tr>\n",
       "      <th>62117</th>\n",
       "      <td>자연생태</td>\n",
       "      <td>삼척두루미마을</td>\n",
       "      <td>두루미를 비롯한 다양한 동물들을 사육하고 있으며, 유아.청소년들을 위한 체험프로그램...</td>\n",
       "    </tr>\n",
       "  </tbody>\n",
       "</table>\n",
       "<p>62118 rows × 3 columns</p>\n",
       "</div>"
      ],
      "text/plain": [
       "           0            1                                                 설명\n",
       "0         해변         낙산해변  강원 양양군 양양읍 전진리와 조산리에 걸쳐있는 해수욕장이다. 동해안 지역의 많은 해...\n",
       "1          섬          남이섬  동화나라 노래의 섬 남이섬은 원래는 구릉지로 만들어진 작은 봉우리였다고 한다. 지금...\n",
       "2         공원       추암근린공원  강원도 동해시 추암동에 위치하고 있으며, 전국 최고의 해돋이 명소인 ‘추암촛대바위’...\n",
       "3         해변         추암해변  동해안의 삼해금강이라고도 불리우는 맑은 물과 잘게 부서진 백사장이 아름다운 추암해변...\n",
       "4         해변  속초해변/속초해수욕장   속초시민과 관광객들의 발길이 항상 끊이질 않는 곳으로 공원과 꽃길, 송림 산책로가...\n",
       "...      ...          ...                                                ...\n",
       "62113   해안비경    초곡용굴촛대바위길  깨끗한 바다와 기암괴석, 해안절벽에 데크길과 충렁다리등이 조성되어 바다향과 파도, ...\n",
       "62114     공원        파로호꽃섬  파로호 습지의 갈대숲을 2018년도 꽃섬으로 조성한 곳이다. 사계절 다양한 꽃을 볼...\n",
       "62115   자연생태    DMZ펀치볼둘레길  DMZ펀치볼둘레길은 국토정중앙 최북단이라는 상징성과 전쟁과 평화에 관련된 테마를 중...\n",
       "62116  자연휴양림    망경대산자연휴양림  이끼와 돌을 활용한 암석이끼원 돌집건축 등을 배치해 휴식과 체험이 이뤄지는 휴양공간...\n",
       "62117   자연생태      삼척두루미마을  두루미를 비롯한 다양한 동물들을 사육하고 있으며, 유아.청소년들을 위한 체험프로그램...\n",
       "\n",
       "[62118 rows x 3 columns]"
      ]
     },
     "execution_count": 210,
     "metadata": {},
     "output_type": "execute_result"
    }
   ],
   "source": [
    "df_fin = pd.DataFrame(sum(dat, []))\n",
    "df_fin.fillna(' ', inplace=True)\n",
    "df_fin['설명'] = df_fin[[2, 3, 4, 5]].apply(' '.join, axis=1)\n",
    "df_fin.drop(df_fin[[2, 3, 4, 5]], axis=1)"
   ]
  },
  {
   "cell_type": "markdown",
   "id": "ce183217",
   "metadata": {},
   "source": [
    "## 2. 로나코"
   ]
  },
  {
   "cell_type": "code",
   "execution_count": 92,
   "id": "3e830976",
   "metadata": {},
   "outputs": [
    {
     "data": {
      "text/plain": [
       "[]"
      ]
     },
     "execution_count": 92,
     "metadata": {},
     "output_type": "execute_result"
    }
   ],
   "source": [
    "url = 'https://www.seoul.go.kr/coronaV/coronaStatus.do?pageIndex=0'\n",
    "gang_data = requests.get(url).content\n",
    "soup = BeautifulSoup(gang_data, 'html.parser')\n",
    "\n",
    "soup.select('#DataTables_Table_0 > tbody > tr')"
   ]
  },
  {
   "cell_type": "code",
   "execution_count": 170,
   "id": "6bce1ac9",
   "metadata": {},
   "outputs": [
    {
     "name": "stderr",
     "output_type": "stream",
     "text": [
      "/home/jaehoon/anaconda3/lib/python3.7/site-packages/ipykernel_launcher.py:4: TqdmDeprecationWarning: This function will be removed in tqdm==5.0.0\n",
      "Please use `tqdm.notebook.tqdm` instead of `tqdm.tqdm_notebook`\n",
      "  after removing the cwd from sys.path.\n"
     ]
    },
    {
     "data": {
      "application/vnd.jupyter.widget-view+json": {
       "model_id": "86a3aace9215428db9b6a5f471a53898",
       "version_major": 2,
       "version_minor": 0
      },
      "text/plain": [
       "  0%|          | 0/300 [00:00<?, ?it/s]"
      ]
     },
     "metadata": {},
     "output_type": "display_data"
    }
   ],
   "source": [
    "import json\n",
    "\n",
    "lst=[]\n",
    "for idx in tqdm_notebook(range(300)):\n",
    "    tmp_data = requests.get(\"https://news.seoul.go.kr/api/27/getCorona19Status/get_status_ajax_pre.php?draw={}&columns%5B0%5D%5Bdata%5D=0&columns%5B0%5D%5Bname%5D=&columns%5B0%5D%5Bsearchable%5D=true&columns%5B0%5D%5Borderable%5D=true&columns%5B0%5D%5Bsearch%5D%5Bvalue%5D=&columns%5B0%5D%5Bsearch%5D%5Bregex%5D=false&columns%5B1%5D%5Bdata%5D=1&columns%5B1%5D%5Bname%5D=&columns%5B1%5D%5Bsearchable%5D=true&columns%5B1%5D%5Borderable%5D=true&columns%5B1%5D%5Bsearch%5D%5Bvalue%5D=&columns%5B1%5D%5Bsearch%5D%5Bregex%5D=false&columns%5B2%5D%5Bdata%5D=2&columns%5B2%5D%5Bname%5D=&columns%5B2%5D%5Bsearchable%5D=true&columns%5B2%5D%5Borderable%5D=true&columns%5B2%5D%5Bsearch%5D%5Bvalue%5D=&columns%5B2%5D%5Bsearch%5D%5Bregex%5D=false&columns%5B3%5D%5Bdata%5D=3&columns%5B3%5D%5Bname%5D=&columns%5B3%5D%5Bsearchable%5D=true&columns%5B3%5D%5Borderable%5D=true&columns%5B3%5D%5Bsearch%5D%5Bvalue%5D=&columns%5B3%5D%5Bsearch%5D%5Bregex%5D=false&columns%5B4%5D%5Bdata%5D=4&columns%5B4%5D%5Bname%5D=&columns%5B4%5D%5Bsearchable%5D=true&columns%5B4%5D%5Borderable%5D=true&columns%5B4%5D%5Bsearch%5D%5Bvalue%5D=&columns%5B4%5D%5Bsearch%5D%5Bregex%5D=false&columns%5B5%5D%5Bdata%5D=5&columns%5B5%5D%5Bname%5D=&columns%5B5%5D%5Bsearchable%5D=true&columns%5B5%5D%5Borderable%5D=true&columns%5B5%5D%5Bsearch%5D%5Bvalue%5D=&columns%5B5%5D%5Bsearch%5D%5Bregex%5D=false&columns%5B6%5D%5Bdata%5D=6&columns%5B6%5D%5Bname%5D=&columns%5B6%5D%5Bsearchable%5D=true&columns%5B6%5D%5Borderable%5D=true&columns%5B6%5D%5Bsearch%5D%5Bvalue%5D=&columns%5B6%5D%5Bsearch%5D%5Bregex%5D=false&order%5B0%5D%5Bcolumn%5D=0&order%5B0%5D%5Bdir%5D=desc&start={}00&length=100&search%5Bvalue%5D=&search%5Bregex%5D=true&\".format(idx,idx)).content\n",
    "# tmp_data = requests.get('https://news.seoul.go.kr/api/27/getCorona19Status/get_status_ajax.php?draw=8&columns%5B0%5D%5Bdata%5D=0&columns%5B0%5D%5Bname%5D=&columns%5B0%5D%5Bsearchable%5D=true&columns%5B0%5D%5Borderable%5D=true&columns%5B0%5D%5Bsearch%5D%5Bvalue%5D=&columns%5B0%5D%5Bsearch%5D%5Bregex%5D=false&columns%5B1%5D%5Bdata%5D=1&columns%5B1%5D%5Bname%5D=&columns%5B1%5D%5Bsearchable%5D=true&columns%5B1%5D%5Borderable%5D=true&columns%5B1%5D%5Bsearch%5D%5Bvalue%5D=&columns%5B1%5D%5Bsearch%5D%5Bregex%5D=false&columns%5B2%5D%5Bdata%5D=2&columns%5B2%5D%5Bname%5D=&columns%5B2%5D%5Bsearchable%5D=true&columns%5B2%5D%5Borderable%5D=true&columns%5B2%5D%5Bsearch%5D%5Bvalue%5D=&columns%5B2%5D%5Bsearch%5D%5Bregex%5D=false&columns%5B3%5D%5Bdata%5D=3&columns%5B3%5D%5Bname%5D=&columns%5B3%5D%5Bsearchable%5D=true&columns%5B3%5D%5Borderable%5D=true&columns%5B3%5D%5Bsearch%5D%5Bvalue%5D=&columns%5B3%5D%5Bsearch%5D%5Bregex%5D=false&columns%5B4%5D%5Bdata%5D=4&columns%5B4%5D%5Bname%5D=&columns%5B4%5D%5Bsearchable%5D=true&columns%5B4%5D%5Borderable%5D=true&columns%5B4%5D%5Bsearch%5D%5Bvalue%5D=&columns%5B4%5D%5Bsearch%5D%5Bregex%5D=false&columns%5B5%5D%5Bdata%5D=5&columns%5B5%5D%5Bname%5D=&columns%5B5%5D%5Bsearchable%5D=true&columns%5B5%5D%5Borderable%5D=true&columns%5B5%5D%5Bsearch%5D%5Bvalue%5D=&columns%5B5%5D%5Bsearch%5D%5Bregex%5D=false&columns%5B6%5D%5Bdata%5D=6&columns%5B6%5D%5Bname%5D=&columns%5B6%5D%5Bsearchable%5D=true&columns%5B6%5D%5Borderable%5D=true&columns%5B6%5D%5Bsearch%5D%5Bvalue%5D=&columns%5B6%5D%5Bsearch%5D%5Bregex%5D=false&order%5B0%5D%5Bcolumn%5D=0&order%5B0%5D%5Bdir%5D=desc&start=200&length=100&search%5Bvalue%5D=&search%5Bregex%5D=true&_=1626075606409').content\n",
    "    data = json.loads(tmp_data)\n",
    "    lst.append(data)\n"
   ]
  },
  {
   "cell_type": "code",
   "execution_count": 187,
   "id": "5e6cdfc3",
   "metadata": {
    "scrolled": false
   },
   "outputs": [
    {
     "data": {
      "text/html": [
       "<div>\n",
       "<style scoped>\n",
       "    .dataframe tbody tr th:only-of-type {\n",
       "        vertical-align: middle;\n",
       "    }\n",
       "\n",
       "    .dataframe tbody tr th {\n",
       "        vertical-align: top;\n",
       "    }\n",
       "\n",
       "    .dataframe thead th {\n",
       "        text-align: right;\n",
       "    }\n",
       "</style>\n",
       "<table border=\"1\" class=\"dataframe\">\n",
       "  <thead>\n",
       "    <tr style=\"text-align: right;\">\n",
       "      <th></th>\n",
       "      <th>연번</th>\n",
       "      <th>환자</th>\n",
       "      <th>확진일</th>\n",
       "      <th>거주지</th>\n",
       "      <th>여행력</th>\n",
       "      <th>접촉력</th>\n",
       "      <th>퇴원현황</th>\n",
       "    </tr>\n",
       "  </thead>\n",
       "  <tbody>\n",
       "    <tr>\n",
       "      <th>0</th>\n",
       "      <td>&lt;p class='corona19_no'&gt;30000&lt;/p&gt;</td>\n",
       "      <td>95868</td>\n",
       "      <td>2021-03-14</td>\n",
       "      <td>강남구</td>\n",
       "      <td>-</td>\n",
       "      <td>기타 확진자 접촉</td>\n",
       "      <td>&lt;b class='status1'&gt;퇴원&lt;/b&gt;</td>\n",
       "    </tr>\n",
       "    <tr>\n",
       "      <th>1</th>\n",
       "      <td>&lt;p class='corona19_no'&gt;29999&lt;/p&gt;</td>\n",
       "      <td>95649</td>\n",
       "      <td>2021-03-14</td>\n",
       "      <td>용산구</td>\n",
       "      <td>-</td>\n",
       "      <td>감염경로 조사중</td>\n",
       "      <td>&lt;b class='status1'&gt;퇴원&lt;/b&gt;</td>\n",
       "    </tr>\n",
       "    <tr>\n",
       "      <th>2</th>\n",
       "      <td>&lt;p class='corona19_no'&gt;29998&lt;/p&gt;</td>\n",
       "      <td>95809</td>\n",
       "      <td>2021-03-14</td>\n",
       "      <td>관악구</td>\n",
       "      <td>-</td>\n",
       "      <td>영등포구 소재 빌딩 관련</td>\n",
       "      <td>&lt;b class='status1'&gt;퇴원&lt;/b&gt;</td>\n",
       "    </tr>\n",
       "    <tr>\n",
       "      <th>3</th>\n",
       "      <td>&lt;p class='corona19_no'&gt;29997&lt;/p&gt;</td>\n",
       "      <td>95805</td>\n",
       "      <td>2021-03-14</td>\n",
       "      <td>송파구</td>\n",
       "      <td>-</td>\n",
       "      <td>기타 확진자 접촉</td>\n",
       "      <td>&lt;b class='status1'&gt;퇴원&lt;/b&gt;</td>\n",
       "    </tr>\n",
       "    <tr>\n",
       "      <th>4</th>\n",
       "      <td>&lt;p class='corona19_no'&gt;29996&lt;/p&gt;</td>\n",
       "      <td>95812</td>\n",
       "      <td>2021-03-14</td>\n",
       "      <td>송파구</td>\n",
       "      <td>-</td>\n",
       "      <td>송파구 소재 병원 관련('21.3.)</td>\n",
       "      <td>&lt;b class='status1'&gt;퇴원&lt;/b&gt;</td>\n",
       "    </tr>\n",
       "    <tr>\n",
       "      <th>...</th>\n",
       "      <td>...</td>\n",
       "      <td>...</td>\n",
       "      <td>...</td>\n",
       "      <td>...</td>\n",
       "      <td>...</td>\n",
       "      <td>...</td>\n",
       "      <td>...</td>\n",
       "    </tr>\n",
       "    <tr>\n",
       "      <th>29995</th>\n",
       "      <td>&lt;p class='corona19_no'&gt;5&lt;/p&gt;</td>\n",
       "      <td>9</td>\n",
       "      <td>2020-01-31</td>\n",
       "      <td>성북구</td>\n",
       "      <td>-</td>\n",
       "      <td>기타 확진자 접촉</td>\n",
       "      <td>&lt;b class='status1'&gt;퇴원&lt;/b&gt;</td>\n",
       "    </tr>\n",
       "    <tr>\n",
       "      <th>29996</th>\n",
       "      <td>&lt;p class='corona19_no'&gt;4&lt;/p&gt;</td>\n",
       "      <td>7</td>\n",
       "      <td>2020-01-30</td>\n",
       "      <td>마포구</td>\n",
       "      <td>중국</td>\n",
       "      <td>해외유입</td>\n",
       "      <td>&lt;b class='status1'&gt;퇴원&lt;/b&gt;</td>\n",
       "    </tr>\n",
       "    <tr>\n",
       "      <th>29997</th>\n",
       "      <td>&lt;p class='corona19_no'&gt;3&lt;/p&gt;</td>\n",
       "      <td>6</td>\n",
       "      <td>2020-01-30</td>\n",
       "      <td>종로구</td>\n",
       "      <td>-</td>\n",
       "      <td>종로구 집단발병</td>\n",
       "      <td>&lt;b class='status1'&gt;퇴원&lt;/b&gt;</td>\n",
       "    </tr>\n",
       "    <tr>\n",
       "      <th>29998</th>\n",
       "      <td>&lt;p class='corona19_no'&gt;2&lt;/p&gt;</td>\n",
       "      <td>5</td>\n",
       "      <td>2020-01-30</td>\n",
       "      <td>중랑구</td>\n",
       "      <td>중국</td>\n",
       "      <td>해외유입</td>\n",
       "      <td>&lt;b class='status1'&gt;퇴원&lt;/b&gt;</td>\n",
       "    </tr>\n",
       "    <tr>\n",
       "      <th>29999</th>\n",
       "      <td>&lt;p class='corona19_no'&gt;1&lt;/p&gt;</td>\n",
       "      <td>2</td>\n",
       "      <td>2020-01-24</td>\n",
       "      <td>강서구</td>\n",
       "      <td>중국</td>\n",
       "      <td>해외유입</td>\n",
       "      <td>&lt;b class='status1'&gt;퇴원&lt;/b&gt;</td>\n",
       "    </tr>\n",
       "  </tbody>\n",
       "</table>\n",
       "<p>30000 rows × 7 columns</p>\n",
       "</div>"
      ],
      "text/plain": [
       "                                     연번     환자         확진일  거주지 여행력  \\\n",
       "0      <p class='corona19_no'>30000</p>  95868  2021-03-14  강남구   -   \n",
       "1      <p class='corona19_no'>29999</p>  95649  2021-03-14  용산구   -   \n",
       "2      <p class='corona19_no'>29998</p>  95809  2021-03-14  관악구   -   \n",
       "3      <p class='corona19_no'>29997</p>  95805  2021-03-14  송파구   -   \n",
       "4      <p class='corona19_no'>29996</p>  95812  2021-03-14  송파구   -   \n",
       "...                                 ...    ...         ...  ...  ..   \n",
       "29995      <p class='corona19_no'>5</p>      9  2020-01-31  성북구   -   \n",
       "29996      <p class='corona19_no'>4</p>      7  2020-01-30  마포구  중국   \n",
       "29997      <p class='corona19_no'>3</p>      6  2020-01-30  종로구   -   \n",
       "29998      <p class='corona19_no'>2</p>      5  2020-01-30  중랑구  중국   \n",
       "29999      <p class='corona19_no'>1</p>      2  2020-01-24  강서구  중국   \n",
       "\n",
       "                        접촉력                       퇴원현황  \n",
       "0                 기타 확진자 접촉  <b class='status1'>퇴원</b>  \n",
       "1                  감염경로 조사중  <b class='status1'>퇴원</b>  \n",
       "2             영등포구 소재 빌딩 관련  <b class='status1'>퇴원</b>  \n",
       "3                 기타 확진자 접촉  <b class='status1'>퇴원</b>  \n",
       "4      송파구 소재 병원 관련('21.3.)  <b class='status1'>퇴원</b>  \n",
       "...                     ...                        ...  \n",
       "29995             기타 확진자 접촉  <b class='status1'>퇴원</b>  \n",
       "29996                  해외유입  <b class='status1'>퇴원</b>  \n",
       "29997              종로구 집단발병  <b class='status1'>퇴원</b>  \n",
       "29998                  해외유입  <b class='status1'>퇴원</b>  \n",
       "29999                  해외유입  <b class='status1'>퇴원</b>  \n",
       "\n",
       "[30000 rows x 7 columns]"
      ]
     },
     "execution_count": 187,
     "metadata": {},
     "output_type": "execute_result"
    }
   ],
   "source": [
    "pd.DataFrame(sum(pd.DataFrame(lst)['data'], []), columns=['연번', '환자', '확진일', '거주지', '여행력', '접촉력', '퇴원현황'])"
   ]
  },
  {
   "cell_type": "markdown",
   "id": "1cdb5a6f",
   "metadata": {},
   "source": [
    "## 모범답안 강원관광"
   ]
  },
  {
   "cell_type": "markdown",
   "id": "154fb6c8",
   "metadata": {},
   "source": [
    "### 1개 가져오기"
   ]
  },
  {
   "cell_type": "code",
   "execution_count": 2,
   "id": "f219c9dd",
   "metadata": {},
   "outputs": [
    {
     "name": "stdout",
     "output_type": "stream",
     "text": [
      "해변 낙산해변 강원 양양군 양양읍 전진리와 조산리에 걸쳐있는 해수욕장이다. 동해안 지역의 많은 해수욕장 중에서 경포대 해수욕장과 함께 명소로 꼽힌다. 이곳은 울창한 소나무숲을 배경으로 4km의 백사장이 펼쳐져 있고, 설악산에서 흘러내리는 남대천이 하구에 큰 호수를 이루고 있어 담수도 풍부하다. \n"
     ]
    }
   ],
   "source": [
    "import requests\n",
    "from bs4 import BeautifulSoup\n",
    "\n",
    "url = 'https://www.gangwon.to/gwtour/gangwondo_trip/tourist_spot/nature'\n",
    "\n",
    "response_text = requests.get(url)\n",
    "html_text = response_text.content\n",
    "soup = BeautifulSoup(html_text, 'html.parser')\n",
    "\n",
    "# 데이터 1개 가져오기\n",
    "\n",
    "## 범위가 너무 넓다\n",
    "sample_li = soup.select_one('#contents > div.contsArea.skinContainer > ul.nlist01.clearfix > li')\n",
    "## class='text'만 가져오자\n",
    "sample_text_div = sample_li.find('div', {'class':'text'}) #select_one('div.text')\n",
    "\n",
    "## 분리해서 가져오자\n",
    "cat = sample_text_div.select_one('span').text\n",
    "title = sample_text_div.select_one('strong').text\n",
    "desc = sample_text_div.select_one('p').text\n",
    "\n",
    "print(cat, title, desc)"
   ]
  },
  {
   "cell_type": "markdown",
   "id": "0ba3960e",
   "metadata": {},
   "source": [
    "### 1페이지 데이터 가져오기"
   ]
  },
  {
   "cell_type": "code",
   "execution_count": 3,
   "id": "d92e15f8",
   "metadata": {},
   "outputs": [
    {
     "data": {
      "text/plain": [
       "6"
      ]
     },
     "execution_count": 3,
     "metadata": {},
     "output_type": "execute_result"
    }
   ],
   "source": [
    "tot_ul = soup.select_one('#contents > div.contsArea.skinContainer > ul.nlist01.clearfix')\n",
    "all_li = tot_ul.select('li') # 데이터 1개 짜리를 여러개 가져오겠다\n",
    "len(all_li)"
   ]
  },
  {
   "cell_type": "code",
   "execution_count": 4,
   "id": "6c3355ea",
   "metadata": {},
   "outputs": [
    {
     "name": "stdout",
     "output_type": "stream",
     "text": [
      "해변 망상해변 울창한 송림을 뒤로 해안선을 따라 끝없이 펼쳐진 깨끗한 백사장과 맑고 얕은 수심의 동해안 제1의 해변. 은빛 모래를 밟으며, 드넓은 수평선을 바라보며, 밀려오는 해풍에 가슴을 열고 드넓은 동해의 품에 안겨 가슴 속까지 시원함을 느껴볼 수 있다. 망상해변은 국민관광지 제2호로 지정되어있고 해안선의 길이는 2km정도이다. 수심은 1.5m를 유지한다. \n"
     ]
    }
   ],
   "source": [
    "for li in all_li:\n",
    "    text_div = li.select_one('div.text') # \"안전하게\" li 가져오기\n",
    "    cat = text_div.select_one('span').text\n",
    "    title = text_div.select_one('strong').text\n",
    "    desc = text_div.select_one('p').text\n",
    "\n",
    "print(cat, title, desc)\n",
    "    \n",
    "    "
   ]
  },
  {
   "cell_type": "markdown",
   "id": "42e052a6",
   "metadata": {},
   "source": [
    "### 모든 페이지(=페이지네이션) 데이터 가져오기"
   ]
  },
  {
   "cell_type": "markdown",
   "id": "84f1589a",
   "metadata": {},
   "source": [
    "#### post 방식은 key 값을 어떻게 보내야 할까?"
   ]
  },
  {
   "cell_type": "code",
   "execution_count": null,
   "id": "1374ada9",
   "metadata": {},
   "outputs": [],
   "source": [
    "import pandas as pd\n",
    "from tqdm.notebook import tqdm\n",
    "\n",
    "last_page = 102\n",
    "url = 'https://www.gangwon.to/gwtour/gangwondo_trip/tourist_spot/nature'\n",
    "\n",
    "datas = []\n",
    "for page in tqdm(range(1, last_page + 1)):\n",
    "    data = {'pageIndex': page}\n",
    "    # post 방식에서 key 보내는 방법\n",
    "    response = requests.post(url, data).content\n",
    "    soup = BeautifulSoup(response, 'html.parser')\n",
    "    \n",
    "    total_ul = soup.select_one(\"#contents > div.contsArea.skinContainer > ul.nlist01.clearfix\")\n",
    "    all_li = total_ul.select('li')\n",
    "    \n",
    "    for li in all_li:\n",
    "        text_div = li.select_one('div.text')\n",
    "        cat = text_div.select_one('span').text\n",
    "        title = text_div.select_one('strong').text\n",
    "        desc = text_div.select_one('p').text\n",
    "        \n",
    "        scrap_data = {\n",
    "            '카테고리': cat,\n",
    "            '관광지': title,\n",
    "            '관광지소개': desc,\n",
    "        }\n",
    "        \n",
    "        datas.append(scrap_data)\n",
    "        \n",
    "tour_df = pd.DataFrame(datas)\n",
    "tour_df.head()"
   ]
  },
  {
   "cell_type": "markdown",
   "id": "9e51db89",
   "metadata": {},
   "source": [
    "### 꿀팁 1. find는 언제 써야 할까?\n",
    "속성(클래스)들이 복잡할 때, select는 간단한 경우만\n",
    "\n",
    "- 미세먼지 팁  \n",
    "    **nth()child**\n",
    "    이거 자체가 selector라 bs4에서 지원 안 해준데"
   ]
  },
  {
   "cell_type": "markdown",
   "id": "9d3524d8",
   "metadata": {},
   "source": [
    "### 꿀팁 2. 안전한 크롤링\n",
    "사이트의 html이 바뀌어서 갑자기 크롤링이 안 될때,  \n",
    "\n",
    "어디에서 안 되는지 확인하기 위해서 for loop에  \n",
    "\n",
    "select_one할 것들의 **상위 클래스**를 **명시적**으로 넣어둔다"
   ]
  },
  {
   "cell_type": "markdown",
   "id": "c5ee68e4",
   "metadata": {},
   "source": [
    "### 꿀팁 3. for문을 pandas로 받으려면?\n",
    "\n",
    "- 닥치고 for문 안에 **dict**로 써놔라. df로 바꿀 때 엄청 편하다"
   ]
  },
  {
   "cell_type": "markdown",
   "id": "04fcad34",
   "metadata": {},
   "source": [
    "## 모범답안 로나코"
   ]
  },
  {
   "cell_type": "code",
   "execution_count": 8,
   "id": "93351f3a",
   "metadata": {},
   "outputs": [
    {
     "data": {
      "text/html": [
       "<div>\n",
       "<style scoped>\n",
       "    .dataframe tbody tr th:only-of-type {\n",
       "        vertical-align: middle;\n",
       "    }\n",
       "\n",
       "    .dataframe tbody tr th {\n",
       "        vertical-align: top;\n",
       "    }\n",
       "\n",
       "    .dataframe thead th {\n",
       "        text-align: right;\n",
       "    }\n",
       "</style>\n",
       "<table border=\"1\" class=\"dataframe\">\n",
       "  <thead>\n",
       "    <tr style=\"text-align: right;\">\n",
       "      <th></th>\n",
       "      <th>강남구</th>\n",
       "      <th>강동구</th>\n",
       "      <th>강북구</th>\n",
       "      <th>강서구</th>\n",
       "      <th>관악구</th>\n",
       "      <th>광진구</th>\n",
       "      <th>구로구</th>\n",
       "      <th>금천구</th>\n",
       "      <th>노원구</th>\n",
       "      <th>도봉구</th>\n",
       "      <th>동대문구</th>\n",
       "      <th>동작구</th>\n",
       "      <th>마포구</th>\n",
       "    </tr>\n",
       "  </thead>\n",
       "  <tbody>\n",
       "    <tr>\n",
       "      <th>0</th>\n",
       "      <td>3836</td>\n",
       "      <td>2195</td>\n",
       "      <td>1532</td>\n",
       "      <td>2624</td>\n",
       "      <td>2555</td>\n",
       "      <td>1866</td>\n",
       "      <td>1799</td>\n",
       "      <td>926</td>\n",
       "      <td>2500</td>\n",
       "      <td>1671</td>\n",
       "      <td>2006</td>\n",
       "      <td>2256</td>\n",
       "      <td>1892</td>\n",
       "    </tr>\n",
       "    <tr>\n",
       "      <th>1</th>\n",
       "      <td>+46</td>\n",
       "      <td>+13</td>\n",
       "      <td>+6</td>\n",
       "      <td>+19</td>\n",
       "      <td>+29</td>\n",
       "      <td>+13</td>\n",
       "      <td>+13</td>\n",
       "      <td>+11</td>\n",
       "      <td>+22</td>\n",
       "      <td>+7</td>\n",
       "      <td>+12</td>\n",
       "      <td>+15</td>\n",
       "      <td>+20</td>\n",
       "    </tr>\n",
       "    <tr>\n",
       "      <th>2</th>\n",
       "      <td>서대문구</td>\n",
       "      <td>서초구</td>\n",
       "      <td>성동구</td>\n",
       "      <td>성북구</td>\n",
       "      <td>송파구</td>\n",
       "      <td>양천구</td>\n",
       "      <td>영등포구</td>\n",
       "      <td>용산구</td>\n",
       "      <td>은평구</td>\n",
       "      <td>종로구</td>\n",
       "      <td>중구</td>\n",
       "      <td>중랑구</td>\n",
       "      <td>기타</td>\n",
       "    </tr>\n",
       "    <tr>\n",
       "      <th>3</th>\n",
       "      <td>1388</td>\n",
       "      <td>2482</td>\n",
       "      <td>1662</td>\n",
       "      <td>2257</td>\n",
       "      <td>3332</td>\n",
       "      <td>1882</td>\n",
       "      <td>2123</td>\n",
       "      <td>1611</td>\n",
       "      <td>2326</td>\n",
       "      <td>901</td>\n",
       "      <td>813</td>\n",
       "      <td>2269</td>\n",
       "      <td>4711</td>\n",
       "    </tr>\n",
       "    <tr>\n",
       "      <th>4</th>\n",
       "      <td>+4</td>\n",
       "      <td>+10</td>\n",
       "      <td>+19</td>\n",
       "      <td>+15</td>\n",
       "      <td>+30</td>\n",
       "      <td>+14</td>\n",
       "      <td>+19</td>\n",
       "      <td>+13</td>\n",
       "      <td>+20</td>\n",
       "      <td>+13</td>\n",
       "      <td>+5</td>\n",
       "      <td>+11</td>\n",
       "      <td>+18</td>\n",
       "    </tr>\n",
       "  </tbody>\n",
       "</table>\n",
       "</div>"
      ],
      "text/plain": [
       "    강남구   강동구   강북구   강서구   관악구   광진구   구로구   금천구   노원구   도봉구  동대문구   동작구  \\\n",
       "0  3836  2195  1532  2624  2555  1866  1799   926  2500  1671  2006  2256   \n",
       "1   +46   +13    +6   +19   +29   +13   +13   +11   +22    +7   +12   +15   \n",
       "2  서대문구   서초구   성동구   성북구   송파구   양천구  영등포구   용산구   은평구   종로구    중구   중랑구   \n",
       "3  1388  2482  1662  2257  3332  1882  2123  1611  2326   901   813  2269   \n",
       "4    +4   +10   +19   +15   +30   +14   +19   +13   +20   +13    +5   +11   \n",
       "\n",
       "    마포구  \n",
       "0  1892  \n",
       "1   +20  \n",
       "2    기타  \n",
       "3  4711  \n",
       "4   +18  "
      ]
     },
     "execution_count": 8,
     "metadata": {},
     "output_type": "execute_result"
    }
   ],
   "source": [
    "import requests\n",
    "import pandas as pd\n",
    "import numpy as np\n",
    "\n",
    "url = 'https://www.seoul.go.kr/coronaV/coronaStatus.do'\n",
    "\n",
    "# 와... ㅅX 이게 되네. 찬양해 갓다스\n",
    "table = pd.read_html(url)\n",
    "table[0]"
   ]
  },
  {
   "cell_type": "code",
   "execution_count": 9,
   "id": "f35123ab",
   "metadata": {
    "scrolled": true
   },
   "outputs": [
    {
     "data": {
      "text/html": [
       "<div>\n",
       "<style scoped>\n",
       "    .dataframe tbody tr th:only-of-type {\n",
       "        vertical-align: middle;\n",
       "    }\n",
       "\n",
       "    .dataframe tbody tr th {\n",
       "        vertical-align: top;\n",
       "    }\n",
       "\n",
       "    .dataframe thead th {\n",
       "        text-align: right;\n",
       "    }\n",
       "</style>\n",
       "<table border=\"1\" class=\"dataframe\">\n",
       "  <thead>\n",
       "    <tr style=\"text-align: right;\">\n",
       "      <th></th>\n",
       "      <th>0</th>\n",
       "      <th>1</th>\n",
       "      <th>2</th>\n",
       "      <th>3</th>\n",
       "    </tr>\n",
       "  </thead>\n",
       "  <tbody>\n",
       "    <tr>\n",
       "      <th>0</th>\n",
       "      <td>현재가</td>\n",
       "      <td>79800</td>\n",
       "      <td>매도호가</td>\n",
       "      <td>79900</td>\n",
       "    </tr>\n",
       "    <tr>\n",
       "      <th>1</th>\n",
       "      <td>전일대비</td>\n",
       "      <td>상승  100</td>\n",
       "      <td>매수호가</td>\n",
       "      <td>79800</td>\n",
       "    </tr>\n",
       "    <tr>\n",
       "      <th>2</th>\n",
       "      <td>등락률(%)</td>\n",
       "      <td>+0.13%</td>\n",
       "      <td>전일가</td>\n",
       "      <td>79700</td>\n",
       "    </tr>\n",
       "    <tr>\n",
       "      <th>3</th>\n",
       "      <td>거래량</td>\n",
       "      <td>9719768</td>\n",
       "      <td>시가</td>\n",
       "      <td>80000</td>\n",
       "    </tr>\n",
       "    <tr>\n",
       "      <th>4</th>\n",
       "      <td>거래대금(백만)</td>\n",
       "      <td>777311</td>\n",
       "      <td>고가</td>\n",
       "      <td>80200</td>\n",
       "    </tr>\n",
       "  </tbody>\n",
       "</table>\n",
       "</div>"
      ],
      "text/plain": [
       "          0        1     2      3\n",
       "0       현재가    79800  매도호가  79900\n",
       "1      전일대비  상승  100  매수호가  79800\n",
       "2    등락률(%)   +0.13%   전일가  79700\n",
       "3       거래량  9719768    시가  80000\n",
       "4  거래대금(백만)   777311    고가  80200"
      ]
     },
     "execution_count": 9,
     "metadata": {},
     "output_type": "execute_result"
    }
   ],
   "source": [
    "tmp_url = 'https://finance.naver.com/item/sise.nhn?code=005930'\n",
    "pd.read_html(tmp_url, encoding='cp949')[1].head()"
   ]
  },
  {
   "cell_type": "markdown",
   "id": "d643e317",
   "metadata": {},
   "source": [
    "### 주소 + 옵션 + JSON?\n",
    "\n",
    "- 크롬 익스텐션 Json 설치하면 아래 url을 한 방에 확인가능!"
   ]
  },
  {
   "cell_type": "code",
   "execution_count": 11,
   "id": "79c11811",
   "metadata": {},
   "outputs": [],
   "source": [
    "import json\n",
    "\n",
    "url = \"https://news.seoul.go.kr/api/27/getCorona19Status/get_status_ajax_pre.php?draw=1&start=100\"\n",
    "response = requests.get(url)\n",
    "data_json = response.content  # response.json() 을 사용하면 json.loads를 할 필요 없다!\n",
    "data_json = json.loads(data_json)\n",
    "\n",
    "records_total = data_json['recordsTotal']\n",
    "end_page = round(records_total / 100) + 1 if records_total % 100 != 0 else round(records_total / 100)"
   ]
  },
  {
   "cell_type": "code",
   "execution_count": 13,
   "id": "92a2e34f",
   "metadata": {
    "scrolled": true
   },
   "outputs": [
    {
     "data": {
      "application/vnd.jupyter.widget-view+json": {
       "model_id": "7ef7c3dd4f5344d98cd92818c8e864b2",
       "version_major": 2,
       "version_minor": 0
      },
      "text/plain": [
       "  0%|          | 0/3 [00:00<?, ?it/s]"
      ]
     },
     "metadata": {},
     "output_type": "display_data"
    }
   ],
   "source": [
    "from tqdm.notebook import tqdm\n",
    "\n",
    "\n",
    "def get_seoul_covid(page_no):\n",
    "    '''\n",
    "      page_no : draw값\n",
    "    '''\n",
    "    start = (page_no - 1) * 100\n",
    "    url = f\"https://news.seoul.go.kr/api/27/getCorona19Status/get_status_ajax.php?draw={page_no}&start={start}&length=100\"\n",
    "    res = requests.get(url)\n",
    "    json_data = res.json()  # json 데이터 불러오기\n",
    "\n",
    "    return json_data\n",
    "\n",
    "\n",
    "page_list = []\n",
    "\n",
    "example_end_page = 3\n",
    "\n",
    "for page_no in tqdm(range(1, example_end_page+1)):\n",
    "    data = get_seoul_covid(page_no)\n",
    "    covid_df = pd.DataFrame(data['data'])\n",
    "    page_list.append(covid_df)\n",
    "final_df = pd.concat(page_list)\n",
    "final_df.info()"
   ]
  },
  {
   "cell_type": "code",
   "execution_count": 16,
   "id": "1da4a945",
   "metadata": {},
   "outputs": [
    {
     "data": {
      "text/html": [
       "<div>\n",
       "<style scoped>\n",
       "    .dataframe tbody tr th:only-of-type {\n",
       "        vertical-align: middle;\n",
       "    }\n",
       "\n",
       "    .dataframe tbody tr th {\n",
       "        vertical-align: top;\n",
       "    }\n",
       "\n",
       "    .dataframe thead th {\n",
       "        text-align: right;\n",
       "    }\n",
       "</style>\n",
       "<table border=\"1\" class=\"dataframe\">\n",
       "  <thead>\n",
       "    <tr style=\"text-align: right;\">\n",
       "      <th></th>\n",
       "      <th>0</th>\n",
       "      <th>1</th>\n",
       "      <th>2</th>\n",
       "      <th>3</th>\n",
       "      <th>4</th>\n",
       "      <th>5</th>\n",
       "      <th>6</th>\n",
       "    </tr>\n",
       "  </thead>\n",
       "  <tbody>\n",
       "    <tr>\n",
       "      <th>0</th>\n",
       "      <td>&lt;p class='corona19_no'&gt;55415&lt;/p&gt;</td>\n",
       "      <td>169967</td>\n",
       "      <td>2021-07-12</td>\n",
       "      <td>영등포구</td>\n",
       "      <td>-</td>\n",
       "      <td>감염경로 조사중</td>\n",
       "      <td>&lt;b class=''&gt;-&lt;/b&gt;</td>\n",
       "    </tr>\n",
       "    <tr>\n",
       "      <th>1</th>\n",
       "      <td>&lt;p class='corona19_no'&gt;55414&lt;/p&gt;</td>\n",
       "      <td>169293</td>\n",
       "      <td>2021-07-12</td>\n",
       "      <td>타시도</td>\n",
       "      <td>-</td>\n",
       "      <td>감염경로 조사중</td>\n",
       "      <td>&lt;b class=''&gt;-&lt;/b&gt;</td>\n",
       "    </tr>\n",
       "    <tr>\n",
       "      <th>2</th>\n",
       "      <td>&lt;p class='corona19_no'&gt;55413&lt;/p&gt;</td>\n",
       "      <td>170295</td>\n",
       "      <td>2021-07-12</td>\n",
       "      <td>성동구</td>\n",
       "      <td>-</td>\n",
       "      <td>기타 확진자 접촉</td>\n",
       "      <td>&lt;b class=''&gt;-&lt;/b&gt;</td>\n",
       "    </tr>\n",
       "    <tr>\n",
       "      <th>3</th>\n",
       "      <td>&lt;p class='corona19_no'&gt;55412&lt;/p&gt;</td>\n",
       "      <td>170281</td>\n",
       "      <td>2021-07-12</td>\n",
       "      <td>광진구</td>\n",
       "      <td>-</td>\n",
       "      <td>감염경로 조사중</td>\n",
       "      <td>&lt;b class=''&gt;-&lt;/b&gt;</td>\n",
       "    </tr>\n",
       "    <tr>\n",
       "      <th>4</th>\n",
       "      <td>&lt;p class='corona19_no'&gt;55411&lt;/p&gt;</td>\n",
       "      <td>170012</td>\n",
       "      <td>2021-07-12</td>\n",
       "      <td>타시도</td>\n",
       "      <td>-</td>\n",
       "      <td>감염경로 조사중</td>\n",
       "      <td>&lt;b class=''&gt;-&lt;/b&gt;</td>\n",
       "    </tr>\n",
       "    <tr>\n",
       "      <th>...</th>\n",
       "      <td>...</td>\n",
       "      <td>...</td>\n",
       "      <td>...</td>\n",
       "      <td>...</td>\n",
       "      <td>...</td>\n",
       "      <td>...</td>\n",
       "      <td>...</td>\n",
       "    </tr>\n",
       "    <tr>\n",
       "      <th>95</th>\n",
       "      <td>&lt;p class='corona19_no'&gt;55120&lt;/p&gt;</td>\n",
       "      <td>169928</td>\n",
       "      <td>2021-07-12</td>\n",
       "      <td>성북구</td>\n",
       "      <td>-</td>\n",
       "      <td>기타 확진자 접촉</td>\n",
       "      <td>&lt;b class=''&gt;-&lt;/b&gt;</td>\n",
       "    </tr>\n",
       "    <tr>\n",
       "      <th>96</th>\n",
       "      <td>&lt;p class='corona19_no'&gt;55119&lt;/p&gt;</td>\n",
       "      <td>169711</td>\n",
       "      <td>2021-07-12</td>\n",
       "      <td>도봉구</td>\n",
       "      <td>-</td>\n",
       "      <td>병원 및 요양시설</td>\n",
       "      <td>&lt;b class=''&gt;-&lt;/b&gt;</td>\n",
       "    </tr>\n",
       "    <tr>\n",
       "      <th>97</th>\n",
       "      <td>&lt;p class='corona19_no'&gt;55118&lt;/p&gt;</td>\n",
       "      <td>169698</td>\n",
       "      <td>2021-07-12</td>\n",
       "      <td>구로구</td>\n",
       "      <td>-</td>\n",
       "      <td>기타 확진자 접촉</td>\n",
       "      <td>&lt;b class=''&gt;-&lt;/b&gt;</td>\n",
       "    </tr>\n",
       "    <tr>\n",
       "      <th>98</th>\n",
       "      <td>&lt;p class='corona19_no'&gt;55117&lt;/p&gt;</td>\n",
       "      <td>169629</td>\n",
       "      <td>2021-07-12</td>\n",
       "      <td>동대문구</td>\n",
       "      <td>-</td>\n",
       "      <td>동대문구 소재 고시텔 관련('21.6.)</td>\n",
       "      <td>&lt;b class=''&gt;-&lt;/b&gt;</td>\n",
       "    </tr>\n",
       "    <tr>\n",
       "      <th>99</th>\n",
       "      <td>&lt;p class='corona19_no'&gt;55116&lt;/p&gt;</td>\n",
       "      <td>169622</td>\n",
       "      <td>2021-07-12</td>\n",
       "      <td>동작구</td>\n",
       "      <td>-</td>\n",
       "      <td>동작구 소재 종교시설 관련('21.7.)</td>\n",
       "      <td>&lt;b class=''&gt;-&lt;/b&gt;</td>\n",
       "    </tr>\n",
       "  </tbody>\n",
       "</table>\n",
       "<p>300 rows × 7 columns</p>\n",
       "</div>"
      ],
      "text/plain": [
       "                                   0       1           2     3  4  \\\n",
       "0   <p class='corona19_no'>55415</p>  169967  2021-07-12  영등포구  -   \n",
       "1   <p class='corona19_no'>55414</p>  169293  2021-07-12   타시도  -   \n",
       "2   <p class='corona19_no'>55413</p>  170295  2021-07-12   성동구  -   \n",
       "3   <p class='corona19_no'>55412</p>  170281  2021-07-12   광진구  -   \n",
       "4   <p class='corona19_no'>55411</p>  170012  2021-07-12   타시도  -   \n",
       "..                               ...     ...         ...   ... ..   \n",
       "95  <p class='corona19_no'>55120</p>  169928  2021-07-12   성북구  -   \n",
       "96  <p class='corona19_no'>55119</p>  169711  2021-07-12   도봉구  -   \n",
       "97  <p class='corona19_no'>55118</p>  169698  2021-07-12   구로구  -   \n",
       "98  <p class='corona19_no'>55117</p>  169629  2021-07-12  동대문구  -   \n",
       "99  <p class='corona19_no'>55116</p>  169622  2021-07-12   동작구  -   \n",
       "\n",
       "                         5                  6  \n",
       "0                 감염경로 조사중  <b class=''>-</b>  \n",
       "1                 감염경로 조사중  <b class=''>-</b>  \n",
       "2                기타 확진자 접촉  <b class=''>-</b>  \n",
       "3                 감염경로 조사중  <b class=''>-</b>  \n",
       "4                 감염경로 조사중  <b class=''>-</b>  \n",
       "..                     ...                ...  \n",
       "95               기타 확진자 접촉  <b class=''>-</b>  \n",
       "96               병원 및 요양시설  <b class=''>-</b>  \n",
       "97               기타 확진자 접촉  <b class=''>-</b>  \n",
       "98  동대문구 소재 고시텔 관련('21.6.)  <b class=''>-</b>  \n",
       "99  동작구 소재 종교시설 관련('21.7.)  <b class=''>-</b>  \n",
       "\n",
       "[300 rows x 7 columns]"
      ]
     },
     "execution_count": 16,
     "metadata": {},
     "output_type": "execute_result"
    }
   ],
   "source": [
    "pd.concat(page_list)"
   ]
  }
 ],
 "metadata": {
  "kernelspec": {
   "display_name": "Python 3",
   "language": "python",
   "name": "python3"
  },
  "language_info": {
   "codemirror_mode": {
    "name": "ipython",
    "version": 3
   },
   "file_extension": ".py",
   "mimetype": "text/x-python",
   "name": "python",
   "nbconvert_exporter": "python",
   "pygments_lexer": "ipython3",
   "version": "3.7.10"
  },
  "toc": {
   "base_numbering": 1,
   "nav_menu": {},
   "number_sections": true,
   "sideBar": true,
   "skip_h1_title": false,
   "title_cell": "Table of Contents",
   "title_sidebar": "Contents",
   "toc_cell": false,
   "toc_position": {},
   "toc_section_display": true,
   "toc_window_display": true
  },
  "varInspector": {
   "cols": {
    "lenName": 16,
    "lenType": 16,
    "lenVar": 40
   },
   "kernels_config": {
    "python": {
     "delete_cmd_postfix": "",
     "delete_cmd_prefix": "del ",
     "library": "var_list.py",
     "varRefreshCmd": "print(var_dic_list())"
    },
    "r": {
     "delete_cmd_postfix": ") ",
     "delete_cmd_prefix": "rm(",
     "library": "var_list.r",
     "varRefreshCmd": "cat(var_dic_list()) "
    }
   },
   "oldHeight": 122.83000000000001,
   "position": {
    "height": "40px",
    "left": "689.429px",
    "right": "20px",
    "top": "2px",
    "width": "350px"
   },
   "types_to_exclude": [
    "module",
    "function",
    "builtin_function_or_method",
    "instance",
    "_Feature"
   ],
   "varInspector_section_display": "none",
   "window_display": true
  }
 },
 "nbformat": 4,
 "nbformat_minor": 5
}
