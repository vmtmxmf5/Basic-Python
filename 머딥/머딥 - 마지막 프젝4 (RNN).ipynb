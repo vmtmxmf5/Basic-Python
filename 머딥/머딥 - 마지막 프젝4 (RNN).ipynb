{
 "cells": [
  {
   "cell_type": "code",
   "execution_count": 2,
   "id": "337c84fe",
   "metadata": {},
   "outputs": [],
   "source": [
    "import numpy as np\n",
    "\n",
    "X_train = np.load('X_train_novel.npy')\n",
    "X_test = np.load('X_test_novel.npy')\n",
    "y_train = np.load('y_train_novel.npy')\n",
    "y_test = np.load('y_test_novel.npy')\n",
    "X_train_likes = np.load('X_train_likes_novel.npy')\n",
    "X_test_likes = np.load('X_test_likes_novel.npy')\n",
    "\n",
    "X_test_likes = X_test_likes.reshape(-1, 1)\n",
    "X_train_likes = X_train_likes.reshape(-1, 1)"
   ]
  },
  {
   "cell_type": "code",
   "execution_count": 3,
   "id": "a04687e2",
   "metadata": {},
   "outputs": [],
   "source": [
    "from tensorflow.keras import Model\n",
    "from tensorflow.keras.layers import Dense, LSTM, Flatten, Embedding, Dropout, Input, Concatenate, Bidirectional\n",
    "from tensorflow.keras.callbacks import EarlyStopping, ModelCheckpoint"
   ]
  },
  {
   "cell_type": "code",
   "execution_count": 4,
   "id": "24f90b86",
   "metadata": {},
   "outputs": [],
   "source": [
    "vocab_size = 28645 - 13227 + 2 # total_cnt - rare_cnt + 2\n",
    "\n",
    "input_A = Input(shape=X_train.shape[1:], name='review_input')\n",
    "input_B = Input(shape=X_train_likes.shape[1:], name='like_input')\n",
    "\n",
    "emb = Embedding(vocab_size, 100)(input_A)\n",
    "rnn1 = Bidirectional(LSTM(50, dropout=0.2, return_sequences=True))(emb)\n",
    "rnn2 = LSTM(50)(rnn1)\n",
    "flatten_A = Flatten()(rnn2)\n",
    "\n",
    "flatten_B = Flatten()(input_B)\n",
    "hidden1 = Dense(256, activation='elu', kernel_initializer='lecun_normal')(flatten_B)\n",
    "hidden2 = Dense(128, activation='tanh', kernel_initializer='lecun_normal')(hidden1)\n",
    "hidden3 = Dense(64, activation='selu', kernel_initializer='lecun_normal')(hidden2)\n",
    "\n",
    "concat = Concatenate()([flatten_A, hidden3])\n",
    "\n",
    "output = Dense(4, activation='softmax')(concat)\n",
    "model = Model(inputs=[input_A, input_B], outputs=[output])"
   ]
  },
  {
   "cell_type": "code",
   "execution_count": 7,
   "id": "455a1fbb",
   "metadata": {},
   "outputs": [
    {
     "name": "stdout",
     "output_type": "stream",
     "text": [
      "Train on 46284 samples, validate on 11572 samples\n",
      "Epoch 1/30\n",
      "46208/46284 [============================>.] - ETA: 0s - loss: 0.4651 - acc: 0.8200\n",
      "Epoch 00001: val_acc improved from -inf to 0.66773, saving model to best_model.h5\n",
      "46284/46284 [==============================] - 16s 336us/sample - loss: 0.4651 - acc: 0.8200 - val_loss: 0.9870 - val_acc: 0.6677\n",
      "Epoch 2/30\n",
      "46208/46284 [============================>.] - ETA: 0s - loss: 0.4510 - acc: 0.8253\n",
      "Epoch 00002: val_acc did not improve from 0.66773\n",
      "46284/46284 [==============================] - 13s 285us/sample - loss: 0.4509 - acc: 0.8254 - val_loss: 1.0062 - val_acc: 0.6642\n",
      "Epoch 3/30\n",
      "46208/46284 [============================>.] - ETA: 0s - loss: 0.4391 - acc: 0.8306\n",
      "Epoch 00003: val_acc did not improve from 0.66773\n",
      "46284/46284 [==============================] - 13s 286us/sample - loss: 0.4390 - acc: 0.8307 - val_loss: 1.0738 - val_acc: 0.6623\n",
      "Epoch 4/30\n",
      "46208/46284 [============================>.] - ETA: 0s - loss: 0.4286 - acc: 0.8339\n",
      "Epoch 00004: val_acc did not improve from 0.66773\n",
      "46284/46284 [==============================] - 13s 288us/sample - loss: 0.4286 - acc: 0.8339 - val_loss: 1.0372 - val_acc: 0.6618\n",
      "Epoch 5/30\n",
      "46208/46284 [============================>.] - ETA: 0s - loss: 0.4202 - acc: 0.8373\n",
      "Epoch 00005: val_acc did not improve from 0.66773\n",
      "46284/46284 [==============================] - 13s 287us/sample - loss: 0.4204 - acc: 0.8372 - val_loss: 1.0079 - val_acc: 0.6613\n",
      "Epoch 00005: early stopping\n"
     ]
    }
   ],
   "source": [
    "model.compile(\n",
    "    optimizer='rmsprop',\n",
    "    loss='sparse_categorical_crossentropy',\n",
    "    metrics=['acc']\n",
    ")\n",
    "\n",
    "\n",
    "es = EarlyStopping(monitor='val_loss', mode='min', verbose=1, patience=4)\n",
    "mc = ModelCheckpoint(\"best_model.h5\", monitor='val_acc', mode='max', verbose=1, save_best_only=True)\n",
    "\n",
    "history = model.fit((X_train, X_train_likes),\n",
    "                     y_train,\n",
    "                     epochs=30,\n",
    "                     callbacks=[es, mc],\n",
    "                     batch_size=128,\n",
    "                     validation_split=0.2\n",
    "                    )"
   ]
  },
  {
   "cell_type": "code",
   "execution_count": 9,
   "id": "0c8a56e2",
   "metadata": {},
   "outputs": [
    {
     "name": "stdout",
     "output_type": "stream",
     "text": [
      "14461/14461 [==============================] - 2s 127us/sample - loss: 1.0113 - acc: 0.6600\n"
     ]
    }
   ],
   "source": [
    "ce_test = model.evaluate((X_test, X_test_likes), y_test)\n",
    "y_pred = model.predict((X_test, X_test_likes))"
   ]
  },
  {
   "cell_type": "code",
   "execution_count": 53,
   "id": "09f1a8c5",
   "metadata": {},
   "outputs": [
    {
     "name": "stdout",
     "output_type": "stream",
     "text": [
      "test loss: 1.011, test acc: 0.660\n"
     ]
    }
   ],
   "source": [
    "print(f'test loss: {ce_test[0]:.3f}, test acc: {ce_test[1]:.3f}')"
   ]
  },
  {
   "cell_type": "code",
   "execution_count": 51,
   "id": "03951c9d",
   "metadata": {
    "scrolled": true
   },
   "outputs": [
    {
     "data": {
      "text/html": [
       "<div>\n",
       "<style scoped>\n",
       "    .dataframe tbody tr th:only-of-type {\n",
       "        vertical-align: middle;\n",
       "    }\n",
       "\n",
       "    .dataframe tbody tr th {\n",
       "        vertical-align: top;\n",
       "    }\n",
       "\n",
       "    .dataframe thead th {\n",
       "        text-align: right;\n",
       "    }\n",
       "</style>\n",
       "<table border=\"1\" class=\"dataframe\">\n",
       "  <thead>\n",
       "    <tr style=\"text-align: right;\">\n",
       "      <th></th>\n",
       "      <th>50</th>\n",
       "      <th>51</th>\n",
       "      <th>52</th>\n",
       "      <th>53</th>\n",
       "      <th>54</th>\n",
       "      <th>55</th>\n",
       "      <th>56</th>\n",
       "      <th>57</th>\n",
       "      <th>58</th>\n",
       "      <th>59</th>\n",
       "      <th>60</th>\n",
       "      <th>61</th>\n",
       "      <th>62</th>\n",
       "      <th>63</th>\n",
       "      <th>64</th>\n",
       "    </tr>\n",
       "  </thead>\n",
       "  <tbody>\n",
       "    <tr>\n",
       "      <th>Predcition</th>\n",
       "      <td>3.0</td>\n",
       "      <td>0.0</td>\n",
       "      <td>3.0</td>\n",
       "      <td>3.0</td>\n",
       "      <td>1.0</td>\n",
       "      <td>2.0</td>\n",
       "      <td>3.0</td>\n",
       "      <td>0.0</td>\n",
       "      <td>2.0</td>\n",
       "      <td>3.0</td>\n",
       "      <td>1.0</td>\n",
       "      <td>1.0</td>\n",
       "      <td>2.0</td>\n",
       "      <td>2.0</td>\n",
       "      <td>3.0</td>\n",
       "    </tr>\n",
       "    <tr>\n",
       "      <th>Target</th>\n",
       "      <td>3.0</td>\n",
       "      <td>0.0</td>\n",
       "      <td>3.0</td>\n",
       "      <td>3.0</td>\n",
       "      <td>1.0</td>\n",
       "      <td>2.0</td>\n",
       "      <td>3.0</td>\n",
       "      <td>0.0</td>\n",
       "      <td>0.0</td>\n",
       "      <td>1.0</td>\n",
       "      <td>3.0</td>\n",
       "      <td>1.0</td>\n",
       "      <td>2.0</td>\n",
       "      <td>2.0</td>\n",
       "      <td>3.0</td>\n",
       "    </tr>\n",
       "  </tbody>\n",
       "</table>\n",
       "</div>"
      ],
      "text/plain": [
       "             50   51   52   53   54   55   56   57   58   59   60   61   62  \\\n",
       "Predcition  3.0  0.0  3.0  3.0  1.0  2.0  3.0  0.0  2.0  3.0  1.0  1.0  2.0   \n",
       "Target      3.0  0.0  3.0  3.0  1.0  2.0  3.0  0.0  0.0  1.0  3.0  1.0  2.0   \n",
       "\n",
       "             63   64  \n",
       "Predcition  2.0  3.0  \n",
       "Target      2.0  3.0  "
      ]
     },
     "execution_count": 51,
     "metadata": {},
     "output_type": "execute_result"
    }
   ],
   "source": [
    "import pandas as pd\n",
    "prd = pd.DataFrame(np.argmax(y_pred, axis=1), columns=['Predcition']).T\n",
    "target = pd.DataFrame(y_test, columns=['Target']).T\n",
    "pd.concat([prd, target]).iloc[:, 50:65]"
   ]
  }
 ],
 "metadata": {
  "kernelspec": {
   "display_name": "Python 3",
   "language": "python",
   "name": "python3"
  },
  "language_info": {
   "codemirror_mode": {
    "name": "ipython",
    "version": 3
   },
   "file_extension": ".py",
   "mimetype": "text/x-python",
   "name": "python",
   "nbconvert_exporter": "python",
   "pygments_lexer": "ipython3",
   "version": "3.7.10"
  },
  "toc": {
   "base_numbering": 1,
   "nav_menu": {},
   "number_sections": true,
   "sideBar": true,
   "skip_h1_title": false,
   "title_cell": "Table of Contents",
   "title_sidebar": "Contents",
   "toc_cell": false,
   "toc_position": {},
   "toc_section_display": true,
   "toc_window_display": false
  },
  "varInspector": {
   "cols": {
    "lenName": 16,
    "lenType": 16,
    "lenVar": 40
   },
   "kernels_config": {
    "python": {
     "delete_cmd_postfix": "",
     "delete_cmd_prefix": "del ",
     "library": "var_list.py",
     "varRefreshCmd": "print(var_dic_list())"
    },
    "r": {
     "delete_cmd_postfix": ") ",
     "delete_cmd_prefix": "rm(",
     "library": "var_list.r",
     "varRefreshCmd": "cat(var_dic_list()) "
    }
   },
   "position": {
    "height": "248.839px",
    "left": "678.429px",
    "right": "20px",
    "top": "-6.99106px",
    "width": "350px"
   },
   "types_to_exclude": [
    "module",
    "function",
    "builtin_function_or_method",
    "instance",
    "_Feature"
   ],
   "window_display": true
  }
 },
 "nbformat": 4,
 "nbformat_minor": 5
}
