{
 "cells": [
  {
   "cell_type": "markdown",
   "id": "b52d3c94",
   "metadata": {},
   "source": [
    "## 강원관광"
   ]
  },
  {
   "cell_type": "code",
   "execution_count": 2,
   "id": "581e3403",
   "metadata": {},
   "outputs": [],
   "source": [
    "import requests\n",
    "from bs4 import BeautifulSoup"
   ]
  },
  {
   "cell_type": "code",
   "execution_count": 4,
   "id": "9e94f63c",
   "metadata": {
    "scrolled": true
   },
   "outputs": [],
   "source": [
    "url = 'https://www.gangwon.to/gwtour/gangwondo_trip/tourist_spot/nature'\n",
    "gang_data = requests.get(url).content\n",
    "soup = BeautifulSoup(gang_data, 'html.parser')"
   ]
  },
  {
   "cell_type": "code",
   "execution_count": 66,
   "id": "0678939c",
   "metadata": {
    "scrolled": true
   },
   "outputs": [
    {
     "data": {
      "text/plain": [
       "['해변',\n",
       " '낙산해변',\n",
       " '강원 양양군 양양읍 전진리와 조산리에 걸쳐있는 해수욕장이다. 동해안 지역의 많은 해수욕장 중에서 경포대 해수욕장과 함께 명소로 꼽힌다. 이곳은 울창한 소나무숲을 배경으로 4km의 백사장이 펼쳐져 있고, 설악산에서 흘러내리는 남대천이 하구에 큰 호수를 이루고 있어 담수도 풍부하다.']"
      ]
     },
     "execution_count": 66,
     "metadata": {},
     "output_type": "execute_result"
    }
   ],
   "source": [
    "import re\n",
    "idx = 0\n",
    "gang_tmp = soup.select('#contents > div.contsArea.skinContainer > ul.nlist01.clearfix > li')[idx].text\n",
    "gang_tmp = re.sub('[\\n ]{2,}', '', gang_tmp)\n",
    "gang_tmp = gang_tmp.split('\\n')\n",
    "gang_tmp"
   ]
  },
  {
   "cell_type": "code",
   "execution_count": 72,
   "id": "6f24188f",
   "metadata": {},
   "outputs": [
    {
     "data": {
      "text/plain": [
       "102"
      ]
     },
     "execution_count": 72,
     "metadata": {},
     "output_type": "execute_result"
    }
   ],
   "source": [
    "(609 // 6) + 1"
   ]
  },
  {
   "cell_type": "code",
   "execution_count": 73,
   "id": "cca33e1a",
   "metadata": {},
   "outputs": [
    {
     "name": "stderr",
     "output_type": "stream",
     "text": [
      "/home/jaehoon/anaconda3/lib/python3.7/site-packages/ipykernel_launcher.py:9: TqdmDeprecationWarning: This function will be removed in tqdm==5.0.0\n",
      "Please use `tqdm.notebook.tqdm` instead of `tqdm.tqdm_notebook`\n",
      "  if __name__ == '__main__':\n"
     ]
    },
    {
     "data": {
      "application/vnd.jupyter.widget-view+json": {
       "model_id": "f18521f81a6a4fe6b5f6d0f40a36600d",
       "version_major": 2,
       "version_minor": 0
      },
      "text/plain": [
       "  0%|          | 0/102 [00:00<?, ?it/s]"
      ]
     },
     "metadata": {},
     "output_type": "display_data"
    },
    {
     "name": "stderr",
     "output_type": "stream",
     "text": [
      "IOPub data rate exceeded.\n",
      "The notebook server will temporarily stop sending output\n",
      "to the client in order to avoid crashing it.\n",
      "To change this limit, set the config variable\n",
      "`--NotebookApp.iopub_data_rate_limit`.\n",
      "\n",
      "Current values:\n",
      "NotebookApp.iopub_data_rate_limit=1000000.0 (bytes/sec)\n",
      "NotebookApp.rate_limit_window=3.0 (secs)\n",
      "\n"
     ]
    }
   ],
   "source": [
    "from tqdm import tqdm_notebook\n",
    "tot_page_num = (609 // 6) + 1 # 페이지 개수 공식 \n",
    "\n",
    "loc_url = 'https://www.gangwon.to/gwtour/gangwondo_trip/tourist_spot/nature?pageIndex={}' # 넷웍에서 확인한 파라미터\n",
    "dat = [] # 최종\n",
    "data_list = [] # 페이지별 데이터\n",
    "\n",
    "# 페이지별로 돌아가면서 정보 쓸어오기\n",
    "for page in tqdm_notebook(range(1, tot_page_num+1)):\n",
    "    page_url = loc_url.format(page)\n",
    "    search_page_html = requests.get(page_url).content\n",
    "    search_page_soup = BeautifulSoup(search_page_html, 'html.parser')\n",
    "    \n",
    "    if page < 102:\n",
    "    # 각 페이지에 있는 데이터를 전처리 후 리스트에 담음\n",
    "        for idx in range(6):\n",
    "            gang_tmp = search_page_soup.select('#contents > div.contsArea.skinContainer > ul.nlist01.clearfix > li')[idx].text\n",
    "            gang_tmp = re.sub('[\\n ]{2,}', '', gang_tmp)\n",
    "            gang_tmp = gang_tmp.split('\\n')\n",
    "\n",
    "            data_list.append(gang_tmp)\n",
    "    \n",
    "    else:\n",
    "        for idx in range(3):\n",
    "            gang_tmp = search_page_soup.select('#contents > div.contsArea.skinContainer > ul.nlist01.clearfix > li')[idx].text\n",
    "            gang_tmp = re.sub('[\\n ]{2,}', '', gang_tmp)\n",
    "            gang_tmp = gang_tmp.split('\\n')\n",
    "\n",
    "            data_list.append(gang_tmp)\n",
    "    \n",
    "    # 페이지별 정보를 다시 종합    \n",
    "    dat.append(data_list)\n",
    "\n",
    "print(dat)\n"
   ]
  },
  {
   "cell_type": "code",
   "execution_count": 84,
   "id": "02fc2e43",
   "metadata": {
    "scrolled": true
   },
   "outputs": [
    {
     "data": {
      "text/html": [
       "<div>\n",
       "<style scoped>\n",
       "    .dataframe tbody tr th:only-of-type {\n",
       "        vertical-align: middle;\n",
       "    }\n",
       "\n",
       "    .dataframe tbody tr th {\n",
       "        vertical-align: top;\n",
       "    }\n",
       "\n",
       "    .dataframe thead th {\n",
       "        text-align: right;\n",
       "    }\n",
       "</style>\n",
       "<table border=\"1\" class=\"dataframe\">\n",
       "  <thead>\n",
       "    <tr style=\"text-align: right;\">\n",
       "      <th></th>\n",
       "      <th>0</th>\n",
       "      <th>1</th>\n",
       "      <th>2</th>\n",
       "    </tr>\n",
       "  </thead>\n",
       "  <tbody>\n",
       "    <tr>\n",
       "      <th>0</th>\n",
       "      <td>해변</td>\n",
       "      <td>낙산해변</td>\n",
       "      <td>강원 양양군 양양읍 전진리와 조산리에 걸쳐있는 해수욕장이다. 동해안 지역의 많은 해...</td>\n",
       "    </tr>\n",
       "    <tr>\n",
       "      <th>1</th>\n",
       "      <td>섬</td>\n",
       "      <td>남이섬</td>\n",
       "      <td>동화나라 노래의 섬 남이섬은 원래는 구릉지로 만들어진 작은 봉우리였다고 한다. 지금...</td>\n",
       "    </tr>\n",
       "    <tr>\n",
       "      <th>2</th>\n",
       "      <td>공원</td>\n",
       "      <td>추암근린공원</td>\n",
       "      <td>강원도 동해시 추암동에 위치하고 있으며, 전국 최고의 해돋이 명소인 ‘추암촛대바위’...</td>\n",
       "    </tr>\n",
       "    <tr>\n",
       "      <th>3</th>\n",
       "      <td>해변</td>\n",
       "      <td>추암해변</td>\n",
       "      <td>동해안의 삼해금강이라고도 불리우는 맑은 물과 잘게 부서진 백사장이 아름다운 추암해변...</td>\n",
       "    </tr>\n",
       "    <tr>\n",
       "      <th>4</th>\n",
       "      <td>해변</td>\n",
       "      <td>속초해변/속초해수욕장</td>\n",
       "      <td>속초시민과 관광객들의 발길이 항상 끊이질 않는 곳으로 공원과 꽃길, 송림 산책로가...</td>\n",
       "    </tr>\n",
       "    <tr>\n",
       "      <th>...</th>\n",
       "      <td>...</td>\n",
       "      <td>...</td>\n",
       "      <td>...</td>\n",
       "    </tr>\n",
       "    <tr>\n",
       "      <th>62113</th>\n",
       "      <td>해안비경</td>\n",
       "      <td>초곡용굴촛대바위길</td>\n",
       "      <td>깨끗한 바다와 기암괴석, 해안절벽에 데크길과 충렁다리등이 조성되어 바다향과 파도, ...</td>\n",
       "    </tr>\n",
       "    <tr>\n",
       "      <th>62114</th>\n",
       "      <td>공원</td>\n",
       "      <td>파로호꽃섬</td>\n",
       "      <td>파로호 습지의 갈대숲을 2018년도 꽃섬으로 조성한 곳이다. 사계절 다양한 꽃을 볼...</td>\n",
       "    </tr>\n",
       "    <tr>\n",
       "      <th>62115</th>\n",
       "      <td>자연생태</td>\n",
       "      <td>DMZ펀치볼둘레길</td>\n",
       "      <td>DMZ펀치볼둘레길은 국토정중앙 최북단이라는 상징성과 전쟁과 평화에 관련된 테마를 중...</td>\n",
       "    </tr>\n",
       "    <tr>\n",
       "      <th>62116</th>\n",
       "      <td>자연휴양림</td>\n",
       "      <td>망경대산자연휴양림</td>\n",
       "      <td>이끼와 돌을 활용한 암석이끼원 돌집건축 등을 배치해 휴식과 체험이 이뤄지는 휴양공간...</td>\n",
       "    </tr>\n",
       "    <tr>\n",
       "      <th>62117</th>\n",
       "      <td>자연생태</td>\n",
       "      <td>삼척두루미마을</td>\n",
       "      <td>두루미를 비롯한 다양한 동물들을 사육하고 있으며, 유아.청소년들을 위한 체험프로그램...</td>\n",
       "    </tr>\n",
       "  </tbody>\n",
       "</table>\n",
       "<p>62118 rows × 3 columns</p>\n",
       "</div>"
      ],
      "text/plain": [
       "           0            1                                                  2\n",
       "0         해변         낙산해변  강원 양양군 양양읍 전진리와 조산리에 걸쳐있는 해수욕장이다. 동해안 지역의 많은 해...\n",
       "1          섬          남이섬  동화나라 노래의 섬 남이섬은 원래는 구릉지로 만들어진 작은 봉우리였다고 한다. 지금...\n",
       "2         공원       추암근린공원  강원도 동해시 추암동에 위치하고 있으며, 전국 최고의 해돋이 명소인 ‘추암촛대바위’...\n",
       "3         해변         추암해변  동해안의 삼해금강이라고도 불리우는 맑은 물과 잘게 부서진 백사장이 아름다운 추암해변...\n",
       "4         해변  속초해변/속초해수욕장   속초시민과 관광객들의 발길이 항상 끊이질 않는 곳으로 공원과 꽃길, 송림 산책로가...\n",
       "...      ...          ...                                                ...\n",
       "62113   해안비경    초곡용굴촛대바위길  깨끗한 바다와 기암괴석, 해안절벽에 데크길과 충렁다리등이 조성되어 바다향과 파도, ...\n",
       "62114     공원        파로호꽃섬  파로호 습지의 갈대숲을 2018년도 꽃섬으로 조성한 곳이다. 사계절 다양한 꽃을 볼...\n",
       "62115   자연생태    DMZ펀치볼둘레길  DMZ펀치볼둘레길은 국토정중앙 최북단이라는 상징성과 전쟁과 평화에 관련된 테마를 중...\n",
       "62116  자연휴양림    망경대산자연휴양림  이끼와 돌을 활용한 암석이끼원 돌집건축 등을 배치해 휴식과 체험이 이뤄지는 휴양공간...\n",
       "62117   자연생태      삼척두루미마을  두루미를 비롯한 다양한 동물들을 사육하고 있으며, 유아.청소년들을 위한 체험프로그램...\n",
       "\n",
       "[62118 rows x 3 columns]"
      ]
     },
     "execution_count": 84,
     "metadata": {},
     "output_type": "execute_result"
    }
   ],
   "source": [
    "pd.DataFrame(sum(dat,[])).iloc[:, 0:3]"
   ]
  },
  {
   "cell_type": "code",
   "execution_count": 199,
   "id": "022555f7",
   "metadata": {
    "scrolled": true
   },
   "outputs": [
    {
     "ename": "SyntaxError",
     "evalue": "unexpected EOF while parsing (<ipython-input-199-239fb4eb7416>, line 1)",
     "output_type": "error",
     "traceback": [
      "\u001b[0;36m  File \u001b[0;32m\"<ipython-input-199-239fb4eb7416>\"\u001b[0;36m, line \u001b[0;32m1\u001b[0m\n\u001b[0;31m    pd.DataFrame(sum(dat,[]).iloc[:, 0:3]\u001b[0m\n\u001b[0m                                         ^\u001b[0m\n\u001b[0;31mSyntaxError\u001b[0m\u001b[0;31m:\u001b[0m unexpected EOF while parsing\n"
     ]
    }
   ],
   "source": [
    "pd.DataFrame(sum(dat,[]).iloc[:, 0:3]"
   ]
  },
  {
   "cell_type": "code",
   "execution_count": 210,
   "id": "7e15f0f6",
   "metadata": {},
   "outputs": [
    {
     "data": {
      "text/html": [
       "<div>\n",
       "<style scoped>\n",
       "    .dataframe tbody tr th:only-of-type {\n",
       "        vertical-align: middle;\n",
       "    }\n",
       "\n",
       "    .dataframe tbody tr th {\n",
       "        vertical-align: top;\n",
       "    }\n",
       "\n",
       "    .dataframe thead th {\n",
       "        text-align: right;\n",
       "    }\n",
       "</style>\n",
       "<table border=\"1\" class=\"dataframe\">\n",
       "  <thead>\n",
       "    <tr style=\"text-align: right;\">\n",
       "      <th></th>\n",
       "      <th>0</th>\n",
       "      <th>1</th>\n",
       "      <th>설명</th>\n",
       "    </tr>\n",
       "  </thead>\n",
       "  <tbody>\n",
       "    <tr>\n",
       "      <th>0</th>\n",
       "      <td>해변</td>\n",
       "      <td>낙산해변</td>\n",
       "      <td>강원 양양군 양양읍 전진리와 조산리에 걸쳐있는 해수욕장이다. 동해안 지역의 많은 해...</td>\n",
       "    </tr>\n",
       "    <tr>\n",
       "      <th>1</th>\n",
       "      <td>섬</td>\n",
       "      <td>남이섬</td>\n",
       "      <td>동화나라 노래의 섬 남이섬은 원래는 구릉지로 만들어진 작은 봉우리였다고 한다. 지금...</td>\n",
       "    </tr>\n",
       "    <tr>\n",
       "      <th>2</th>\n",
       "      <td>공원</td>\n",
       "      <td>추암근린공원</td>\n",
       "      <td>강원도 동해시 추암동에 위치하고 있으며, 전국 최고의 해돋이 명소인 ‘추암촛대바위’...</td>\n",
       "    </tr>\n",
       "    <tr>\n",
       "      <th>3</th>\n",
       "      <td>해변</td>\n",
       "      <td>추암해변</td>\n",
       "      <td>동해안의 삼해금강이라고도 불리우는 맑은 물과 잘게 부서진 백사장이 아름다운 추암해변...</td>\n",
       "    </tr>\n",
       "    <tr>\n",
       "      <th>4</th>\n",
       "      <td>해변</td>\n",
       "      <td>속초해변/속초해수욕장</td>\n",
       "      <td>속초시민과 관광객들의 발길이 항상 끊이질 않는 곳으로 공원과 꽃길, 송림 산책로가...</td>\n",
       "    </tr>\n",
       "    <tr>\n",
       "      <th>...</th>\n",
       "      <td>...</td>\n",
       "      <td>...</td>\n",
       "      <td>...</td>\n",
       "    </tr>\n",
       "    <tr>\n",
       "      <th>62113</th>\n",
       "      <td>해안비경</td>\n",
       "      <td>초곡용굴촛대바위길</td>\n",
       "      <td>깨끗한 바다와 기암괴석, 해안절벽에 데크길과 충렁다리등이 조성되어 바다향과 파도, ...</td>\n",
       "    </tr>\n",
       "    <tr>\n",
       "      <th>62114</th>\n",
       "      <td>공원</td>\n",
       "      <td>파로호꽃섬</td>\n",
       "      <td>파로호 습지의 갈대숲을 2018년도 꽃섬으로 조성한 곳이다. 사계절 다양한 꽃을 볼...</td>\n",
       "    </tr>\n",
       "    <tr>\n",
       "      <th>62115</th>\n",
       "      <td>자연생태</td>\n",
       "      <td>DMZ펀치볼둘레길</td>\n",
       "      <td>DMZ펀치볼둘레길은 국토정중앙 최북단이라는 상징성과 전쟁과 평화에 관련된 테마를 중...</td>\n",
       "    </tr>\n",
       "    <tr>\n",
       "      <th>62116</th>\n",
       "      <td>자연휴양림</td>\n",
       "      <td>망경대산자연휴양림</td>\n",
       "      <td>이끼와 돌을 활용한 암석이끼원 돌집건축 등을 배치해 휴식과 체험이 이뤄지는 휴양공간...</td>\n",
       "    </tr>\n",
       "    <tr>\n",
       "      <th>62117</th>\n",
       "      <td>자연생태</td>\n",
       "      <td>삼척두루미마을</td>\n",
       "      <td>두루미를 비롯한 다양한 동물들을 사육하고 있으며, 유아.청소년들을 위한 체험프로그램...</td>\n",
       "    </tr>\n",
       "  </tbody>\n",
       "</table>\n",
       "<p>62118 rows × 3 columns</p>\n",
       "</div>"
      ],
      "text/plain": [
       "           0            1                                                 설명\n",
       "0         해변         낙산해변  강원 양양군 양양읍 전진리와 조산리에 걸쳐있는 해수욕장이다. 동해안 지역의 많은 해...\n",
       "1          섬          남이섬  동화나라 노래의 섬 남이섬은 원래는 구릉지로 만들어진 작은 봉우리였다고 한다. 지금...\n",
       "2         공원       추암근린공원  강원도 동해시 추암동에 위치하고 있으며, 전국 최고의 해돋이 명소인 ‘추암촛대바위’...\n",
       "3         해변         추암해변  동해안의 삼해금강이라고도 불리우는 맑은 물과 잘게 부서진 백사장이 아름다운 추암해변...\n",
       "4         해변  속초해변/속초해수욕장   속초시민과 관광객들의 발길이 항상 끊이질 않는 곳으로 공원과 꽃길, 송림 산책로가...\n",
       "...      ...          ...                                                ...\n",
       "62113   해안비경    초곡용굴촛대바위길  깨끗한 바다와 기암괴석, 해안절벽에 데크길과 충렁다리등이 조성되어 바다향과 파도, ...\n",
       "62114     공원        파로호꽃섬  파로호 습지의 갈대숲을 2018년도 꽃섬으로 조성한 곳이다. 사계절 다양한 꽃을 볼...\n",
       "62115   자연생태    DMZ펀치볼둘레길  DMZ펀치볼둘레길은 국토정중앙 최북단이라는 상징성과 전쟁과 평화에 관련된 테마를 중...\n",
       "62116  자연휴양림    망경대산자연휴양림  이끼와 돌을 활용한 암석이끼원 돌집건축 등을 배치해 휴식과 체험이 이뤄지는 휴양공간...\n",
       "62117   자연생태      삼척두루미마을  두루미를 비롯한 다양한 동물들을 사육하고 있으며, 유아.청소년들을 위한 체험프로그램...\n",
       "\n",
       "[62118 rows x 3 columns]"
      ]
     },
     "execution_count": 210,
     "metadata": {},
     "output_type": "execute_result"
    }
   ],
   "source": [
    "df_fin = pd.DataFrame(sum(dat, []))\n",
    "df_fin.fillna(' ', inplace=True)\n",
    "df_fin['설명'] = df_fin[[2, 3, 4, 5]].apply(' '.join, axis=1)\n",
    "df_fin.drop(df_fin[[2, 3, 4, 5]], axis=1)"
   ]
  },
  {
   "cell_type": "markdown",
   "id": "d0b1dccc",
   "metadata": {},
   "source": [
    "## 2. 로나코"
   ]
  },
  {
   "cell_type": "code",
   "execution_count": 92,
   "id": "56035195",
   "metadata": {},
   "outputs": [
    {
     "data": {
      "text/plain": [
       "[]"
      ]
     },
     "execution_count": 92,
     "metadata": {},
     "output_type": "execute_result"
    }
   ],
   "source": [
    "url = 'https://www.seoul.go.kr/coronaV/coronaStatus.do?pageIndex=0'\n",
    "gang_data = requests.get(url).content\n",
    "soup = BeautifulSoup(gang_data, 'html.parser')\n",
    "\n",
    "soup.select('#DataTables_Table_0 > tbody > tr')"
   ]
  },
  {
   "cell_type": "code",
   "execution_count": 170,
   "id": "5b9a57da",
   "metadata": {},
   "outputs": [
    {
     "name": "stderr",
     "output_type": "stream",
     "text": [
      "/home/jaehoon/anaconda3/lib/python3.7/site-packages/ipykernel_launcher.py:4: TqdmDeprecationWarning: This function will be removed in tqdm==5.0.0\n",
      "Please use `tqdm.notebook.tqdm` instead of `tqdm.tqdm_notebook`\n",
      "  after removing the cwd from sys.path.\n"
     ]
    },
    {
     "data": {
      "application/vnd.jupyter.widget-view+json": {
       "model_id": "86a3aace9215428db9b6a5f471a53898",
       "version_major": 2,
       "version_minor": 0
      },
      "text/plain": [
       "  0%|          | 0/300 [00:00<?, ?it/s]"
      ]
     },
     "metadata": {},
     "output_type": "display_data"
    }
   ],
   "source": [
    "import json\n",
    "\n",
    "lst=[]\n",
    "for idx in tqdm_notebook(range(300)):\n",
    "    tmp_data = requests.get(\"https://news.seoul.go.kr/api/27/getCorona19Status/get_status_ajax_pre.php?draw={}&columns%5B0%5D%5Bdata%5D=0&columns%5B0%5D%5Bname%5D=&columns%5B0%5D%5Bsearchable%5D=true&columns%5B0%5D%5Borderable%5D=true&columns%5B0%5D%5Bsearch%5D%5Bvalue%5D=&columns%5B0%5D%5Bsearch%5D%5Bregex%5D=false&columns%5B1%5D%5Bdata%5D=1&columns%5B1%5D%5Bname%5D=&columns%5B1%5D%5Bsearchable%5D=true&columns%5B1%5D%5Borderable%5D=true&columns%5B1%5D%5Bsearch%5D%5Bvalue%5D=&columns%5B1%5D%5Bsearch%5D%5Bregex%5D=false&columns%5B2%5D%5Bdata%5D=2&columns%5B2%5D%5Bname%5D=&columns%5B2%5D%5Bsearchable%5D=true&columns%5B2%5D%5Borderable%5D=true&columns%5B2%5D%5Bsearch%5D%5Bvalue%5D=&columns%5B2%5D%5Bsearch%5D%5Bregex%5D=false&columns%5B3%5D%5Bdata%5D=3&columns%5B3%5D%5Bname%5D=&columns%5B3%5D%5Bsearchable%5D=true&columns%5B3%5D%5Borderable%5D=true&columns%5B3%5D%5Bsearch%5D%5Bvalue%5D=&columns%5B3%5D%5Bsearch%5D%5Bregex%5D=false&columns%5B4%5D%5Bdata%5D=4&columns%5B4%5D%5Bname%5D=&columns%5B4%5D%5Bsearchable%5D=true&columns%5B4%5D%5Borderable%5D=true&columns%5B4%5D%5Bsearch%5D%5Bvalue%5D=&columns%5B4%5D%5Bsearch%5D%5Bregex%5D=false&columns%5B5%5D%5Bdata%5D=5&columns%5B5%5D%5Bname%5D=&columns%5B5%5D%5Bsearchable%5D=true&columns%5B5%5D%5Borderable%5D=true&columns%5B5%5D%5Bsearch%5D%5Bvalue%5D=&columns%5B5%5D%5Bsearch%5D%5Bregex%5D=false&columns%5B6%5D%5Bdata%5D=6&columns%5B6%5D%5Bname%5D=&columns%5B6%5D%5Bsearchable%5D=true&columns%5B6%5D%5Borderable%5D=true&columns%5B6%5D%5Bsearch%5D%5Bvalue%5D=&columns%5B6%5D%5Bsearch%5D%5Bregex%5D=false&order%5B0%5D%5Bcolumn%5D=0&order%5B0%5D%5Bdir%5D=desc&start={}00&length=100&search%5Bvalue%5D=&search%5Bregex%5D=true&\".format(idx,idx)).content\n",
    "# tmp_data = requests.get('https://news.seoul.go.kr/api/27/getCorona19Status/get_status_ajax.php?draw=8&columns%5B0%5D%5Bdata%5D=0&columns%5B0%5D%5Bname%5D=&columns%5B0%5D%5Bsearchable%5D=true&columns%5B0%5D%5Borderable%5D=true&columns%5B0%5D%5Bsearch%5D%5Bvalue%5D=&columns%5B0%5D%5Bsearch%5D%5Bregex%5D=false&columns%5B1%5D%5Bdata%5D=1&columns%5B1%5D%5Bname%5D=&columns%5B1%5D%5Bsearchable%5D=true&columns%5B1%5D%5Borderable%5D=true&columns%5B1%5D%5Bsearch%5D%5Bvalue%5D=&columns%5B1%5D%5Bsearch%5D%5Bregex%5D=false&columns%5B2%5D%5Bdata%5D=2&columns%5B2%5D%5Bname%5D=&columns%5B2%5D%5Bsearchable%5D=true&columns%5B2%5D%5Borderable%5D=true&columns%5B2%5D%5Bsearch%5D%5Bvalue%5D=&columns%5B2%5D%5Bsearch%5D%5Bregex%5D=false&columns%5B3%5D%5Bdata%5D=3&columns%5B3%5D%5Bname%5D=&columns%5B3%5D%5Bsearchable%5D=true&columns%5B3%5D%5Borderable%5D=true&columns%5B3%5D%5Bsearch%5D%5Bvalue%5D=&columns%5B3%5D%5Bsearch%5D%5Bregex%5D=false&columns%5B4%5D%5Bdata%5D=4&columns%5B4%5D%5Bname%5D=&columns%5B4%5D%5Bsearchable%5D=true&columns%5B4%5D%5Borderable%5D=true&columns%5B4%5D%5Bsearch%5D%5Bvalue%5D=&columns%5B4%5D%5Bsearch%5D%5Bregex%5D=false&columns%5B5%5D%5Bdata%5D=5&columns%5B5%5D%5Bname%5D=&columns%5B5%5D%5Bsearchable%5D=true&columns%5B5%5D%5Borderable%5D=true&columns%5B5%5D%5Bsearch%5D%5Bvalue%5D=&columns%5B5%5D%5Bsearch%5D%5Bregex%5D=false&columns%5B6%5D%5Bdata%5D=6&columns%5B6%5D%5Bname%5D=&columns%5B6%5D%5Bsearchable%5D=true&columns%5B6%5D%5Borderable%5D=true&columns%5B6%5D%5Bsearch%5D%5Bvalue%5D=&columns%5B6%5D%5Bsearch%5D%5Bregex%5D=false&order%5B0%5D%5Bcolumn%5D=0&order%5B0%5D%5Bdir%5D=desc&start=200&length=100&search%5Bvalue%5D=&search%5Bregex%5D=true&_=1626075606409').content\n",
    "    data = json.loads(tmp_data)\n",
    "    lst.append(data)\n"
   ]
  },
  {
   "cell_type": "code",
   "execution_count": 187,
   "id": "905470de",
   "metadata": {
    "scrolled": true
   },
   "outputs": [
    {
     "data": {
      "text/html": [
       "<div>\n",
       "<style scoped>\n",
       "    .dataframe tbody tr th:only-of-type {\n",
       "        vertical-align: middle;\n",
       "    }\n",
       "\n",
       "    .dataframe tbody tr th {\n",
       "        vertical-align: top;\n",
       "    }\n",
       "\n",
       "    .dataframe thead th {\n",
       "        text-align: right;\n",
       "    }\n",
       "</style>\n",
       "<table border=\"1\" class=\"dataframe\">\n",
       "  <thead>\n",
       "    <tr style=\"text-align: right;\">\n",
       "      <th></th>\n",
       "      <th>연번</th>\n",
       "      <th>환자</th>\n",
       "      <th>확진일</th>\n",
       "      <th>거주지</th>\n",
       "      <th>여행력</th>\n",
       "      <th>접촉력</th>\n",
       "      <th>퇴원현황</th>\n",
       "    </tr>\n",
       "  </thead>\n",
       "  <tbody>\n",
       "    <tr>\n",
       "      <th>0</th>\n",
       "      <td>&lt;p class='corona19_no'&gt;30000&lt;/p&gt;</td>\n",
       "      <td>95868</td>\n",
       "      <td>2021-03-14</td>\n",
       "      <td>강남구</td>\n",
       "      <td>-</td>\n",
       "      <td>기타 확진자 접촉</td>\n",
       "      <td>&lt;b class='status1'&gt;퇴원&lt;/b&gt;</td>\n",
       "    </tr>\n",
       "    <tr>\n",
       "      <th>1</th>\n",
       "      <td>&lt;p class='corona19_no'&gt;29999&lt;/p&gt;</td>\n",
       "      <td>95649</td>\n",
       "      <td>2021-03-14</td>\n",
       "      <td>용산구</td>\n",
       "      <td>-</td>\n",
       "      <td>감염경로 조사중</td>\n",
       "      <td>&lt;b class='status1'&gt;퇴원&lt;/b&gt;</td>\n",
       "    </tr>\n",
       "    <tr>\n",
       "      <th>2</th>\n",
       "      <td>&lt;p class='corona19_no'&gt;29998&lt;/p&gt;</td>\n",
       "      <td>95809</td>\n",
       "      <td>2021-03-14</td>\n",
       "      <td>관악구</td>\n",
       "      <td>-</td>\n",
       "      <td>영등포구 소재 빌딩 관련</td>\n",
       "      <td>&lt;b class='status1'&gt;퇴원&lt;/b&gt;</td>\n",
       "    </tr>\n",
       "    <tr>\n",
       "      <th>3</th>\n",
       "      <td>&lt;p class='corona19_no'&gt;29997&lt;/p&gt;</td>\n",
       "      <td>95805</td>\n",
       "      <td>2021-03-14</td>\n",
       "      <td>송파구</td>\n",
       "      <td>-</td>\n",
       "      <td>기타 확진자 접촉</td>\n",
       "      <td>&lt;b class='status1'&gt;퇴원&lt;/b&gt;</td>\n",
       "    </tr>\n",
       "    <tr>\n",
       "      <th>4</th>\n",
       "      <td>&lt;p class='corona19_no'&gt;29996&lt;/p&gt;</td>\n",
       "      <td>95812</td>\n",
       "      <td>2021-03-14</td>\n",
       "      <td>송파구</td>\n",
       "      <td>-</td>\n",
       "      <td>송파구 소재 병원 관련('21.3.)</td>\n",
       "      <td>&lt;b class='status1'&gt;퇴원&lt;/b&gt;</td>\n",
       "    </tr>\n",
       "    <tr>\n",
       "      <th>...</th>\n",
       "      <td>...</td>\n",
       "      <td>...</td>\n",
       "      <td>...</td>\n",
       "      <td>...</td>\n",
       "      <td>...</td>\n",
       "      <td>...</td>\n",
       "      <td>...</td>\n",
       "    </tr>\n",
       "    <tr>\n",
       "      <th>29995</th>\n",
       "      <td>&lt;p class='corona19_no'&gt;5&lt;/p&gt;</td>\n",
       "      <td>9</td>\n",
       "      <td>2020-01-31</td>\n",
       "      <td>성북구</td>\n",
       "      <td>-</td>\n",
       "      <td>기타 확진자 접촉</td>\n",
       "      <td>&lt;b class='status1'&gt;퇴원&lt;/b&gt;</td>\n",
       "    </tr>\n",
       "    <tr>\n",
       "      <th>29996</th>\n",
       "      <td>&lt;p class='corona19_no'&gt;4&lt;/p&gt;</td>\n",
       "      <td>7</td>\n",
       "      <td>2020-01-30</td>\n",
       "      <td>마포구</td>\n",
       "      <td>중국</td>\n",
       "      <td>해외유입</td>\n",
       "      <td>&lt;b class='status1'&gt;퇴원&lt;/b&gt;</td>\n",
       "    </tr>\n",
       "    <tr>\n",
       "      <th>29997</th>\n",
       "      <td>&lt;p class='corona19_no'&gt;3&lt;/p&gt;</td>\n",
       "      <td>6</td>\n",
       "      <td>2020-01-30</td>\n",
       "      <td>종로구</td>\n",
       "      <td>-</td>\n",
       "      <td>종로구 집단발병</td>\n",
       "      <td>&lt;b class='status1'&gt;퇴원&lt;/b&gt;</td>\n",
       "    </tr>\n",
       "    <tr>\n",
       "      <th>29998</th>\n",
       "      <td>&lt;p class='corona19_no'&gt;2&lt;/p&gt;</td>\n",
       "      <td>5</td>\n",
       "      <td>2020-01-30</td>\n",
       "      <td>중랑구</td>\n",
       "      <td>중국</td>\n",
       "      <td>해외유입</td>\n",
       "      <td>&lt;b class='status1'&gt;퇴원&lt;/b&gt;</td>\n",
       "    </tr>\n",
       "    <tr>\n",
       "      <th>29999</th>\n",
       "      <td>&lt;p class='corona19_no'&gt;1&lt;/p&gt;</td>\n",
       "      <td>2</td>\n",
       "      <td>2020-01-24</td>\n",
       "      <td>강서구</td>\n",
       "      <td>중국</td>\n",
       "      <td>해외유입</td>\n",
       "      <td>&lt;b class='status1'&gt;퇴원&lt;/b&gt;</td>\n",
       "    </tr>\n",
       "  </tbody>\n",
       "</table>\n",
       "<p>30000 rows × 7 columns</p>\n",
       "</div>"
      ],
      "text/plain": [
       "                                     연번     환자         확진일  거주지 여행력  \\\n",
       "0      <p class='corona19_no'>30000</p>  95868  2021-03-14  강남구   -   \n",
       "1      <p class='corona19_no'>29999</p>  95649  2021-03-14  용산구   -   \n",
       "2      <p class='corona19_no'>29998</p>  95809  2021-03-14  관악구   -   \n",
       "3      <p class='corona19_no'>29997</p>  95805  2021-03-14  송파구   -   \n",
       "4      <p class='corona19_no'>29996</p>  95812  2021-03-14  송파구   -   \n",
       "...                                 ...    ...         ...  ...  ..   \n",
       "29995      <p class='corona19_no'>5</p>      9  2020-01-31  성북구   -   \n",
       "29996      <p class='corona19_no'>4</p>      7  2020-01-30  마포구  중국   \n",
       "29997      <p class='corona19_no'>3</p>      6  2020-01-30  종로구   -   \n",
       "29998      <p class='corona19_no'>2</p>      5  2020-01-30  중랑구  중국   \n",
       "29999      <p class='corona19_no'>1</p>      2  2020-01-24  강서구  중국   \n",
       "\n",
       "                        접촉력                       퇴원현황  \n",
       "0                 기타 확진자 접촉  <b class='status1'>퇴원</b>  \n",
       "1                  감염경로 조사중  <b class='status1'>퇴원</b>  \n",
       "2             영등포구 소재 빌딩 관련  <b class='status1'>퇴원</b>  \n",
       "3                 기타 확진자 접촉  <b class='status1'>퇴원</b>  \n",
       "4      송파구 소재 병원 관련('21.3.)  <b class='status1'>퇴원</b>  \n",
       "...                     ...                        ...  \n",
       "29995             기타 확진자 접촉  <b class='status1'>퇴원</b>  \n",
       "29996                  해외유입  <b class='status1'>퇴원</b>  \n",
       "29997              종로구 집단발병  <b class='status1'>퇴원</b>  \n",
       "29998                  해외유입  <b class='status1'>퇴원</b>  \n",
       "29999                  해외유입  <b class='status1'>퇴원</b>  \n",
       "\n",
       "[30000 rows x 7 columns]"
      ]
     },
     "execution_count": 187,
     "metadata": {},
     "output_type": "execute_result"
    }
   ],
   "source": [
    "pd.DataFrame(sum(pd.DataFrame(lst)['data'], []), columns=['연번', '환자', '확진일', '거주지', '여행력', '접촉력', '퇴원현황'])"
   ]
  }
 ],
 "metadata": {
  "kernelspec": {
   "display_name": "Python 3",
   "language": "python",
   "name": "python3"
  },
  "language_info": {
   "codemirror_mode": {
    "name": "ipython",
    "version": 3
   },
   "file_extension": ".py",
   "mimetype": "text/x-python",
   "name": "python",
   "nbconvert_exporter": "python",
   "pygments_lexer": "ipython3",
   "version": "3.7.10"
  },
  "toc": {
   "base_numbering": 1,
   "nav_menu": {},
   "number_sections": true,
   "sideBar": true,
   "skip_h1_title": false,
   "title_cell": "Table of Contents",
   "title_sidebar": "Contents",
   "toc_cell": false,
   "toc_position": {},
   "toc_section_display": true,
   "toc_window_display": false
  },
  "varInspector": {
   "cols": {
    "lenName": 16,
    "lenType": 16,
    "lenVar": 40
   },
   "kernels_config": {
    "python": {
     "delete_cmd_postfix": "",
     "delete_cmd_prefix": "del ",
     "library": "var_list.py",
     "varRefreshCmd": "print(var_dic_list())"
    },
    "r": {
     "delete_cmd_postfix": ") ",
     "delete_cmd_prefix": "rm(",
     "library": "var_list.r",
     "varRefreshCmd": "cat(var_dic_list()) "
    }
   },
   "position": {
    "height": "144.848px",
    "left": "539.429px",
    "right": "20px",
    "top": "8px",
    "width": "350px"
   },
   "types_to_exclude": [
    "module",
    "function",
    "builtin_function_or_method",
    "instance",
    "_Feature"
   ],
   "window_display": true
  }
 },
 "nbformat": 4,
 "nbformat_minor": 5
}
